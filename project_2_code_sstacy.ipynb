{
 "cells": [
  {
   "cell_type": "code",
   "execution_count": 1,
   "metadata": {
    "ExecuteTime": {
     "end_time": "2018-11-12T07:39:06.204310Z",
     "start_time": "2018-11-12T07:39:05.835514Z"
    }
   },
   "outputs": [],
   "source": [
    "import numpy as np\n",
    "import time\n",
    "import cv2\n",
    "from boosting_classifier import Boosting_Classifier\n",
    "from visualizer import Visualizer\n",
    "from im_process import normalize\n",
    "from utils import *"
   ]
  },
  {
   "cell_type": "code",
   "execution_count": 2,
   "metadata": {
    "ExecuteTime": {
     "end_time": "2018-11-12T07:39:06.208232Z",
     "start_time": "2018-11-12T07:39:06.205670Z"
    }
   },
   "outputs": [],
   "source": [
    "flag_subset = True\n",
    "boosting_type = 'Ada' #'Real' or 'Ada'\n",
    "training_epochs = 100 if not flag_subset else 20\n",
    "act_cache_dir = 'wc_activations.npy' if not flag_subset else 'wc_activations_subset.npy'\n",
    "chosen_wc_cache_dir = 'chosen_wcs.pkl' if not flag_subset else 'chosen_wcs_subset.pkl'"
   ]
  },
  {
   "cell_type": "code",
   "execution_count": 3,
   "metadata": {
    "ExecuteTime": {
     "end_time": "2018-11-12T07:39:07.051003Z",
     "start_time": "2018-11-12T07:39:06.209875Z"
    }
   },
   "outputs": [
    {
     "name": "stdout",
     "output_type": "stream",
     "text": [
      "Load in 200 images, 100 faces, 100 non-faces\n"
     ]
    }
   ],
   "source": [
    "#data configurations\n",
    "pos_data_dir = '../newface16'\n",
    "neg_data_dir = '../nonface16'\n",
    "image_w = 16\n",
    "image_h = 16\n",
    "data, labels = load_data(pos_data_dir, neg_data_dir, image_w, image_h, flag_subset)\n",
    "data = integrate_images(normalize(data))"
   ]
  },
  {
   "cell_type": "code",
   "execution_count": 4,
   "metadata": {
    "ExecuteTime": {
     "end_time": "2018-11-12T07:39:07.054464Z",
     "start_time": "2018-11-12T07:39:07.052526Z"
    }
   },
   "outputs": [],
   "source": [
    "#number of bins for boosting\n",
    "num_bins = 25\n",
    "\n",
    "#number of cpus for parallel computing\n",
    "num_cores = 8 if not flag_subset else 1 #always use 1 when debugging"
   ]
  },
  {
   "cell_type": "code",
   "execution_count": 5,
   "metadata": {
    "ExecuteTime": {
     "end_time": "2018-11-12T07:39:07.090881Z",
     "start_time": "2018-11-12T07:39:07.055748Z"
    }
   },
   "outputs": [],
   "source": [
    "#create Haar filters\n",
    "filters = generate_Haar_filters(4, 4, 16, 16, image_w, image_h, flag_subset)"
   ]
  },
  {
   "cell_type": "code",
   "execution_count": 6,
   "metadata": {
    "ExecuteTime": {
     "end_time": "2018-11-12T07:39:07.094624Z",
     "start_time": "2018-11-12T07:39:07.092354Z"
    }
   },
   "outputs": [],
   "source": [
    "#create visualizer to draw histograms, roc curves and best weak classifier accuracies\n",
    "drawer = Visualizer([10, 20, 50, 100], [1, 10, 20, 50, 100])"
   ]
  },
  {
   "cell_type": "code",
   "execution_count": 7,
   "metadata": {
    "ExecuteTime": {
     "end_time": "2018-11-12T07:39:07.099448Z",
     "start_time": "2018-11-12T07:39:07.096057Z"
    }
   },
   "outputs": [],
   "source": [
    "#create boost classifier with a pool of weak classifier\n",
    "boost = Boosting_Classifier(filters, data, labels, training_epochs, num_bins, drawer, num_cores, boosting_type)"
   ]
  },
  {
   "cell_type": "code",
   "execution_count": 8,
   "metadata": {
    "ExecuteTime": {
     "end_time": "2018-11-12T07:39:07.106978Z",
     "start_time": "2018-11-12T07:39:07.100609Z"
    },
    "scrolled": true
   },
   "outputs": [
    {
     "name": "stdout",
     "output_type": "stream",
     "text": [
      "Calcuate activations for 1000 weak classifiers, using 200 imags.\n",
      "[Find cached activations, wc_activations_subset.npy loading...]\n",
      "0.002511 seconds for activation calculation\n"
     ]
    }
   ],
   "source": [
    "#calculate filter values for all training images\n",
    "start = time.clock()\n",
    "boost.calculate_training_activations(act_cache_dir, act_cache_dir)\n",
    "end = time.clock()\n",
    "print('%f seconds for activation calculation' % (end - start))"
   ]
  },
  {
   "cell_type": "code",
   "execution_count": 9,
   "metadata": {
    "ExecuteTime": {
     "end_time": "2018-11-12T07:39:07.110374Z",
     "start_time": "2018-11-12T07:39:07.108493Z"
    }
   },
   "outputs": [],
   "source": [
    "wc1 = boost.weak_classifiers[0]"
   ]
  },
  {
   "cell_type": "code",
   "execution_count": 10,
   "metadata": {
    "ExecuteTime": {
     "end_time": "2018-11-12T07:39:07.113794Z",
     "start_time": "2018-11-12T07:39:07.111596Z"
    }
   },
   "outputs": [],
   "source": [
    "weights = [1/200.0]*200"
   ]
  },
  {
   "cell_type": "code",
   "execution_count": 11,
   "metadata": {
    "ExecuteTime": {
     "end_time": "2018-11-12T07:39:07.117515Z",
     "start_time": "2018-11-12T07:39:07.115301Z"
    }
   },
   "outputs": [],
   "source": [
    "threshold = 1\n",
    "preds = wc1.make_classification_predictions(threshold)"
   ]
  },
  {
   "cell_type": "code",
   "execution_count": 12,
   "metadata": {
    "ExecuteTime": {
     "end_time": "2018-11-12T07:39:07.122503Z",
     "start_time": "2018-11-12T07:39:07.118818Z"
    }
   },
   "outputs": [],
   "source": [
    "weighted_error = wc1.weighted_error_calc(weights, labels, preds)"
   ]
  },
  {
   "cell_type": "code",
   "execution_count": 13,
   "metadata": {
    "ExecuteTime": {
     "end_time": "2018-11-12T07:39:07.125878Z",
     "start_time": "2018-11-12T07:39:07.123712Z"
    }
   },
   "outputs": [],
   "source": [
    "error_list, pol_list = wc1.errors_with_correct_polarities([weighted_error, .6])"
   ]
  },
  {
   "cell_type": "code",
   "execution_count": 14,
   "metadata": {
    "ExecuteTime": {
     "end_time": "2018-11-12T07:39:07.136014Z",
     "start_time": "2018-11-12T07:39:07.127656Z"
    }
   },
   "outputs": [
    {
     "data": {
      "text/plain": [
       "([0.49499999999999966,\n",
       "  0.49499999999999966,\n",
       "  0.49499999999999966,\n",
       "  0.49499999999999966,\n",
       "  0.49499999999999966,\n",
       "  0.49499999999999966,\n",
       "  0.49499999999999966,\n",
       "  0.49499999999999966,\n",
       "  0.49499999999999966,\n",
       "  0.49499999999999966,\n",
       "  0.49499999999999966,\n",
       "  0.49499999999999966,\n",
       "  0.49499999999999966,\n",
       "  0.49499999999999966,\n",
       "  0.49499999999999966,\n",
       "  0.49499999999999966,\n",
       "  0.49499999999999966,\n",
       "  0.49499999999999966,\n",
       "  0.49499999999999966,\n",
       "  0.49499999999999966,\n",
       "  0.48999999999999966,\n",
       "  0.48999999999999966,\n",
       "  0.48999999999999966,\n",
       "  0.48999999999999966,\n",
       "  0.48999999999999966,\n",
       "  0.48999999999999966,\n",
       "  0.48999999999999966,\n",
       "  0.49499999999999966,\n",
       "  0.47999999999999965,\n",
       "  0.46999999999999964,\n",
       "  0.46999999999999964,\n",
       "  0.45999999999999963,\n",
       "  0.45999999999999963,\n",
       "  0.46499999999999964,\n",
       "  0.49499999999999966,\n",
       "  0.4850000000000003,\n",
       "  0.4400000000000003,\n",
       "  0.4900000000000003,\n",
       "  0.46999999999999964,\n",
       "  0.4850000000000003,\n",
       "  0.4900000000000003,\n",
       "  0.4850000000000003,\n",
       "  0.4800000000000003,\n",
       "  0.4900000000000003,\n",
       "  0.49500000000000033,\n",
       "  0.4900000000000003,\n",
       "  0.4850000000000003,\n",
       "  0.4900000000000003,\n",
       "  0.4900000000000003,\n",
       "  0.49999999999999967],\n",
       " 0.4400000000000003,\n",
       " 1,\n",
       " -0.1414965986394563)"
      ]
     },
     "execution_count": 14,
     "metadata": {},
     "output_type": "execute_result"
    }
   ],
   "source": [
    "wc1.calc_error(weights, labels)"
   ]
  },
  {
   "cell_type": "code",
   "execution_count": 15,
   "metadata": {
    "ExecuteTime": {
     "end_time": "2018-11-12T07:39:07.140887Z",
     "start_time": "2018-11-12T07:39:07.137570Z"
    }
   },
   "outputs": [
    {
     "data": {
      "text/plain": [
       "1"
      ]
     },
     "execution_count": 15,
     "metadata": {},
     "output_type": "execute_result"
    }
   ],
   "source": [
    "error_list.index(min(error_list))"
   ]
  },
  {
   "cell_type": "code",
   "execution_count": null,
   "metadata": {},
   "outputs": [],
   "source": []
  },
  {
   "cell_type": "code",
   "execution_count": 16,
   "metadata": {
    "ExecuteTime": {
     "end_time": "2018-11-12T07:39:07.144781Z",
     "start_time": "2018-11-12T07:39:07.142456Z"
    }
   },
   "outputs": [],
   "source": [
    "#boost.train(chosen_wc_cache_dir)"
   ]
  },
  {
   "cell_type": "code",
   "execution_count": 17,
   "metadata": {
    "ExecuteTime": {
     "end_time": "2018-11-12T07:39:07.148488Z",
     "start_time": "2018-11-12T07:39:07.146296Z"
    }
   },
   "outputs": [],
   "source": [
    "#boost.visualize()"
   ]
  },
  {
   "cell_type": "code",
   "execution_count": 18,
   "metadata": {
    "ExecuteTime": {
     "end_time": "2018-11-12T07:39:07.153557Z",
     "start_time": "2018-11-12T07:39:07.150043Z"
    }
   },
   "outputs": [],
   "source": [
    "#original_img = cv2.imread('../Testing_Images/Face_1.jpg', cv2.IMREAD_GRAYSCALE)\n",
    "#result_img = boost.face_detection(original_img)\n",
    "#cv2.imwrite('Result_img_%s.png' % boosting_type, result_img)"
   ]
  }
 ],
 "metadata": {
  "kernelspec": {
   "display_name": "Python 3",
   "language": "python",
   "name": "python3"
  },
  "language_info": {
   "codemirror_mode": {
    "name": "ipython",
    "version": 3
   },
   "file_extension": ".py",
   "mimetype": "text/x-python",
   "name": "python",
   "nbconvert_exporter": "python",
   "pygments_lexer": "ipython3",
   "version": "3.6.6"
  },
  "toc": {
   "base_numbering": 1,
   "nav_menu": {},
   "number_sections": true,
   "sideBar": true,
   "skip_h1_title": false,
   "title_cell": "Table of Contents",
   "title_sidebar": "Contents",
   "toc_cell": false,
   "toc_position": {},
   "toc_section_display": true,
   "toc_window_display": false
  }
 },
 "nbformat": 4,
 "nbformat_minor": 2
}
