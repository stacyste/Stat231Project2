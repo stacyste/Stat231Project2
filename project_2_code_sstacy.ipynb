{
 "cells": [
  {
   "cell_type": "code",
   "execution_count": 1,
   "metadata": {},
   "outputs": [],
   "source": [
    "import numpy as np\n",
    "import time\n",
    "import cv2\n",
    "from boosting_classifier import Boosting_Classifier\n",
    "from visualizer import Visualizer\n",
    "from im_process import normalize\n",
    "from utils import *"
   ]
  },
  {
   "cell_type": "code",
   "execution_count": 8,
   "metadata": {},
   "outputs": [],
   "source": [
    "flag_subset = True\n",
    "boosting_type = 'Ada' #'Real' or 'Ada'\n",
    "training_epochs = 100 if not flag_subset else 20\n",
    "act_cache_dir = 'wc_activations.npy' if not flag_subset else 'wc_activations_subset.npy'\n",
    "chosen_wc_cache_dir = 'chosen_wcs.pkl' if not flag_subset else 'chosen_wcs_subset.pkl'"
   ]
  },
  {
   "cell_type": "code",
   "execution_count": 15,
   "metadata": {},
   "outputs": [
    {
     "name": "stdout",
     "output_type": "stream",
     "text": [
      "Load in 200 images, 100 faces, 100 non-faces\n"
     ]
    }
   ],
   "source": [
    "#data configurations\n",
    "pos_data_dir = '../newface16'\n",
    "neg_data_dir = '../nonface16'\n",
    "image_w = 16\n",
    "image_h = 16\n",
    "data, labels = load_data(pos_data_dir, neg_data_dir, image_w, image_h, flag_subset)\n",
    "data = integrate_images(normalize(data))"
   ]
  },
  {
   "cell_type": "code",
   "execution_count": 22,
   "metadata": {},
   "outputs": [],
   "source": [
    "#number of bins for boosting\n",
    "num_bins = 25\n",
    "\n",
    "#number of cpus for parallel computing\n",
    "num_cores = 8 if not flag_subset else 1 #always use 1 when debugging"
   ]
  },
  {
   "cell_type": "code",
   "execution_count": 5,
   "metadata": {},
   "outputs": [],
   "source": [
    "#create Haar filters\n",
    "filters = generate_Haar_filters(4, 4, 16, 16, image_w, image_h, flag_subset)"
   ]
  },
  {
   "cell_type": "code",
   "execution_count": 6,
   "metadata": {},
   "outputs": [],
   "source": [
    "#create visualizer to draw histograms, roc curves and best weak classifier accuracies\n",
    "drawer = Visualizer([10, 20, 50, 100], [1, 10, 20, 50, 100])"
   ]
  },
  {
   "cell_type": "code",
   "execution_count": 23,
   "metadata": {},
   "outputs": [],
   "source": [
    "#create boost classifier with a pool of weak classifier\n",
    "boost = Boosting_Classifier(filters, data, labels, training_epochs, num_bins, drawer, num_cores, boosting_type)"
   ]
  },
  {
   "cell_type": "code",
   "execution_count": 25,
   "metadata": {
    "scrolled": true
   },
   "outputs": [
    {
     "name": "stdout",
     "output_type": "stream",
     "text": [
      "Calcuate activations for 1000 weak classifiers, using 200 imags.\n",
      "[Find cached activations, wc_activations_subset.npy loading...]\n",
      "0.003042 seconds for activation calculation\n"
     ]
    }
   ],
   "source": [
    "#calculate filter values for all training images\n",
    "start = time.clock()\n",
    "boost.calculate_training_activations(act_cache_dir, act_cache_dir)\n",
    "end = time.clock()\n",
    "print('%f seconds for activation calculation' % (end - start))"
   ]
  },
  {
   "cell_type": "code",
   "execution_count": 21,
   "metadata": {},
   "outputs": [
    {
     "data": {
      "text/plain": [
       "method"
      ]
     },
     "execution_count": 21,
     "metadata": {},
     "output_type": "execute_result"
    }
   ],
   "source": [
    "first_wc = boost.weak_classifiers[0]\n",
    "type(first_wc.apply_filter)"
   ]
  },
  {
   "cell_type": "code",
   "execution_count": null,
   "metadata": {},
   "outputs": [],
   "source": [
    "boost.train(chosen_wc_cache_dir)"
   ]
  },
  {
   "cell_type": "code",
   "execution_count": 14,
   "metadata": {},
   "outputs": [
    {
     "name": "stderr",
     "output_type": "stream",
     "text": [
      "No handles with labels found to put in legend.\n",
      "No handles with labels found to put in legend.\n"
     ]
    },
    {
     "data": {
      "image/png": "[encoded data removed]",
      "text/plain": [
       "<Figure size 432x288 with 1 Axes>"
      ]
     },
     "metadata": {
      "needs_background": "light"
     },
     "output_type": "display_data"
    },
    {
     "data": {
      "image/png": "[encoded data removed]",
      "text/plain": [
       "<Figure size 432x288 with 1 Axes>"
      ]
     },
     "metadata": {
      "needs_background": "light"
     },
     "output_type": "display_data"
    }
   ],
   "source": [
    "boost.visualize()"
   ]
  },
  {
   "cell_type": "code",
   "execution_count": null,
   "metadata": {},
   "outputs": [],
   "source": [
    "original_img = cv2.imread('../Testing_Images/Face_1.jpg', cv2.IMREAD_GRAYSCALE)\n",
    "result_img = boost.face_detection(original_img)\n",
    "cv2.imwrite('Result_img_%s.png' % boosting_type, result_img)"
   ]
  }
 ],
 "metadata": {
  "kernelspec": {
   "display_name": "Python 3",
   "language": "python",
   "name": "python3"
  },
  "language_info": {
   "codemirror_mode": {
    "name": "ipython",
    "version": 3
   },
   "file_extension": ".py",
   "mimetype": "text/x-python",
   "name": "python",
   "nbconvert_exporter": "python",
   "pygments_lexer": "ipython3",
   "version": "3.6.6"
  }
 },
 "nbformat": 4,
 "nbformat_minor": 2
}
