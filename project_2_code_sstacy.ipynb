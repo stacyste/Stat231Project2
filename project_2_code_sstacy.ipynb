{
 "cells": [
  {
   "cell_type": "code",
   "execution_count": 1,
   "metadata": {
    "ExecuteTime": {
     "end_time": "2018-11-16T07:29:15.046712Z",
     "start_time": "2018-11-16T07:29:14.675974Z"
    }
   },
   "outputs": [],
   "source": [
    "import numpy as np\n",
    "import time\n",
    "import cv2\n",
    "from boosting_classifier import Boosting_Classifier\n",
    "from visualizer import Visualizer\n",
    "from im_process import normalize\n",
    "from utils import *"
   ]
  },
  {
   "cell_type": "code",
   "execution_count": 2,
   "metadata": {
    "ExecuteTime": {
     "end_time": "2018-11-16T07:29:15.050434Z",
     "start_time": "2018-11-16T07:29:15.048090Z"
    }
   },
   "outputs": [],
   "source": [
    "flag_subset = True\n",
    "boosting_type = 'Ada' #'Real' or 'Ada'\n",
    "training_epochs = 100 if not flag_subset else 20\n",
    "act_cache_dir = 'tst_wc_activations.npy' if not flag_subset else 'tst_wc_activations_subset.npy'\n",
    "chosen_wc_cache_dir = 'tst_chosen_wcs.pkl' if not flag_subset else 'tst_chosen_wcs_subset.pkl'"
   ]
  },
  {
   "cell_type": "code",
   "execution_count": 3,
   "metadata": {
    "ExecuteTime": {
     "end_time": "2018-11-16T07:29:15.921918Z",
     "start_time": "2018-11-16T07:29:15.084182Z"
    }
   },
   "outputs": [
    {
     "name": "stdout",
     "output_type": "stream",
     "text": [
      "Load in 200 images, 100 faces, 100 non-faces\n"
     ]
    }
   ],
   "source": [
    "#data configurations\n",
    "pos_data_dir = '../newface16'\n",
    "neg_data_dir = '../nonface16'\n",
    "image_w = 16\n",
    "image_h = 16\n",
    "data, labels = load_data(pos_data_dir, neg_data_dir, image_w, image_h, flag_subset)\n",
    "data = integrate_images(normalize(data))"
   ]
  },
  {
   "cell_type": "code",
   "execution_count": 4,
   "metadata": {
    "ExecuteTime": {
     "end_time": "2018-11-16T07:29:15.925754Z",
     "start_time": "2018-11-16T07:29:15.923370Z"
    }
   },
   "outputs": [],
   "source": [
    "#number of bins for boosting\n",
    "num_bins = 25\n",
    "\n",
    "#number of cpus for parallel computing\n",
    "num_cores = 8 if not flag_subset else 1 #always use 1 when debugging"
   ]
  },
  {
   "cell_type": "code",
   "execution_count": 5,
   "metadata": {
    "ExecuteTime": {
     "end_time": "2018-11-16T07:29:15.966824Z",
     "start_time": "2018-11-16T07:29:15.927465Z"
    }
   },
   "outputs": [],
   "source": [
    "#create Haar filters\n",
    "filters = generate_Haar_filters(4, 4, 16, 16, image_w, image_h, flag_subset)"
   ]
  },
  {
   "cell_type": "code",
   "execution_count": 6,
   "metadata": {
    "ExecuteTime": {
     "end_time": "2018-11-16T07:29:16.134185Z",
     "start_time": "2018-11-16T07:29:16.129262Z"
    }
   },
   "outputs": [],
   "source": [
    "#create visualizer to draw histograms, roc curves and best weak classifier accuracies\n",
    "drawer = Visualizer([10, 20, 50, 100], [1, 10, 20, 50, 100])"
   ]
  },
  {
   "cell_type": "code",
   "execution_count": 7,
   "metadata": {
    "ExecuteTime": {
     "end_time": "2018-11-16T07:29:17.717532Z",
     "start_time": "2018-11-16T07:29:17.708629Z"
    }
   },
   "outputs": [],
   "source": [
    "#create boost classifier with a pool of weak classifier\n",
    "boost = Boosting_Classifier(filters, data, labels, training_epochs, num_bins, drawer, num_cores, boosting_type)"
   ]
  },
  {
   "cell_type": "code",
   "execution_count": 8,
   "metadata": {
    "ExecuteTime": {
     "end_time": "2018-11-16T07:29:17.971244Z",
     "start_time": "2018-11-16T07:29:17.962656Z"
    },
    "scrolled": true
   },
   "outputs": [
    {
     "name": "stdout",
     "output_type": "stream",
     "text": [
      "Calcuate activations for 1000 weak classifiers, using 200 imags.\n",
      "[Find cached activations, tst_wc_activations_subset.npy loading...]\n",
      "0.006380 seconds for activation calculation\n"
     ]
    }
   ],
   "source": [
    "#calculate filter values for all training images\n",
    "start = time.clock()\n",
    "activations = boost.calculate_training_activations(act_cache_dir, act_cache_dir)\n",
    "end = time.clock()\n",
    "print('%f seconds for activation calculation' % (end - start))"
   ]
  },
  {
   "cell_type": "markdown",
   "metadata": {},
   "source": [
    "# Code Testing"
   ]
  },
  {
   "cell_type": "code",
   "execution_count": null,
   "metadata": {
    "ExecuteTime": {
     "end_time": "2018-11-13T08:03:36.729138Z",
     "start_time": "2018-11-13T08:03:36.723430Z"
    }
   },
   "outputs": [],
   "source": [
    "#weight initialization\n",
    "weights = [1/200.0]*200"
   ]
  },
  {
   "cell_type": "markdown",
   "metadata": {},
   "source": [
    "## Single Weak Classifier - Adaboost WC Object"
   ]
  },
  {
   "cell_type": "code",
   "execution_count": null,
   "metadata": {
    "ExecuteTime": {
     "end_time": "2018-11-13T07:44:12.856008Z",
     "start_time": "2018-11-13T07:44:12.852125Z"
    }
   },
   "outputs": [],
   "source": [
    "wc1 = boost.weak_classifiers[0]"
   ]
  },
  {
   "cell_type": "code",
   "execution_count": null,
   "metadata": {
    "ExecuteTime": {
     "end_time": "2018-11-13T07:44:12.860003Z",
     "start_time": "2018-11-13T07:44:12.857135Z"
    }
   },
   "outputs": [],
   "source": [
    "print(wc1.polarity)\n",
    "print(wc1.threshold)"
   ]
  },
  {
   "cell_type": "code",
   "execution_count": null,
   "metadata": {
    "ExecuteTime": {
     "end_time": "2018-11-13T07:44:12.868959Z",
     "start_time": "2018-11-13T07:44:12.861188Z"
    }
   },
   "outputs": [],
   "source": [
    "min_error = wc1.calc_error(weights, labels)"
   ]
  },
  {
   "cell_type": "code",
   "execution_count": null,
   "metadata": {
    "ExecuteTime": {
     "end_time": "2018-11-13T07:44:12.874633Z",
     "start_time": "2018-11-13T07:44:12.870197Z"
    }
   },
   "outputs": [],
   "source": [
    "min_error"
   ]
  },
  {
   "cell_type": "code",
   "execution_count": null,
   "metadata": {
    "ExecuteTime": {
     "end_time": "2018-11-13T07:44:12.878265Z",
     "start_time": "2018-11-13T07:44:12.875724Z"
    },
    "scrolled": true
   },
   "outputs": [],
   "source": [
    "print(wc1.polarity)\n",
    "print(wc1.threshold)"
   ]
  },
  {
   "cell_type": "markdown",
   "metadata": {},
   "source": [
    "Filter visualization"
   ]
  },
  {
   "cell_type": "code",
   "execution_count": null,
   "metadata": {},
   "outputs": [],
   "source": [
    "# inputs are the array, single image shape, total number of images, grid size, and total image size\n",
    "# outputs a grid of matplotlib grayscale images from the vectors\n",
    "def plot_vector_as_grayscale_image(vec, img_shape, n_images = 1, grid_size = (1,1), figsize = (5,5)):\n",
    "   \n",
    "    fig = plt.figure(figsize = figsize)\n",
    "    fig.subplots_adjust(left = 0, right = 1, bottom = 0, top = 1, \n",
    "                        hspace = 0.05, wspace = 0.05)\n",
    "    \n",
    "    if n_images == 1:\n",
    "        ax = fig.add_subplot(1, 1, 1, xticks=[], yticks=[])\n",
    "        ax.imshow(vec.reshape(img_shape[0:2]), cmap = 'gray')\n",
    "        \n",
    "    else:\n",
    "        for i in range(n_images):\n",
    "            ax = fig.add_subplot(grid_size[0], grid_size[1], i+1, xticks=[], yticks=[])\n",
    "            ax.imshow(vec[i].reshape(img_shape[0:2]), cmap = 'gray')\n",
    "    \n",
    "    return"
   ]
  },
  {
   "cell_type": "code",
   "execution_count": 26,
   "metadata": {
    "ExecuteTime": {
     "end_time": "2018-11-16T07:56:10.801911Z",
     "start_time": "2018-11-16T07:56:10.785924Z"
    }
   },
   "outputs": [],
   "source": [
    "import matplotlib.patches as patches\n",
    "def visualize_haar_filter(topwcs, grid_size = (4,5), figsize = (10,8)):\n",
    "    fig = plt.figure(figsize = figsize)\n",
    "    fig.subplots_adjust(left = 0, right = 1, bottom = 0, top = 1, \n",
    "                        hspace = 0.05, wspace = 0.05)\n",
    "    for indx, wc in enumerate(topwcs):\n",
    "        \n",
    "        ax = fig.add_subplot(grid_size[0], grid_size[1], indx+1, xticks=[], yticks=[])\n",
    "        ax.set_xlim(0, 16)\n",
    "        ax.set_ylim(0, 16)\n",
    "        \n",
    "        for i in range(len(wc.plus_rects)):\n",
    "            pos_xy = (wc.plus_rects[i][0], wc.plus_rects[i][1])\n",
    "            pos_width = wc.plus_rects[i][2] -wc.plus_rects[i][0] +1\n",
    "            pos_height = wc.plus_rects[i][3] - wc.plus_rects[i][1] +1\n",
    "\n",
    "            rect_pos = patches.Rectangle(pos_xy,pos_width,pos_height, edgecolor = 'black', facecolor='black')\n",
    "            ax.add_patch(rect_pos)\n",
    "\n",
    "        for j in range(len(wc.minus_rects)):\n",
    "            neg_xy = (wc.minus_rects[j][0], wc.minus_rects[j][1])\n",
    "            neg_width = wc.minus_rects[j][2] -wc.minus_rects[j][0] +1\n",
    "            neg_height = wc.minus_rects[j][3] - wc.minus_rects[j][1] +1\n",
    "\n",
    "            rect_neg = patches.Rectangle(neg_xy,neg_width,neg_height,linewidth=1,edgecolor='black',facecolor='none')\n",
    "            ax.add_patch(rect_neg)\n",
    "    plt.show()"
   ]
  },
  {
   "cell_type": "code",
   "execution_count": null,
   "metadata": {
    "ExecuteTime": {
     "end_time": "2018-11-13T22:48:46.739217Z",
     "start_time": "2018-11-13T22:48:46.736857Z"
    }
   },
   "outputs": [],
   "source": [
    "print(boost.weak_classifiers[900].plus_rects)\n",
    "print(boost.weak_classifiers[900].minus_rects)"
   ]
  },
  {
   "cell_type": "code",
   "execution_count": 27,
   "metadata": {
    "ExecuteTime": {
     "end_time": "2018-11-16T07:56:12.861235Z",
     "start_time": "2018-11-16T07:56:12.543089Z"
    },
    "scrolled": true
   },
   "outputs": [
    {
     "data": {
      "image/png": "[encoded data removed]",
      "text/plain": [
       "<Figure size 720x576 with 20 Axes>"
      ]
     },
     "metadata": {},
     "output_type": "display_data"
    }
   ],
   "source": [
    "visualize_haar_filter(boost.weak_classifiers[900:920])"
   ]
  },
  {
   "cell_type": "markdown",
   "metadata": {},
   "source": [
    "## Multiple weak classifiers as attributes of Boosting Classifier object"
   ]
  },
  {
   "cell_type": "code",
   "execution_count": null,
   "metadata": {
    "ExecuteTime": {
     "end_time": "2018-11-13T07:44:12.994459Z",
     "start_time": "2018-11-13T07:44:12.991379Z"
    }
   },
   "outputs": [],
   "source": [
    "print(boost.weak_classifiers[0].polarity)\n",
    "print(boost.weak_classifiers[0].threshold)\n",
    "\n",
    "print(boost.weak_classifiers[1].polarity)\n",
    "print(boost.weak_classifiers[1].threshold)"
   ]
  },
  {
   "cell_type": "code",
   "execution_count": null,
   "metadata": {
    "ExecuteTime": {
     "end_time": "2018-11-13T07:44:17.917084Z",
     "start_time": "2018-11-13T07:44:12.995718Z"
    }
   },
   "outputs": [],
   "source": [
    "classifier_errors = boost.weak_classifier_errors(weights)"
   ]
  },
  {
   "cell_type": "code",
   "execution_count": null,
   "metadata": {
    "ExecuteTime": {
     "end_time": "2018-11-13T07:44:17.921395Z",
     "start_time": "2018-11-13T07:44:17.918222Z"
    }
   },
   "outputs": [],
   "source": [
    "print(boost.weak_classifiers[0].polarity)\n",
    "print(boost.weak_classifiers[0].threshold)\n",
    "\n",
    "print(boost.weak_classifiers[1].polarity)\n",
    "print(boost.weak_classifiers[1].threshold)"
   ]
  },
  {
   "cell_type": "code",
   "execution_count": null,
   "metadata": {
    "ExecuteTime": {
     "end_time": "2018-11-13T07:44:17.925184Z",
     "start_time": "2018-11-13T07:44:17.922683Z"
    },
    "scrolled": true
   },
   "outputs": [],
   "source": [
    "print(classifier_errors[0])\n",
    "print(classifier_errors[1])"
   ]
  },
  {
   "cell_type": "code",
   "execution_count": 9,
   "metadata": {
    "ExecuteTime": {
     "end_time": "2018-11-16T07:31:38.809414Z",
     "start_time": "2018-11-16T07:29:24.049547Z"
    },
    "scrolled": true
   },
   "outputs": [
    {
     "name": "stderr",
     "output_type": "stream",
     "text": [
      "  5%|▌         | 1/20 [00:04<01:30,  4.77s/it]"
     ]
    },
    {
     "name": "stdout",
     "output_type": "stream",
     "text": [
      "999\n",
      "[0.205 0.21  0.21  0.215 0.21  0.215 0.215 0.22  0.215 0.235]\n"
     ]
    },
    {
     "name": "stderr",
     "output_type": "stream",
     "text": [
      "\r",
      " 10%|█         | 2/20 [00:11<01:35,  5.32s/it]"
     ]
    },
    {
     "name": "stdout",
     "output_type": "stream",
     "text": [
      "998\n",
      "[0.28184606 0.27299109 0.26426426 0.26817913 0.25630637 0.28133345\n",
      " 0.26830729 0.28235868 0.28499201 0.28576094]\n"
     ]
    },
    {
     "name": "stderr",
     "output_type": "stream",
     "text": [
      "\r",
      " 15%|█▌        | 3/20 [00:18<01:37,  5.72s/it]"
     ]
    },
    {
     "name": "stdout",
     "output_type": "stream",
     "text": [
      "997\n",
      "[0.27693244 0.29566208 0.29237849 0.28271444 0.27528571 0.29252331\n",
      " 0.27626389 0.27939087 0.29202697 0.29770247]\n"
     ]
    },
    {
     "name": "stderr",
     "output_type": "stream",
     "text": [
      "\r",
      " 20%|██        | 4/20 [00:24<01:36,  6.02s/it]"
     ]
    },
    {
     "name": "stdout",
     "output_type": "stream",
     "text": [
      "996\n",
      "[0.30199514 0.30118069 0.30843325 0.31340655 0.31889888 0.3205134\n",
      " 0.31458169 0.32101955 0.32310967 0.32371774]\n"
     ]
    },
    {
     "name": "stderr",
     "output_type": "stream",
     "text": [
      "\r",
      " 25%|██▌       | 5/20 [00:31<01:33,  6.25s/it]"
     ]
    },
    {
     "name": "stdout",
     "output_type": "stream",
     "text": [
      "995\n",
      "[0.32462565 0.3246479  0.31614568 0.32637132 0.32885247 0.32175195\n",
      " 0.32681318 0.3279694  0.3291579  0.33070296]\n"
     ]
    },
    {
     "name": "stderr",
     "output_type": "stream",
     "text": [
      "\r",
      " 30%|███       | 6/20 [00:38<01:30,  6.43s/it]"
     ]
    },
    {
     "name": "stdout",
     "output_type": "stream",
     "text": [
      "994\n",
      "[0.31702299 0.32285723 0.31583163 0.32344887 0.32347026 0.3235927\n",
      " 0.3249306  0.32814869 0.32887042 0.32970694]\n"
     ]
    },
    {
     "name": "stderr",
     "output_type": "stream",
     "text": [
      "\r",
      " 35%|███▌      | 7/20 [00:45<01:25,  6.57s/it]"
     ]
    },
    {
     "name": "stdout",
     "output_type": "stream",
     "text": [
      "993\n",
      "[0.33405811 0.33069826 0.33737454 0.33971076 0.34044236 0.33806262\n",
      " 0.33925726 0.33965108 0.34034971 0.34171379]\n"
     ]
    },
    {
     "name": "stderr",
     "output_type": "stream",
     "text": [
      "\r",
      " 40%|████      | 8/20 [00:52<01:20,  6.72s/it]"
     ]
    },
    {
     "name": "stdout",
     "output_type": "stream",
     "text": [
      "992\n",
      "[0.32533822 0.33106513 0.32902964 0.32700342 0.3243832  0.33043475\n",
      " 0.32654954 0.33155894 0.33646837 0.33673755]\n"
     ]
    },
    {
     "name": "stderr",
     "output_type": "stream",
     "text": [
      "\r",
      " 45%|████▌     | 9/20 [00:59<01:15,  6.82s/it]"
     ]
    },
    {
     "name": "stdout",
     "output_type": "stream",
     "text": [
      "991\n",
      "[0.33992549 0.3407364  0.33290509 0.34585836 0.34491099 0.3383274\n",
      " 0.34473314 0.34539191 0.34613324 0.3468608 ]\n"
     ]
    },
    {
     "name": "stderr",
     "output_type": "stream",
     "text": [
      "\r",
      " 50%|█████     | 10/20 [01:06<01:08,  6.89s/it]"
     ]
    },
    {
     "name": "stdout",
     "output_type": "stream",
     "text": [
      "990\n",
      "[0.33719928 0.33799031 0.3383814  0.35064416 0.34626618 0.34572577\n",
      " 0.34945158 0.35125733 0.35209018 0.35228596]\n"
     ]
    },
    {
     "name": "stderr",
     "output_type": "stream",
     "text": [
      "\r",
      " 55%|█████▌    | 11/20 [01:13<01:01,  6.86s/it]"
     ]
    },
    {
     "name": "stdout",
     "output_type": "stream",
     "text": [
      "989\n",
      "[0.34633472 0.34512478 0.34244119 0.33506492 0.34945504 0.35054331\n",
      " 0.35301247 0.35387668 0.3520575  0.35423282]\n"
     ]
    },
    {
     "name": "stderr",
     "output_type": "stream",
     "text": [
      "\r",
      " 60%|██████    | 12/20 [01:20<00:54,  6.86s/it]"
     ]
    },
    {
     "name": "stdout",
     "output_type": "stream",
     "text": [
      "988\n",
      "[0.33824446 0.34510065 0.34793392 0.34636161 0.34246637 0.34970342\n",
      " 0.35035455 0.35141234 0.35292267 0.35358729]\n"
     ]
    },
    {
     "name": "stderr",
     "output_type": "stream",
     "text": [
      "\r",
      " 65%|██████▌   | 13/20 [01:26<00:47,  6.84s/it]"
     ]
    },
    {
     "name": "stdout",
     "output_type": "stream",
     "text": [
      "987\n",
      "[0.33352222 0.34409429 0.34796872 0.3460695  0.34870716 0.35067887\n",
      " 0.35103646 0.35280461 0.35549027 0.35564598]\n"
     ]
    },
    {
     "name": "stderr",
     "output_type": "stream",
     "text": [
      "\r",
      " 70%|███████   | 14/20 [01:33<00:40,  6.83s/it]"
     ]
    },
    {
     "name": "stdout",
     "output_type": "stream",
     "text": [
      "986\n",
      "[0.35160551 0.34285527 0.35018443 0.35014222 0.35207815 0.35433357\n",
      " 0.35700746 0.35666477 0.3540975  0.35751018]\n"
     ]
    },
    {
     "name": "stderr",
     "output_type": "stream",
     "text": [
      "\r",
      " 75%|███████▌  | 15/20 [01:40<00:34,  6.82s/it]"
     ]
    },
    {
     "name": "stdout",
     "output_type": "stream",
     "text": [
      "985\n",
      "[0.35465448 0.35117902 0.35650785 0.3600617  0.36046073 0.35997937\n",
      " 0.35727398 0.35892279 0.36127733 0.36205914]\n"
     ]
    },
    {
     "name": "stderr",
     "output_type": "stream",
     "text": [
      "\r",
      " 80%|████████  | 16/20 [01:47<00:27,  6.83s/it]"
     ]
    },
    {
     "name": "stdout",
     "output_type": "stream",
     "text": [
      "984\n",
      "[0.35524041 0.35358325 0.36105635 0.35369538 0.35417729 0.36151793\n",
      " 0.35092938 0.36159951 0.36209722 0.362723  ]\n"
     ]
    },
    {
     "name": "stderr",
     "output_type": "stream",
     "text": [
      "\r",
      " 85%|████████▌ | 17/20 [01:54<00:20,  6.84s/it]"
     ]
    },
    {
     "name": "stdout",
     "output_type": "stream",
     "text": [
      "984\n",
      "[0.34513614 0.34623132 0.34902303 0.35352178 0.35522444 0.35432453\n",
      " 0.35621094 0.35778196 0.35893329 0.36053468]\n"
     ]
    },
    {
     "name": "stderr",
     "output_type": "stream",
     "text": [
      "\r",
      " 90%|█████████ | 18/20 [02:01<00:13,  6.82s/it]"
     ]
    },
    {
     "name": "stdout",
     "output_type": "stream",
     "text": [
      "983\n",
      "[0.36136663 0.36364789 0.36472789 0.36339505 0.3633077  0.36356112\n",
      " 0.36196151 0.35977387 0.36630631 0.36643985]\n"
     ]
    },
    {
     "name": "stderr",
     "output_type": "stream",
     "text": [
      "\r",
      " 95%|█████████▌| 19/20 [02:07<00:06,  6.86s/it]"
     ]
    },
    {
     "name": "stdout",
     "output_type": "stream",
     "text": [
      "982\n",
      "[0.3578567  0.35785546 0.36001123 0.36978311 0.37000708 0.36671098\n",
      " 0.36494202 0.36299711 0.37132157 0.37169812]\n"
     ]
    },
    {
     "name": "stderr",
     "output_type": "stream",
     "text": [
      "\r",
      "100%|██████████| 20/20 [02:14<00:00,  6.84s/it]"
     ]
    },
    {
     "name": "stdout",
     "output_type": "stream",
     "text": [
      "981\n",
      "[0.36370817 0.36394663 0.36632935 0.36650064 0.36848381 0.3703361\n",
      " 0.37134631 0.37136728 0.37141165 0.37144647]\n"
     ]
    },
    {
     "name": "stderr",
     "output_type": "stream",
     "text": [
      "\n"
     ]
    }
   ],
   "source": [
    "chosenWeakClassifiers = boost.train(chosen_wc_cache_dir)"
   ]
  },
  {
   "cell_type": "code",
   "execution_count": 28,
   "metadata": {
    "ExecuteTime": {
     "end_time": "2018-11-16T07:57:04.655193Z",
     "start_time": "2018-11-16T07:57:04.641073Z"
    }
   },
   "outputs": [
    {
     "data": {
      "text/plain": [
       "[[0.677666067757962, <weak_classifier.Ada_Weak_Classifier at 0x7f827f43fa90>],\n",
       " [0.5436284131555157, <weak_classifier.Ada_Weak_Classifier at 0x7f827f43fb38>],\n",
       " [0.4941523371147424, <weak_classifier.Ada_Weak_Classifier at 0x7f827f43fbe0>],\n",
       " [0.44500344924389135,\n",
       "  <weak_classifier.Ada_Weak_Classifier at 0x7f827f43fb70>],\n",
       " [0.3987539501781452, <weak_classifier.Ada_Weak_Classifier at 0x7f827f43f9e8>],\n",
       " [0.4179837137510348, <weak_classifier.Ada_Weak_Classifier at 0x7f827f43f9b0>],\n",
       " [0.37503803375580347,\n",
       "  <weak_classifier.Ada_Weak_Classifier at 0x7f827f43fac8>],\n",
       " [0.3862966876572736, <weak_classifier.Ada_Weak_Classifier at 0x7f827f43fd68>],\n",
       " [0.36341982760044245,\n",
       "  <weak_classifier.Ada_Weak_Classifier at 0x7f827f43fef0>],\n",
       " [0.3404127861163678, <weak_classifier.Ada_Weak_Classifier at 0x7f827f43ff98>],\n",
       " [0.3446454869719465, <weak_classifier.Ada_Weak_Classifier at 0x7f827f43ffd0>],\n",
       " [0.34753394491792144,\n",
       "  <weak_classifier.Ada_Weak_Classifier at 0x7f827f43fc88>],\n",
       " [0.3582703402808982, <weak_classifier.Ada_Weak_Classifier at 0x7f827f43fe80>],\n",
       " [0.32850764179278513,\n",
       "  <weak_classifier.Ada_Weak_Classifier at 0x7f827f43fd30>],\n",
       " [0.31732326710637626,\n",
       "  <weak_classifier.Ada_Weak_Classifier at 0x7f827f343048>],\n",
       " [0.3192650400379351, <weak_classifier.Ada_Weak_Classifier at 0x7f827f343160>],\n",
       " [0.3242568452916657, <weak_classifier.Ada_Weak_Classifier at 0x7f827f3431d0>],\n",
       " [0.3223889301506273, <weak_classifier.Ada_Weak_Classifier at 0x7f827f343240>],\n",
       " [0.29732093413967153,\n",
       "  <weak_classifier.Ada_Weak_Classifier at 0x7f827f343080>],\n",
       " [0.2811927021299817, <weak_classifier.Ada_Weak_Classifier at 0x7f827f343320>]]"
      ]
     },
     "execution_count": 28,
     "metadata": {},
     "output_type": "execute_result"
    }
   ],
   "source": [
    "boost.chosen_wcs"
   ]
  },
  {
   "cell_type": "code",
   "execution_count": 10,
   "metadata": {
    "ExecuteTime": {
     "end_time": "2018-11-16T07:31:53.799830Z",
     "start_time": "2018-11-16T07:31:53.793038Z"
    }
   },
   "outputs": [
    {
     "data": {
      "text/plain": [
       "{0: array([0.205, 0.21 , 0.21 , 0.215, 0.21 , 0.215, 0.215, 0.22 , 0.215,\n",
       "        0.235]),\n",
       " 1: array([0.28184606, 0.27299109, 0.26426426, 0.26817913, 0.25630637,\n",
       "        0.28133345, 0.26830729, 0.28235868, 0.28499201, 0.28576094]),\n",
       " 2: array([0.27693244, 0.29566208, 0.29237849, 0.28271444, 0.27528571,\n",
       "        0.29252331, 0.27626389, 0.27939087, 0.29202697, 0.29770247]),\n",
       " 3: array([0.30199514, 0.30118069, 0.30843325, 0.31340655, 0.31889888,\n",
       "        0.3205134 , 0.31458169, 0.32101955, 0.32310967, 0.32371774]),\n",
       " 4: array([0.32462565, 0.3246479 , 0.31614568, 0.32637132, 0.32885247,\n",
       "        0.32175195, 0.32681318, 0.3279694 , 0.3291579 , 0.33070296]),\n",
       " 5: array([0.31702299, 0.32285723, 0.31583163, 0.32344887, 0.32347026,\n",
       "        0.3235927 , 0.3249306 , 0.32814869, 0.32887042, 0.32970694]),\n",
       " 6: array([0.33405811, 0.33069826, 0.33737454, 0.33971076, 0.34044236,\n",
       "        0.33806262, 0.33925726, 0.33965108, 0.34034971, 0.34171379]),\n",
       " 7: array([0.32533822, 0.33106513, 0.32902964, 0.32700342, 0.3243832 ,\n",
       "        0.33043475, 0.32654954, 0.33155894, 0.33646837, 0.33673755]),\n",
       " 8: array([0.33992549, 0.3407364 , 0.33290509, 0.34585836, 0.34491099,\n",
       "        0.3383274 , 0.34473314, 0.34539191, 0.34613324, 0.3468608 ]),\n",
       " 9: array([0.33719928, 0.33799031, 0.3383814 , 0.35064416, 0.34626618,\n",
       "        0.34572577, 0.34945158, 0.35125733, 0.35209018, 0.35228596]),\n",
       " 10: array([0.34633472, 0.34512478, 0.34244119, 0.33506492, 0.34945504,\n",
       "        0.35054331, 0.35301247, 0.35387668, 0.3520575 , 0.35423282]),\n",
       " 11: array([0.33824446, 0.34510065, 0.34793392, 0.34636161, 0.34246637,\n",
       "        0.34970342, 0.35035455, 0.35141234, 0.35292267, 0.35358729]),\n",
       " 12: array([0.33352222, 0.34409429, 0.34796872, 0.3460695 , 0.34870716,\n",
       "        0.35067887, 0.35103646, 0.35280461, 0.35549027, 0.35564598]),\n",
       " 13: array([0.35160551, 0.34285527, 0.35018443, 0.35014222, 0.35207815,\n",
       "        0.35433357, 0.35700746, 0.35666477, 0.3540975 , 0.35751018]),\n",
       " 14: array([0.35465448, 0.35117902, 0.35650785, 0.3600617 , 0.36046073,\n",
       "        0.35997937, 0.35727398, 0.35892279, 0.36127733, 0.36205914]),\n",
       " 15: array([0.35524041, 0.35358325, 0.36105635, 0.35369538, 0.35417729,\n",
       "        0.36151793, 0.35092938, 0.36159951, 0.36209722, 0.362723  ]),\n",
       " 16: array([0.34513614, 0.34623132, 0.34902303, 0.35352178, 0.35522444,\n",
       "        0.35432453, 0.35621094, 0.35778196, 0.35893329, 0.36053468]),\n",
       " 17: array([0.36136663, 0.36364789, 0.36472789, 0.36339505, 0.3633077 ,\n",
       "        0.36356112, 0.36196151, 0.35977387, 0.36630631, 0.36643985]),\n",
       " 18: array([0.3578567 , 0.35785546, 0.36001123, 0.36978311, 0.37000708,\n",
       "        0.36671098, 0.36494202, 0.36299711, 0.37132157, 0.37169812]),\n",
       " 19: array([0.36370817, 0.36394663, 0.36632935, 0.36650064, 0.36848381,\n",
       "        0.3703361 , 0.37134631, 0.37136728, 0.37141165, 0.37144647])}"
      ]
     },
     "execution_count": 10,
     "metadata": {},
     "output_type": "execute_result"
    }
   ],
   "source": [
    "boost.visualizer.weak_classifier_accuracies"
   ]
  },
  {
   "cell_type": "code",
   "execution_count": null,
   "metadata": {
    "ExecuteTime": {
     "end_time": "2018-11-13T23:41:49.863643Z",
     "start_time": "2018-11-13T23:41:49.860362Z"
    }
   },
   "outputs": [],
   "source": [
    "boost.sc_function(boost.data[0])"
   ]
  },
  {
   "cell_type": "code",
   "execution_count": null,
   "metadata": {
    "ExecuteTime": {
     "end_time": "2018-11-13T07:44:17.994403Z",
     "start_time": "2018-11-13T07:44:04.249Z"
    }
   },
   "outputs": [],
   "source": [
    "boost.set_strong_classifier_scores()"
   ]
  },
  {
   "cell_type": "code",
   "execution_count": 30,
   "metadata": {
    "ExecuteTime": {
     "end_time": "2018-11-16T07:57:48.948755Z",
     "start_time": "2018-11-16T07:57:48.943602Z"
    }
   },
   "outputs": [],
   "source": [
    "boost.visualizer.histogram_intervals = [1,10,20]\n",
    "boost.visualizer.top_wc_intervals = [1,10,20]"
   ]
  },
  {
   "cell_type": "code",
   "execution_count": 31,
   "metadata": {
    "ExecuteTime": {
     "end_time": "2018-11-16T07:57:51.260338Z",
     "start_time": "2018-11-16T07:57:50.047335Z"
    },
    "scrolled": true
   },
   "outputs": [
    {
     "data": {
      "image/png": "[encoded data removed]",
      "text/plain": [
       "<Figure size 432x288 with 1 Axes>"
      ]
     },
     "metadata": {
      "needs_background": "light"
     },
     "output_type": "display_data"
    },
    {
     "data": {
      "image/png": "[encoded data removed]",
      "text/plain": [
       "<Figure size 432x288 with 1 Axes>"
      ]
     },
     "metadata": {
      "needs_background": "light"
     },
     "output_type": "display_data"
    },
    {
     "data": {
      "image/png": "[encoded data removed]",
      "text/plain": [
       "<Figure size 432x288 with 1 Axes>"
      ]
     },
     "metadata": {
      "needs_background": "light"
     },
     "output_type": "display_data"
    },
    {
     "data": {
      "image/png": "[encoded data removed]",
      "text/plain": [
       "<Figure size 432x288 with 1 Axes>"
      ]
     },
     "metadata": {
      "needs_background": "light"
     },
     "output_type": "display_data"
    },
    {
     "data": {
      "image/png": "[encoded data removed]",
      "text/plain": [
       "<Figure size 432x288 with 1 Axes>"
      ]
     },
     "metadata": {
      "needs_background": "light"
     },
     "output_type": "display_data"
    }
   ],
   "source": [
    "boost.visualize()"
   ]
  },
  {
   "cell_type": "code",
   "execution_count": 14,
   "metadata": {
    "ExecuteTime": {
     "end_time": "2018-11-16T07:33:16.741564Z",
     "start_time": "2018-11-16T07:33:16.629393Z"
    }
   },
   "outputs": [
    {
     "data": {
      "image/png": "[encoded data removed]",
      "text/plain": [
       "<Figure size 432x288 with 1 Axes>"
      ]
     },
     "metadata": {
      "needs_background": "light"
     },
     "output_type": "display_data"
    }
   ],
   "source": [
    "boost.visualizer.draw_wc_accuracies()"
   ]
  },
  {
   "cell_type": "code",
   "execution_count": null,
   "metadata": {
    "ExecuteTime": {
     "end_time": "2018-11-16T00:16:28.668616Z",
     "start_time": "2018-11-16T00:16:28.665476Z"
    },
    "scrolled": true
   },
   "outputs": [],
   "source": [
    "boost.visualizer.weak_classifier_accuracies"
   ]
  },
  {
   "cell_type": "code",
   "execution_count": null,
   "metadata": {
    "ExecuteTime": {
     "end_time": "2018-11-13T07:44:17.995459Z",
     "start_time": "2018-11-13T07:44:04.253Z"
    }
   },
   "outputs": [],
   "source": [
    "#original_img = cv2.imread('../Testing_Images/Face_1.jpg', cv2.IMREAD_GRAYSCALE)\n",
    "#result_img = boost.face_detection(original_img)\n",
    "#cv2.imwrite('Result_img_%s.png' % boosting_type, result_img)"
   ]
  },
  {
   "cell_type": "markdown",
   "metadata": {},
   "source": [
    "## Toy example"
   ]
  },
  {
   "cell_type": "code",
   "execution_count": null,
   "metadata": {
    "ExecuteTime": {
     "end_time": "2018-11-14T19:48:29.277729Z",
     "start_time": "2018-11-14T19:48:29.270130Z"
    }
   },
   "outputs": [],
   "source": [
    "fltr_indices = [0, 100, 300, 500, 800]\n",
    "toy_filters = [filters[i] for i in fltr_indices]#five filters\n",
    "toy_data = np.vstack((np.array(data[0:5, :, :]), np.array(data[190:195, :, :]))) #10 images\n",
    "l1 = list(labels[0:5])\n",
    "l2 = list(labels[190:195])\n",
    "toy_labels =  np.array(l1+ l2)  #10 labels"
   ]
  },
  {
   "cell_type": "code",
   "execution_count": null,
   "metadata": {
    "ExecuteTime": {
     "end_time": "2018-11-14T19:48:29.689360Z",
     "start_time": "2018-11-14T19:48:29.685167Z"
    }
   },
   "outputs": [],
   "source": [
    "toy_boost = Boosting_Classifier(toy_filters, toy_data, toy_labels, 4, num_bins, drawer, 1, \"Ada\")"
   ]
  },
  {
   "cell_type": "code",
   "execution_count": null,
   "metadata": {
    "ExecuteTime": {
     "end_time": "2018-11-14T19:48:31.085333Z",
     "start_time": "2018-11-14T19:48:31.081657Z"
    }
   },
   "outputs": [],
   "source": [
    "initial_toy_weights = [.1]*10\n",
    "initial_toy_weights"
   ]
  },
  {
   "cell_type": "code",
   "execution_count": null,
   "metadata": {
    "ExecuteTime": {
     "end_time": "2018-11-14T19:41:11.072791Z",
     "start_time": "2018-11-14T19:41:11.065617Z"
    }
   },
   "outputs": [],
   "source": [
    "toy_boost.weak_classifiers[0]"
   ]
  },
  {
   "cell_type": "code",
   "execution_count": null,
   "metadata": {
    "ExecuteTime": {
     "end_time": "2018-11-14T19:41:11.554771Z",
     "start_time": "2018-11-14T19:41:11.548599Z"
    }
   },
   "outputs": [],
   "source": [
    "print(toy_boost.weak_classifiers[0].activations)"
   ]
  },
  {
   "cell_type": "markdown",
   "metadata": {},
   "source": [
    "Setting up activations"
   ]
  },
  {
   "cell_type": "code",
   "execution_count": null,
   "metadata": {
    "ExecuteTime": {
     "end_time": "2018-11-14T19:48:33.333787Z",
     "start_time": "2018-11-14T19:48:33.323733Z"
    }
   },
   "outputs": [],
   "source": [
    "activations = toy_boost.calculate_training_activations(\"toy_act_dir.npy\", \"toy_act_dir.npy\")"
   ]
  },
  {
   "cell_type": "code",
   "execution_count": null,
   "metadata": {
    "ExecuteTime": {
     "end_time": "2018-11-14T19:41:13.669765Z",
     "start_time": "2018-11-14T19:41:13.664275Z"
    }
   },
   "outputs": [],
   "source": [
    "print(activations.shape)\n",
    "print(activations)"
   ]
  },
  {
   "cell_type": "code",
   "execution_count": null,
   "metadata": {
    "ExecuteTime": {
     "end_time": "2018-11-14T19:41:14.283541Z",
     "start_time": "2018-11-14T19:41:14.274328Z"
    }
   },
   "outputs": [],
   "source": [
    "toy_boost.weak_classifiers[0].activations"
   ]
  },
  {
   "cell_type": "code",
   "execution_count": null,
   "metadata": {
    "ExecuteTime": {
     "end_time": "2018-11-14T19:41:30.997435Z",
     "start_time": "2018-11-14T19:41:30.977850Z"
    },
    "scrolled": true
   },
   "outputs": [],
   "source": [
    "print(\"Classifier 1:\")\n",
    "print(\"min error: \", toy_boost.weak_classifiers[0].calc_error(initial_toy_weights, toy_labels))\n",
    "print(\"th: \", toy_boost.weak_classifiers[0].threshold)\n",
    "print(\"pol: \", toy_boost.weak_classifiers[0].polarity)\n",
    "\n",
    "print(\"Classifier 2:\")\n",
    "print(\"min error: \", toy_boost.weak_classifiers[1].calc_error(initial_toy_weights, toy_labels))\n",
    "print(\"th: \", toy_boost.weak_classifiers[1].threshold)\n",
    "print(\"pol: \", toy_boost.weak_classifiers[1].polarity)\n",
    "\n",
    "print(\"Classifier 3:\")\n",
    "print(\"min error: \", toy_boost.weak_classifiers[2].calc_error(initial_toy_weights, toy_labels))\n",
    "print(\"th: \", toy_boost.weak_classifiers[2].threshold)\n",
    "print(\"pol: \", toy_boost.weak_classifiers[2].polarity)\n",
    "\n",
    "print(\"Classifier 4:\")\n",
    "print(\"min error: \", toy_boost.weak_classifiers[3].calc_error(initial_toy_weights, toy_labels))\n",
    "print(\"th: \", toy_boost.weak_classifiers[3].threshold)\n",
    "print(\"pol: \", toy_boost.weak_classifiers[3].polarity)\n",
    "\n",
    "print(\"Classifier 5:\")\n",
    "print(\"min error: \", toy_boost.weak_classifiers[4].calc_error(initial_toy_weights, toy_labels))\n",
    "print(\"th: \", toy_boost.weak_classifiers[4].threshold)\n",
    "print(\"pol: \", toy_boost.weak_classifiers[4].polarity)"
   ]
  },
  {
   "cell_type": "code",
   "execution_count": null,
   "metadata": {
    "ExecuteTime": {
     "end_time": "2018-11-14T19:41:38.070664Z",
     "start_time": "2018-11-14T19:41:38.067938Z"
    }
   },
   "outputs": [],
   "source": [
    "print(toy_boost.labels == 1) #correct labels\n",
    "for classifier in toy_boost.weak_classifiers:\n",
    "    print(classifier.activations*classifier.polarity > classifier.threshold*classifier.polarity)"
   ]
  },
  {
   "cell_type": "code",
   "execution_count": null,
   "metadata": {
    "ExecuteTime": {
     "end_time": "2018-11-14T19:41:34.414171Z",
     "start_time": "2018-11-14T19:41:34.406414Z"
    }
   },
   "outputs": [],
   "source": [
    "initial_toy_weights"
   ]
  },
  {
   "cell_type": "markdown",
   "metadata": {},
   "source": [
    "calculate all weak classifier errors using the weighted data"
   ]
  },
  {
   "cell_type": "code",
   "execution_count": null,
   "metadata": {
    "ExecuteTime": {
     "end_time": "2018-11-14T19:41:35.700788Z",
     "start_time": "2018-11-14T19:41:35.693525Z"
    }
   },
   "outputs": [],
   "source": [
    "min_error = [classifier.calc_error(initial_toy_weights, toy_boost.labels)for classifer in toy_boost.weak_classifiers]\n",
    "print(\"min error: \", min_error)    "
   ]
  },
  {
   "cell_type": "markdown",
   "metadata": {},
   "source": [
    "select the best weak classifier"
   ]
  },
  {
   "cell_type": "code",
   "execution_count": null,
   "metadata": {
    "ExecuteTime": {
     "end_time": "2018-11-14T19:40:37.801512Z",
     "start_time": "2018-11-14T19:40:37.798455Z"
    }
   },
   "outputs": [],
   "source": [
    "import copy\n",
    "bestWCIndex = min_error.index(min(min_error))\n",
    "bestWClassifier = copy.deepcopy(toy_boost.weak_classifiers[bestWCIndex])\n",
    "print(bestWClassifier)\n",
    "print(bestWClassifier.polarity)\n",
    "print(bestWClassifier.threshold)"
   ]
  },
  {
   "cell_type": "code",
   "execution_count": null,
   "metadata": {
    "ExecuteTime": {
     "end_time": "2018-11-14T19:40:38.067662Z",
     "start_time": "2018-11-14T19:40:38.063800Z"
    }
   },
   "outputs": [],
   "source": [
    "selectedWC = []"
   ]
  },
  {
   "cell_type": "markdown",
   "metadata": {},
   "source": [
    "calculate alpha value"
   ]
  },
  {
   "cell_type": "code",
   "execution_count": null,
   "metadata": {
    "ExecuteTime": {
     "end_time": "2018-11-14T19:40:38.793836Z",
     "start_time": "2018-11-14T19:40:38.789016Z"
    }
   },
   "outputs": [],
   "source": [
    "alph = toy_boost.calculate_alpha(min(min_error))\n",
    "selectedWC.append([alph, bestWClassifier])\n",
    "print(\"alpha: \", alph)"
   ]
  },
  {
   "cell_type": "code",
   "execution_count": null,
   "metadata": {
    "ExecuteTime": {
     "end_time": "2018-11-14T19:40:39.171224Z",
     "start_time": "2018-11-14T19:40:39.165335Z"
    }
   },
   "outputs": [],
   "source": [
    "#check, the error is .3, plug into the formula for alpha\n",
    ".5*(np.log((1-.3)/.3))"
   ]
  },
  {
   "cell_type": "code",
   "execution_count": null,
   "metadata": {
    "ExecuteTime": {
     "end_time": "2018-11-14T19:40:39.634381Z",
     "start_time": "2018-11-14T19:40:39.628596Z"
    }
   },
   "outputs": [],
   "source": [
    "#for bestWC, which data points did it incorrectly classify?\n",
    "print(toy_boost.labels == 1) #correct labels\n",
    "print(bestWClassifier.activations*bestWClassifier.polarity > bestWClassifier.threshold*bestWClassifier.polarity)"
   ]
  },
  {
   "cell_type": "code",
   "execution_count": null,
   "metadata": {
    "ExecuteTime": {
     "end_time": "2018-11-14T19:40:40.005196Z",
     "start_time": "2018-11-14T19:40:39.999169Z"
    }
   },
   "outputs": [],
   "source": [
    "initial_toy_weights"
   ]
  },
  {
   "cell_type": "code",
   "execution_count": null,
   "metadata": {
    "ExecuteTime": {
     "end_time": "2018-11-14T19:40:40.399968Z",
     "start_time": "2018-11-14T19:40:40.396988Z"
    }
   },
   "outputs": [],
   "source": [
    "weights = toy_boost.update_weights(bestWClassifier, initial_toy_weights, alph)"
   ]
  },
  {
   "cell_type": "code",
   "execution_count": null,
   "metadata": {
    "ExecuteTime": {
     "end_time": "2018-11-14T19:40:40.866336Z",
     "start_time": "2018-11-14T19:40:40.861044Z"
    }
   },
   "outputs": [],
   "source": [
    "weights"
   ]
  },
  {
   "cell_type": "code",
   "execution_count": null,
   "metadata": {
    "ExecuteTime": {
     "end_time": "2018-11-14T19:40:41.343829Z",
     "start_time": "2018-11-14T19:40:41.329662Z"
    },
    "scrolled": true
   },
   "outputs": [],
   "source": [
    "min_error_2 = [classifier.calc_error(weights, toy_boost.labels)for classifer in toy_boost.weak_classifiers]\n",
    "print(\"min error: \", min_error_2 )\n",
    "    \n",
    "bestWCIndex = min_error_2.index(min(min_error_2))\n",
    "bestWClassifier = copy.deepcopy(toy_boost.weak_classifiers[bestWCIndex])\n",
    "print(bestWClassifier)\n",
    "print(bestWClassifier.polarity)\n",
    "print(bestWClassifier.threshold)"
   ]
  },
  {
   "cell_type": "code",
   "execution_count": null,
   "metadata": {
    "ExecuteTime": {
     "end_time": "2018-11-14T19:48:38.666437Z",
     "start_time": "2018-11-14T19:48:38.601415Z"
    }
   },
   "outputs": [],
   "source": [
    "toy_boost.train()"
   ]
  },
  {
   "cell_type": "code",
   "execution_count": null,
   "metadata": {
    "ExecuteTime": {
     "end_time": "2018-11-14T19:42:05.883475Z",
     "start_time": "2018-11-14T19:42:05.878872Z"
    },
    "scrolled": true
   },
   "outputs": [],
   "source": [
    "[toy_boost.sc_function(img) for img in toy_boost.data]"
   ]
  },
  {
   "cell_type": "code",
   "execution_count": null,
   "metadata": {
    "ExecuteTime": {
     "end_time": "2018-11-14T19:42:02.006536Z",
     "start_time": "2018-11-14T19:42:02.004078Z"
    },
    "scrolled": true
   },
   "outputs": [],
   "source": [
    "toy_boost.set_strong_classifier_scores"
   ]
  },
  {
   "cell_type": "code",
   "execution_count": null,
   "metadata": {
    "ExecuteTime": {
     "end_time": "2018-11-14T19:42:03.697656Z",
     "start_time": "2018-11-14T19:42:03.688041Z"
    }
   },
   "outputs": [],
   "source": [
    "toy_boost.visualizer.strong_classifier_scores"
   ]
  },
  {
   "cell_type": "markdown",
   "metadata": {},
   "source": [
    "Perform hard mining after all the training epochs are over, using the final strong classifier to get the wrong patches, and then restart the training process with the added wrong patches?"
   ]
  }
 ],
 "metadata": {
  "kernelspec": {
   "display_name": "Python 3",
   "language": "python",
   "name": "python3"
  },
  "language_info": {
   "codemirror_mode": {
    "name": "ipython",
    "version": 3
   },
   "file_extension": ".py",
   "mimetype": "text/x-python",
   "name": "python",
   "nbconvert_exporter": "python",
   "pygments_lexer": "ipython3",
   "version": "3.6.6"
  },
  "toc": {
   "base_numbering": 1,
   "nav_menu": {},
   "number_sections": true,
   "sideBar": true,
   "skip_h1_title": false,
   "title_cell": "Table of Contents",
   "title_sidebar": "Contents",
   "toc_cell": false,
   "toc_position": {},
   "toc_section_display": true,
   "toc_window_display": false
  }
 },
 "nbformat": 4,
 "nbformat_minor": 2
}
