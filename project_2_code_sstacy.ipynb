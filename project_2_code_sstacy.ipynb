{
 "cells": [
  {
   "cell_type": "code",
   "execution_count": 1,
   "metadata": {
    "ExecuteTime": {
     "end_time": "2018-11-17T01:39:27.411377Z",
     "start_time": "2018-11-17T01:39:27.010106Z"
    }
   },
   "outputs": [],
   "source": [
    "import numpy as np\n",
    "import time\n",
    "import cv2\n",
    "from boosting_classifier import Boosting_Classifier\n",
    "from visualizer import Visualizer\n",
    "from im_process import normalize\n",
    "from utils import *"
   ]
  },
  {
   "cell_type": "code",
   "execution_count": 2,
   "metadata": {
    "ExecuteTime": {
     "end_time": "2018-11-17T01:39:27.416545Z",
     "start_time": "2018-11-17T01:39:27.412717Z"
    }
   },
   "outputs": [],
   "source": [
    "%load_ext line_profiler"
   ]
  },
  {
   "cell_type": "code",
   "execution_count": 3,
   "metadata": {
    "ExecuteTime": {
     "end_time": "2018-11-17T01:39:27.473030Z",
     "start_time": "2018-11-17T01:39:27.468696Z"
    }
   },
   "outputs": [],
   "source": [
    "flag_subset = True\n",
    "boosting_type = 'Ada' #'Real' or 'Ada'\n",
    "training_epochs = 101 if not flag_subset else 21\n",
    "act_cache_dir = 'tst_wc_activations.npy' if not flag_subset else 'tst_wc_activations_subset.npy'\n",
    "chosen_wc_cache_dir = 'tst_chosen_wcs.pkl' if not flag_subset else 'tst_chosen_wcs_subset.pkl'"
   ]
  },
  {
   "cell_type": "code",
   "execution_count": 4,
   "metadata": {
    "ExecuteTime": {
     "end_time": "2018-11-17T01:39:28.588795Z",
     "start_time": "2018-11-17T01:39:27.715336Z"
    }
   },
   "outputs": [
    {
     "name": "stdout",
     "output_type": "stream",
     "text": [
      "Load in 200 images, 100 faces, 100 non-faces\n"
     ]
    }
   ],
   "source": [
    "#data configurations\n",
    "pos_data_dir = '../newface16'\n",
    "neg_data_dir = '../nonface16'\n",
    "image_w = 16\n",
    "image_h = 16\n",
    "data, labels = load_data(pos_data_dir, neg_data_dir, image_w, image_h, flag_subset)\n",
    "data = integrate_images(normalize(data))"
   ]
  },
  {
   "cell_type": "code",
   "execution_count": 5,
   "metadata": {
    "ExecuteTime": {
     "end_time": "2018-11-17T01:39:28.592363Z",
     "start_time": "2018-11-17T01:39:28.590262Z"
    }
   },
   "outputs": [],
   "source": [
    "#number of bins for boosting\n",
    "num_bins = 25\n",
    "\n",
    "#number of cpus for parallel computing\n",
    "num_cores = 8 if not flag_subset else 1 #always use 1 when debugging"
   ]
  },
  {
   "cell_type": "code",
   "execution_count": 6,
   "metadata": {
    "ExecuteTime": {
     "end_time": "2018-11-17T01:39:28.629323Z",
     "start_time": "2018-11-17T01:39:28.593619Z"
    }
   },
   "outputs": [],
   "source": [
    "#create Haar filters\n",
    "filters = generate_Haar_filters(4, 4, 16, 16, image_w, image_h, flag_subset)"
   ]
  },
  {
   "cell_type": "code",
   "execution_count": 7,
   "metadata": {
    "ExecuteTime": {
     "end_time": "2018-11-17T01:39:29.076929Z",
     "start_time": "2018-11-17T01:39:29.074263Z"
    }
   },
   "outputs": [],
   "source": [
    "#create visualizer to draw histograms, roc curves and best weak classifier accuracies\n",
    "drawer = Visualizer([10, 20, 50, 100], [1, 10, 20, 50, 100])"
   ]
  },
  {
   "cell_type": "code",
   "execution_count": 8,
   "metadata": {
    "ExecuteTime": {
     "end_time": "2018-11-17T01:39:31.716675Z",
     "start_time": "2018-11-17T01:39:31.713809Z"
    }
   },
   "outputs": [],
   "source": [
    "#create boost classifier with a pool of weak classifier\n",
    "boost = Boosting_Classifier(filters, data, labels, training_epochs, num_bins, drawer, num_cores, boosting_type)"
   ]
  },
  {
   "cell_type": "code",
   "execution_count": 9,
   "metadata": {
    "ExecuteTime": {
     "end_time": "2018-11-17T01:39:31.907477Z",
     "start_time": "2018-11-17T01:39:31.898440Z"
    },
    "scrolled": true
   },
   "outputs": [
    {
     "name": "stdout",
     "output_type": "stream",
     "text": [
      "Calcuate activations for 1000 weak classifiers, using 200 imags.\n",
      "[Find cached activations, tst_wc_activations_subset.npy loading...]\n",
      "0.006776 seconds for activation calculation\n"
     ]
    }
   ],
   "source": [
    "#calculate filter values for all training images\n",
    "start = time.clock()\n",
    "activations = boost.calculate_training_activations(act_cache_dir, act_cache_dir)\n",
    "end = time.clock()\n",
    "print('%f seconds for activation calculation' % (end - start))"
   ]
  },
  {
   "cell_type": "markdown",
   "metadata": {},
   "source": [
    "# Code Testing"
   ]
  },
  {
   "cell_type": "code",
   "execution_count": null,
   "metadata": {
    "ExecuteTime": {
     "end_time": "2018-11-17T00:24:40.618118Z",
     "start_time": "2018-11-17T00:24:40.615790Z"
    }
   },
   "outputs": [],
   "source": [
    "#weight initialization\n",
    "weights = [1/200.0]*200"
   ]
  },
  {
   "cell_type": "markdown",
   "metadata": {},
   "source": [
    "## Single Weak Classifier - Adaboost WC Object"
   ]
  },
  {
   "cell_type": "code",
   "execution_count": null,
   "metadata": {
    "ExecuteTime": {
     "end_time": "2018-11-17T00:24:35.898544Z",
     "start_time": "2018-11-17T00:24:35.893348Z"
    }
   },
   "outputs": [],
   "source": [
    "wc1 = boost.weak_classifiers[0]"
   ]
  },
  {
   "cell_type": "code",
   "execution_count": null,
   "metadata": {
    "ExecuteTime": {
     "end_time": "2018-11-17T00:24:42.878738Z",
     "start_time": "2018-11-17T00:24:42.876371Z"
    }
   },
   "outputs": [],
   "source": [
    "print(wc1.polarity)\n",
    "print(wc1.threshold)"
   ]
  },
  {
   "cell_type": "code",
   "execution_count": null,
   "metadata": {
    "ExecuteTime": {
     "end_time": "2018-11-17T00:24:43.546763Z",
     "start_time": "2018-11-17T00:24:43.540440Z"
    }
   },
   "outputs": [],
   "source": [
    "min(wc1.activations)"
   ]
  },
  {
   "cell_type": "code",
   "execution_count": null,
   "metadata": {
    "ExecuteTime": {
     "end_time": "2018-11-17T00:24:44.269522Z",
     "start_time": "2018-11-17T00:24:44.259219Z"
    }
   },
   "outputs": [],
   "source": [
    "min_error = wc1.calc_error(weights, labels)"
   ]
  },
  {
   "cell_type": "code",
   "execution_count": null,
   "metadata": {
    "ExecuteTime": {
     "end_time": "2018-11-17T00:24:46.239570Z",
     "start_time": "2018-11-17T00:24:46.236350Z"
    }
   },
   "outputs": [],
   "source": [
    "min_error"
   ]
  },
  {
   "cell_type": "markdown",
   "metadata": {},
   "source": [
    "Filter visualization"
   ]
  },
  {
   "cell_type": "code",
   "execution_count": null,
   "metadata": {
    "ExecuteTime": {
     "end_time": "2018-11-16T07:56:10.801911Z",
     "start_time": "2018-11-16T07:56:10.785924Z"
    }
   },
   "outputs": [],
   "source": [
    "import matplotlib.patches as patches\n",
    "def visualize_haar_filter(topwcs, grid_size = (4,5), figsize = (10,8)):\n",
    "    fig = plt.figure(figsize = figsize)\n",
    "    fig.subplots_adjust(left = 0, right = 1, bottom = 0, top = 1, \n",
    "                        hspace = 0.05, wspace = 0.05)\n",
    "    for indx, wc in enumerate(topwcs):\n",
    "        \n",
    "        ax = fig.add_subplot(grid_size[0], grid_size[1], indx+1, xticks=[], yticks=[])\n",
    "        ax.set_xlim(0, 16)\n",
    "        ax.set_ylim(0, 16)\n",
    "        \n",
    "        for i in range(len(wc.plus_rects)):\n",
    "            pos_xy = (wc.plus_rects[i][0], wc.plus_rects[i][1])\n",
    "            pos_width = wc.plus_rects[i][2] -wc.plus_rects[i][0] +1\n",
    "            pos_height = wc.plus_rects[i][3] - wc.plus_rects[i][1] +1\n",
    "\n",
    "            rect_pos = patches.Rectangle(pos_xy,pos_width,pos_height, edgecolor = 'black', facecolor='black')\n",
    "            ax.add_patch(rect_pos)\n",
    "\n",
    "        for j in range(len(wc.minus_rects)):\n",
    "            neg_xy = (wc.minus_rects[j][0], wc.minus_rects[j][1])\n",
    "            neg_width = wc.minus_rects[j][2] -wc.minus_rects[j][0] +1\n",
    "            neg_height = wc.minus_rects[j][3] - wc.minus_rects[j][1] +1\n",
    "\n",
    "            rect_neg = patches.Rectangle(neg_xy,neg_width,neg_height,linewidth=1,edgecolor='black',facecolor='none')\n",
    "            ax.add_patch(rect_neg)\n",
    "    plt.show()"
   ]
  },
  {
   "cell_type": "code",
   "execution_count": null,
   "metadata": {
    "ExecuteTime": {
     "end_time": "2018-11-17T01:09:33.584558Z",
     "start_time": "2018-11-17T01:09:33.582086Z"
    }
   },
   "outputs": [],
   "source": [
    "print(boost.weak_classifiers[900].plus_rects)\n",
    "print(boost.weak_classifiers[900].minus_rects)"
   ]
  },
  {
   "cell_type": "code",
   "execution_count": null,
   "metadata": {
    "ExecuteTime": {
     "end_time": "2018-11-16T07:56:12.861235Z",
     "start_time": "2018-11-16T07:56:12.543089Z"
    },
    "scrolled": true
   },
   "outputs": [],
   "source": [
    "visualize_haar_filter(boost.weak_classifiers[900:920])"
   ]
  },
  {
   "cell_type": "markdown",
   "metadata": {},
   "source": [
    "## Multiple weak classifiers as attributes of Boosting Classifier object"
   ]
  },
  {
   "cell_type": "code",
   "execution_count": null,
   "metadata": {
    "ExecuteTime": {
     "end_time": "2018-11-13T07:44:12.994459Z",
     "start_time": "2018-11-13T07:44:12.991379Z"
    }
   },
   "outputs": [],
   "source": [
    "print(boost.weak_classifiers[0].polarity)\n",
    "print(boost.weak_classifiers[0].threshold)\n",
    "\n",
    "print(boost.weak_classifiers[1].polarity)\n",
    "print(boost.weak_classifiers[1].threshold)"
   ]
  },
  {
   "cell_type": "code",
   "execution_count": null,
   "metadata": {
    "ExecuteTime": {
     "end_time": "2018-11-13T07:44:17.917084Z",
     "start_time": "2018-11-13T07:44:12.995718Z"
    }
   },
   "outputs": [],
   "source": [
    "classifier_errors = boost.weak_classifier_errors(weights)"
   ]
  },
  {
   "cell_type": "code",
   "execution_count": null,
   "metadata": {
    "ExecuteTime": {
     "end_time": "2018-11-13T07:44:17.921395Z",
     "start_time": "2018-11-13T07:44:17.918222Z"
    }
   },
   "outputs": [],
   "source": [
    "print(boost.weak_classifiers[0].polarity)\n",
    "print(boost.weak_classifiers[0].threshold)\n",
    "\n",
    "print(boost.weak_classifiers[1].polarity)\n",
    "print(boost.weak_classifiers[1].threshold)"
   ]
  },
  {
   "cell_type": "code",
   "execution_count": null,
   "metadata": {
    "ExecuteTime": {
     "end_time": "2018-11-13T07:44:17.925184Z",
     "start_time": "2018-11-13T07:44:17.922683Z"
    },
    "scrolled": true
   },
   "outputs": [],
   "source": [
    "print(classifier_errors[0])\n",
    "print(classifier_errors[1])"
   ]
  },
  {
   "cell_type": "code",
   "execution_count": null,
   "metadata": {
    "ExecuteTime": {
     "end_time": "2018-11-17T01:14:52.198881Z",
     "start_time": "2018-11-17T01:11:58.748393Z"
    }
   },
   "outputs": [],
   "source": [
    "%lprun -f boost.train boost.train()"
   ]
  },
  {
   "cell_type": "code",
   "execution_count": null,
   "metadata": {
    "ExecuteTime": {
     "end_time": "2018-11-17T01:32:21.435384Z",
     "start_time": "2018-11-17T01:32:21.428400Z"
    }
   },
   "outputs": [],
   "source": [
    "boost.num_cores = 8"
   ]
  },
  {
   "cell_type": "code",
   "execution_count": null,
   "metadata": {
    "ExecuteTime": {
     "end_time": "2018-11-17T01:15:46.860567Z",
     "start_time": "2018-11-17T01:15:13.774992Z"
    }
   },
   "outputs": [],
   "source": [
    "%lprun -f boost.train boost.train()"
   ]
  },
  {
   "cell_type": "code",
   "execution_count": 10,
   "metadata": {
    "ExecuteTime": {
     "end_time": "2018-11-17T01:42:48.698745Z",
     "start_time": "2018-11-17T01:40:28.497952Z"
    },
    "scrolled": true
   },
   "outputs": [
    {
     "name": "stderr",
     "output_type": "stream",
     "text": [
      "100%|██████████| 21/21 [02:20<00:00,  6.73s/it]\n"
     ]
    }
   ],
   "source": [
    "chosenWeakClassifiers = boost.train(chosen_wc_cache_dir)"
   ]
  },
  {
   "cell_type": "code",
   "execution_count": null,
   "metadata": {
    "ExecuteTime": {
     "end_time": "2018-11-17T01:27:12.004998Z",
     "start_time": "2018-11-17T01:27:12.001210Z"
    }
   },
   "outputs": [],
   "source": [
    "a = [10, 20, 50, 100, 1, 10, 20, 50, 100]\n",
    "20 in a"
   ]
  },
  {
   "cell_type": "code",
   "execution_count": null,
   "metadata": {
    "ExecuteTime": {
     "end_time": "2018-11-17T01:31:37.255328Z",
     "start_time": "2018-11-17T01:31:37.244332Z"
    }
   },
   "outputs": [],
   "source": [
    "len(boost.chosen_wcs)"
   ]
  },
  {
   "cell_type": "code",
   "execution_count": null,
   "metadata": {
    "ExecuteTime": {
     "end_time": "2018-11-17T01:33:00.728471Z",
     "start_time": "2018-11-17T01:33:00.706544Z"
    },
    "scrolled": true
   },
   "outputs": [],
   "source": [
    "boost.visualizer.weak_classifier_accuracies"
   ]
  },
  {
   "cell_type": "code",
   "execution_count": null,
   "metadata": {
    "ExecuteTime": {
     "end_time": "2018-11-17T01:33:05.791664Z",
     "start_time": "2018-11-17T01:33:05.735054Z"
    }
   },
   "outputs": [],
   "source": [
    "boost.visualizer.strong_classifier_scores"
   ]
  },
  {
   "cell_type": "code",
   "execution_count": null,
   "metadata": {
    "ExecuteTime": {
     "end_time": "2018-11-13T23:41:49.863643Z",
     "start_time": "2018-11-13T23:41:49.860362Z"
    }
   },
   "outputs": [],
   "source": [
    "boost.sc_function(boost.data[0])"
   ]
  },
  {
   "cell_type": "code",
   "execution_count": null,
   "metadata": {
    "ExecuteTime": {
     "end_time": "2018-11-17T01:17:10.357540Z",
     "start_time": "2018-11-17T01:17:10.324689Z"
    }
   },
   "outputs": [],
   "source": [
    "boost.set_strong_classifier_scores()"
   ]
  },
  {
   "cell_type": "code",
   "execution_count": 11,
   "metadata": {
    "ExecuteTime": {
     "end_time": "2018-11-17T01:42:56.448202Z",
     "start_time": "2018-11-17T01:42:56.445848Z"
    }
   },
   "outputs": [],
   "source": [
    "boost.visualizer.histogram_intervals = [1,10, 20]\n",
    "boost.visualizer.top_wc_intervals = [1,10, 20]"
   ]
  },
  {
   "cell_type": "code",
   "execution_count": 12,
   "metadata": {
    "ExecuteTime": {
     "end_time": "2018-11-17T01:43:00.377040Z",
     "start_time": "2018-11-17T01:42:59.138590Z"
    },
    "scrolled": true
   },
   "outputs": [
    {
     "data": {
      "image/png": "[encoded data removed]",
      "text/plain": [
       "<Figure size 432x288 with 1 Axes>"
      ]
     },
     "metadata": {
      "needs_background": "light"
     },
     "output_type": "display_data"
    },
    {
     "data": {
      "image/png": "[encoded data removed]",
      "text/plain": [
       "<Figure size 432x288 with 1 Axes>"
      ]
     },
     "metadata": {
      "needs_background": "light"
     },
     "output_type": "display_data"
    },
    {
     "data": {
      "image/png": "[encoded data removed]",
      "text/plain": [
       "<Figure size 432x288 with 1 Axes>"
      ]
     },
     "metadata": {
      "needs_background": "light"
     },
     "output_type": "display_data"
    },
    {
     "data": {
      "image/png": "[encoded data removed]",
      "text/plain": [
       "<Figure size 432x288 with 1 Axes>"
      ]
     },
     "metadata": {
      "needs_background": "light"
     },
     "output_type": "display_data"
    },
    {
     "data": {
      "image/png": "[encoded data removed]",
      "text/plain": [
       "<Figure size 432x288 with 1 Axes>"
      ]
     },
     "metadata": {
      "needs_background": "light"
     },
     "output_type": "display_data"
    }
   ],
   "source": [
    "boost.visualize()"
   ]
  },
  {
   "cell_type": "code",
   "execution_count": null,
   "metadata": {
    "ExecuteTime": {
     "end_time": "2018-11-16T07:33:16.741564Z",
     "start_time": "2018-11-16T07:33:16.629393Z"
    }
   },
   "outputs": [],
   "source": [
    "boost.visualizer.draw_wc_accuracies()"
   ]
  },
  {
   "cell_type": "code",
   "execution_count": null,
   "metadata": {
    "ExecuteTime": {
     "end_time": "2018-11-16T00:16:28.668616Z",
     "start_time": "2018-11-16T00:16:28.665476Z"
    },
    "scrolled": true
   },
   "outputs": [],
   "source": [
    "boost.visualizer.weak_classifier_accuracies"
   ]
  },
  {
   "cell_type": "markdown",
   "metadata": {},
   "source": [
    "visualize the training error of the strong classifier over the steps of T"
   ]
  },
  {
   "cell_type": "code",
   "execution_count": null,
   "metadata": {
    "ExecuteTime": {
     "end_time": "2018-11-13T07:44:17.995459Z",
     "start_time": "2018-11-13T07:44:04.253Z"
    }
   },
   "outputs": [],
   "source": [
    "#original_img = cv2.imread('../Testing_Images/Face_1.jpg', cv2.IMREAD_GRAYSCALE)\n",
    "#result_img = boost.face_detection(original_img)\n",
    "#cv2.imwrite('Result_img_%s.png' % boosting_type, result_img)"
   ]
  },
  {
   "cell_type": "markdown",
   "metadata": {},
   "source": [
    "## Toy example\n",
    "\n",
    "### Initializations"
   ]
  },
  {
   "cell_type": "code",
   "execution_count": null,
   "metadata": {
    "ExecuteTime": {
     "end_time": "2018-11-16T20:08:09.976402Z",
     "start_time": "2018-11-16T20:08:09.973676Z"
    }
   },
   "outputs": [],
   "source": [
    "fltr_indices = [0, 100, 300, 500, 800]\n",
    "toy_filters = [filters[i] for i in fltr_indices]#five filters\n",
    "toy_data = np.vstack((np.array(data[0:5, :, :]), np.array(data[190:195, :, :]))) #10 images\n",
    "l1 = list(labels[0:5])\n",
    "l2 = list(labels[190:195])\n",
    "toy_labels =  np.array(l1+ l2)  #10 labels"
   ]
  },
  {
   "cell_type": "code",
   "execution_count": null,
   "metadata": {
    "ExecuteTime": {
     "end_time": "2018-11-16T20:08:10.242263Z",
     "start_time": "2018-11-16T20:08:10.238527Z"
    }
   },
   "outputs": [],
   "source": [
    "toy_boost = Boosting_Classifier(toy_filters, toy_data, toy_labels, 4, num_bins, drawer, 1, \"Ada\")"
   ]
  },
  {
   "cell_type": "code",
   "execution_count": null,
   "metadata": {
    "ExecuteTime": {
     "end_time": "2018-11-16T20:08:10.546411Z",
     "start_time": "2018-11-16T20:08:10.540632Z"
    }
   },
   "outputs": [],
   "source": [
    "initial_toy_weights = [.1]*10\n",
    "initial_toy_weights"
   ]
  },
  {
   "cell_type": "markdown",
   "metadata": {},
   "source": [
    "### Testing Activation Training"
   ]
  },
  {
   "cell_type": "code",
   "execution_count": null,
   "metadata": {
    "ExecuteTime": {
     "end_time": "2018-11-16T20:08:12.683939Z",
     "start_time": "2018-11-16T20:08:12.678289Z"
    },
    "scrolled": true
   },
   "outputs": [],
   "source": [
    "toy_boost.weak_classifiers[0]"
   ]
  },
  {
   "cell_type": "code",
   "execution_count": null,
   "metadata": {
    "ExecuteTime": {
     "end_time": "2018-11-16T20:08:12.982691Z",
     "start_time": "2018-11-16T20:08:12.980766Z"
    }
   },
   "outputs": [],
   "source": [
    "print(toy_boost.weak_classifiers[0].activations)"
   ]
  },
  {
   "cell_type": "markdown",
   "metadata": {},
   "source": [
    "Setting up activations"
   ]
  },
  {
   "cell_type": "code",
   "execution_count": null,
   "metadata": {
    "ExecuteTime": {
     "end_time": "2018-11-16T20:08:14.307106Z",
     "start_time": "2018-11-16T20:08:14.304003Z"
    }
   },
   "outputs": [],
   "source": [
    "activations = toy_boost.calculate_training_activations(\"toy_act_dir.npy\", \"toy_act_dir.npy\")"
   ]
  },
  {
   "cell_type": "code",
   "execution_count": null,
   "metadata": {
    "ExecuteTime": {
     "end_time": "2018-11-16T20:08:14.724615Z",
     "start_time": "2018-11-16T20:08:14.721522Z"
    }
   },
   "outputs": [],
   "source": [
    "print(activations.shape)\n",
    "print(activations)"
   ]
  },
  {
   "cell_type": "markdown",
   "metadata": {},
   "source": [
    "### Testing Weak Classifier Class Functions"
   ]
  },
  {
   "cell_type": "code",
   "execution_count": null,
   "metadata": {
    "ExecuteTime": {
     "end_time": "2018-11-16T20:08:18.665004Z",
     "start_time": "2018-11-16T20:08:18.653207Z"
    }
   },
   "outputs": [],
   "source": [
    "exampleWeakClassifier = toy_boost.weak_classifiers[0]\n",
    "print(\"Range of activations: \", min(exampleWeakClassifier.activations), \" to \", \n",
    "      max(exampleWeakClassifier.activations))"
   ]
  },
  {
   "cell_type": "markdown",
   "metadata": {},
   "source": [
    "#### Weak Classifier Helper Functions"
   ]
  },
  {
   "cell_type": "code",
   "execution_count": null,
   "metadata": {
    "ExecuteTime": {
     "end_time": "2018-11-16T20:08:20.844560Z",
     "start_time": "2018-11-16T20:08:20.841712Z"
    }
   },
   "outputs": [],
   "source": [
    "exampleWeakClassifier.activations"
   ]
  },
  {
   "cell_type": "code",
   "execution_count": null,
   "metadata": {
    "ExecuteTime": {
     "end_time": "2018-11-16T20:08:21.233609Z",
     "start_time": "2018-11-16T20:08:21.230177Z"
    }
   },
   "outputs": [],
   "source": [
    "#the predicted labels from the weak classifier\n",
    "predictions = exampleWeakClassifier.make_classification_predictions(0)\n",
    "print(predictions)"
   ]
  },
  {
   "cell_type": "code",
   "execution_count": null,
   "metadata": {
    "ExecuteTime": {
     "end_time": "2018-11-16T20:08:22.217860Z",
     "start_time": "2018-11-16T20:08:22.214957Z"
    }
   },
   "outputs": [],
   "source": [
    "toy_labels"
   ]
  },
  {
   "cell_type": "code",
   "execution_count": null,
   "metadata": {
    "ExecuteTime": {
     "end_time": "2018-11-16T20:08:24.342089Z",
     "start_time": "2018-11-16T20:08:24.338869Z"
    }
   },
   "outputs": [],
   "source": [
    "#indicates which predictions were incorrect\n",
    "exampleWeakClassifier.classification_indicator_function(toy_labels, predictions)"
   ]
  },
  {
   "cell_type": "code",
   "execution_count": null,
   "metadata": {
    "ExecuteTime": {
     "end_time": "2018-11-16T20:08:24.557502Z",
     "start_time": "2018-11-16T20:08:24.553746Z"
    }
   },
   "outputs": [],
   "source": [
    "#calculate weighted total error (here we have 7 wrong 3 right)\n",
    "exampleWeakClassifier.weighted_error_calc(initial_toy_weights, toy_labels, predictions)"
   ]
  },
  {
   "cell_type": "markdown",
   "metadata": {},
   "source": [
    "#### Main Error Calculation"
   ]
  },
  {
   "cell_type": "code",
   "execution_count": null,
   "metadata": {
    "ExecuteTime": {
     "end_time": "2018-11-16T20:08:27.256750Z",
     "start_time": "2018-11-16T20:08:27.246539Z"
    },
    "scrolled": false
   },
   "outputs": [],
   "source": [
    "print(\"Classifier 1:\")\n",
    "print(\"min error: \", toy_boost.weak_classifiers[0].calc_error(initial_toy_weights, toy_labels))\n",
    "print(\"th: \", toy_boost.weak_classifiers[0].threshold)\n",
    "print(\"pol: \", toy_boost.weak_classifiers[0].polarity)\n",
    "\n",
    "print(\"Classifier 2:\")\n",
    "print(\"min error: \", toy_boost.weak_classifiers[1].calc_error(initial_toy_weights, toy_labels))\n",
    "print(\"th: \", toy_boost.weak_classifiers[1].threshold)\n",
    "print(\"pol: \", toy_boost.weak_classifiers[1].polarity)\n",
    "\n",
    "print(\"Classifier 3:\")\n",
    "print(\"min error: \", toy_boost.weak_classifiers[2].calc_error(initial_toy_weights, toy_labels))\n",
    "print(\"th: \", toy_boost.weak_classifiers[2].threshold)\n",
    "print(\"pol: \", toy_boost.weak_classifiers[2].polarity)\n",
    "\n",
    "print(\"Classifier 4:\")\n",
    "print(\"min error: \", toy_boost.weak_classifiers[3].calc_error(initial_toy_weights, toy_labels))\n",
    "print(\"th: \", toy_boost.weak_classifiers[3].threshold)\n",
    "print(\"pol: \", toy_boost.weak_classifiers[3].polarity)\n",
    "\n",
    "print(\"Classifier 5:\")\n",
    "print(\"min error: \", toy_boost.weak_classifiers[4].calc_error(initial_toy_weights, toy_labels))\n",
    "print(\"th: \", toy_boost.weak_classifiers[4].threshold)\n",
    "print(\"pol: \", toy_boost.weak_classifiers[4].polarity)"
   ]
  },
  {
   "cell_type": "code",
   "execution_count": null,
   "metadata": {
    "ExecuteTime": {
     "end_time": "2018-11-16T20:08:29.581943Z",
     "start_time": "2018-11-16T20:08:29.578927Z"
    }
   },
   "outputs": [],
   "source": [
    "toy_boost.weak_classifiers[3].activations"
   ]
  },
  {
   "cell_type": "code",
   "execution_count": null,
   "metadata": {
    "ExecuteTime": {
     "end_time": "2018-11-16T20:08:30.106788Z",
     "start_time": "2018-11-16T20:08:30.099581Z"
    },
    "scrolled": true
   },
   "outputs": [],
   "source": [
    "toy_boost.weak_classifiers[3].activations > 5.03"
   ]
  },
  {
   "cell_type": "markdown",
   "metadata": {},
   "source": [
    "#### Function Profiler for Optimization"
   ]
  },
  {
   "cell_type": "code",
   "execution_count": null,
   "metadata": {
    "ExecuteTime": {
     "end_time": "2018-11-16T19:58:04.351887Z",
     "start_time": "2018-11-16T19:58:04.340203Z"
    }
   },
   "outputs": [],
   "source": [
    "%lprun -f wc1.calc_error wc1.calc_error(weights, labels)"
   ]
  },
  {
   "cell_type": "markdown",
   "metadata": {},
   "source": [
    "### Testing Boosting Classifier Class Functions"
   ]
  },
  {
   "cell_type": "code",
   "execution_count": null,
   "metadata": {
    "ExecuteTime": {
     "end_time": "2018-11-16T18:30:12.145691Z",
     "start_time": "2018-11-16T18:30:12.142764Z"
    }
   },
   "outputs": [],
   "source": [
    "#Predictions from the weak classifiers\n",
    "print(toy_boost.labels == 1) #correct labels\n",
    "for classifier in toy_boost.weak_classifiers:\n",
    "    print(classifier.activations*classifier.polarity > classifier.threshold*classifier.polarity)"
   ]
  },
  {
   "cell_type": "markdown",
   "metadata": {},
   "source": [
    "#### Testing Inside components of Train function"
   ]
  },
  {
   "cell_type": "code",
   "execution_count": null,
   "metadata": {
    "ExecuteTime": {
     "end_time": "2018-11-16T18:30:16.358292Z",
     "start_time": "2018-11-16T18:30:16.353642Z"
    }
   },
   "outputs": [],
   "source": [
    "min_error = [classifier.calc_error(initial_toy_weights, toy_boost.labels)for classifer in toy_boost.weak_classifiers]\n",
    "print(\"min error: \", min_error)    "
   ]
  },
  {
   "cell_type": "markdown",
   "metadata": {},
   "source": [
    "select the best weak classifier"
   ]
  },
  {
   "cell_type": "code",
   "execution_count": null,
   "metadata": {
    "ExecuteTime": {
     "end_time": "2018-11-16T18:30:19.630474Z",
     "start_time": "2018-11-16T18:30:19.624636Z"
    }
   },
   "outputs": [],
   "source": [
    "import copy\n",
    "bestWCIndex = min_error.index(min(min_error))\n",
    "bestWClassifier = copy.deepcopy(toy_boost.weak_classifiers[bestWCIndex])\n",
    "print(bestWClassifier)\n",
    "print(bestWClassifier.polarity)\n",
    "print(bestWClassifier.threshold)"
   ]
  },
  {
   "cell_type": "markdown",
   "metadata": {},
   "source": [
    "#### Test Calculate Alpha"
   ]
  },
  {
   "cell_type": "code",
   "execution_count": null,
   "metadata": {
    "ExecuteTime": {
     "end_time": "2018-11-14T19:40:38.793836Z",
     "start_time": "2018-11-14T19:40:38.789016Z"
    }
   },
   "outputs": [],
   "source": [
    "alph = toy_boost.calculate_alpha(min(min_error))\n",
    "selectedWC.append([alph, bestWClassifier])\n",
    "print(\"alpha: \", alph)"
   ]
  },
  {
   "cell_type": "code",
   "execution_count": null,
   "metadata": {
    "ExecuteTime": {
     "end_time": "2018-11-14T19:40:39.171224Z",
     "start_time": "2018-11-14T19:40:39.165335Z"
    }
   },
   "outputs": [],
   "source": [
    "#check, the error is .3, plug into the formula for alpha\n",
    ".5*(np.log((1-.3)/.3))"
   ]
  },
  {
   "cell_type": "code",
   "execution_count": null,
   "metadata": {
    "ExecuteTime": {
     "end_time": "2018-11-14T19:40:39.634381Z",
     "start_time": "2018-11-14T19:40:39.628596Z"
    }
   },
   "outputs": [],
   "source": [
    "#for bestWC, which data points did it incorrectly classify?\n",
    "print(toy_boost.labels == 1) #correct labels\n",
    "print(bestWClassifier.activations*bestWClassifier.polarity > bestWClassifier.threshold*bestWClassifier.polarity)"
   ]
  },
  {
   "cell_type": "markdown",
   "metadata": {},
   "source": [
    "#### Test WEight Updating"
   ]
  },
  {
   "cell_type": "code",
   "execution_count": null,
   "metadata": {
    "ExecuteTime": {
     "end_time": "2018-11-14T19:40:40.005196Z",
     "start_time": "2018-11-14T19:40:39.999169Z"
    }
   },
   "outputs": [],
   "source": [
    "initial_toy_weights"
   ]
  },
  {
   "cell_type": "code",
   "execution_count": null,
   "metadata": {
    "ExecuteTime": {
     "end_time": "2018-11-14T19:40:40.399968Z",
     "start_time": "2018-11-14T19:40:40.396988Z"
    }
   },
   "outputs": [],
   "source": [
    "weights = toy_boost.update_weights(bestWClassifier, initial_toy_weights, alph)"
   ]
  },
  {
   "cell_type": "code",
   "execution_count": null,
   "metadata": {
    "ExecuteTime": {
     "end_time": "2018-11-14T19:40:40.866336Z",
     "start_time": "2018-11-14T19:40:40.861044Z"
    }
   },
   "outputs": [],
   "source": [
    "weights"
   ]
  },
  {
   "cell_type": "code",
   "execution_count": null,
   "metadata": {
    "ExecuteTime": {
     "end_time": "2018-11-14T19:40:41.343829Z",
     "start_time": "2018-11-14T19:40:41.329662Z"
    },
    "scrolled": true
   },
   "outputs": [],
   "source": [
    "min_error_2 = [classifier.calc_error(weights, toy_boost.labels)for classifer in toy_boost.weak_classifiers]\n",
    "print(\"min error: \", min_error_2 )\n",
    "    \n",
    "bestWCIndex = min_error_2.index(min(min_error_2))\n",
    "bestWClassifier = copy.deepcopy(toy_boost.weak_classifiers[bestWCIndex])\n",
    "print(bestWClassifier)\n",
    "print(bestWClassifier.polarity)\n",
    "print(bestWClassifier.threshold)"
   ]
  },
  {
   "cell_type": "code",
   "execution_count": null,
   "metadata": {},
   "outputs": [],
   "source": [
    "#### Test Train Function with Optimization"
   ]
  },
  {
   "cell_type": "code",
   "execution_count": null,
   "metadata": {
    "ExecuteTime": {
     "end_time": "2018-11-16T23:47:29.695873Z",
     "start_time": "2018-11-16T23:47:29.658576Z"
    }
   },
   "outputs": [],
   "source": [
    "%lprun -f toy_boost.train toy_boost.train()"
   ]
  },
  {
   "cell_type": "code",
   "execution_count": null,
   "metadata": {
    "ExecuteTime": {
     "end_time": "2018-11-16T20:09:05.608381Z",
     "start_time": "2018-11-16T20:09:05.591019Z"
    }
   },
   "outputs": [],
   "source": [
    "toy_boost.train()"
   ]
  },
  {
   "cell_type": "code",
   "execution_count": null,
   "metadata": {
    "ExecuteTime": {
     "end_time": "2018-11-14T19:42:05.883475Z",
     "start_time": "2018-11-14T19:42:05.878872Z"
    },
    "scrolled": true
   },
   "outputs": [],
   "source": [
    "[toy_boost.sc_function(img) for img in toy_boost.data]"
   ]
  },
  {
   "cell_type": "code",
   "execution_count": null,
   "metadata": {
    "ExecuteTime": {
     "end_time": "2018-11-14T19:42:02.006536Z",
     "start_time": "2018-11-14T19:42:02.004078Z"
    },
    "scrolled": true
   },
   "outputs": [],
   "source": [
    "toy_boost.set_strong_classifier_scores"
   ]
  },
  {
   "cell_type": "code",
   "execution_count": null,
   "metadata": {
    "ExecuteTime": {
     "end_time": "2018-11-14T19:42:03.697656Z",
     "start_time": "2018-11-14T19:42:03.688041Z"
    }
   },
   "outputs": [],
   "source": [
    "toy_boost.visualizer.strong_classifier_scores"
   ]
  },
  {
   "cell_type": "markdown",
   "metadata": {},
   "source": [
    "Perform hard mining after all the training epochs are over, using the final strong classifier to get the wrong patches, and then restart the training process with the added wrong patches?"
   ]
  }
 ],
 "metadata": {
  "kernelspec": {
   "display_name": "Python 3",
   "language": "python",
   "name": "python3"
  },
  "language_info": {
   "codemirror_mode": {
    "name": "ipython",
    "version": 3
   },
   "file_extension": ".py",
   "mimetype": "text/x-python",
   "name": "python",
   "nbconvert_exporter": "python",
   "pygments_lexer": "ipython3",
   "version": "3.6.6"
  },
  "toc": {
   "base_numbering": 1,
   "nav_menu": {},
   "number_sections": true,
   "sideBar": true,
   "skip_h1_title": false,
   "title_cell": "Table of Contents",
   "title_sidebar": "Contents",
   "toc_cell": false,
   "toc_position": {},
   "toc_section_display": true,
   "toc_window_display": false
  }
 },
 "nbformat": 4,
 "nbformat_minor": 2
}
