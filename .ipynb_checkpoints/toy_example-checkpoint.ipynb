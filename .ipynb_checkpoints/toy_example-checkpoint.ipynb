{
 "cells": [
  {
   "cell_type": "code",
   "execution_count": 1,
   "metadata": {
    "ExecuteTime": {
     "end_time": "2018-11-14T19:48:22.744779Z",
     "start_time": "2018-11-14T19:48:22.382833Z"
    }
   },
   "outputs": [],
   "source": [
    "import numpy as np\n",
    "import time\n",
    "import cv2\n",
    "from boosting_classifier import Boosting_Classifier\n",
    "from visualizer import Visualizer\n",
    "from im_process import normalize\n",
    "from utils import *"
   ]
  },
  {
   "cell_type": "code",
   "execution_count": 2,
   "metadata": {
    "ExecuteTime": {
     "end_time": "2018-11-14T19:48:22.922775Z",
     "start_time": "2018-11-14T19:48:22.918682Z"
    }
   },
   "outputs": [],
   "source": [
    "flag_subset = True\n",
    "boosting_type = 'Ada' #'Real' or 'Ada'\n",
    "training_epochs = 100 if not flag_subset else 20\n",
    "act_cache_dir = 'wc_activations.npy' if not flag_subset else 'wc_activations_subset.npy'\n",
    "chosen_wc_cache_dir = 'chosen_wcs.pkl' if not flag_subset else 'chosen_wcs_subset.pkl'"
   ]
  },
  {
   "cell_type": "code",
   "execution_count": 3,
   "metadata": {
    "ExecuteTime": {
     "end_time": "2018-11-14T19:48:24.172177Z",
     "start_time": "2018-11-14T19:48:23.338688Z"
    }
   },
   "outputs": [
    {
     "name": "stdout",
     "output_type": "stream",
     "text": [
      "Load in 200 images, 100 faces, 100 non-faces\n"
     ]
    }
   ],
   "source": [
    "#data configurations\n",
    "pos_data_dir = '../newface16'\n",
    "neg_data_dir = '../nonface16'\n",
    "image_w = 16\n",
    "image_h = 16\n",
    "data, labels = load_data(pos_data_dir, neg_data_dir, image_w, image_h, flag_subset)\n",
    "data = integrate_images(normalize(data))"
   ]
  },
  {
   "cell_type": "code",
   "execution_count": 4,
   "metadata": {
    "ExecuteTime": {
     "end_time": "2018-11-14T19:48:24.176160Z",
     "start_time": "2018-11-14T19:48:24.173565Z"
    }
   },
   "outputs": [],
   "source": [
    "#number of bins for boosting\n",
    "num_bins = 25\n",
    "\n",
    "#number of cpus for parallel computing\n",
    "num_cores = 8 if not flag_subset else 1 #always use 1 when debugging"
   ]
  },
  {
   "cell_type": "code",
   "execution_count": 5,
   "metadata": {
    "ExecuteTime": {
     "end_time": "2018-11-14T19:48:24.801737Z",
     "start_time": "2018-11-14T19:48:24.768167Z"
    }
   },
   "outputs": [],
   "source": [
    "#create Haar filters\n",
    "filters = generate_Haar_filters(4, 4, 16, 16, image_w, image_h, flag_subset)"
   ]
  },
  {
   "cell_type": "code",
   "execution_count": 6,
   "metadata": {
    "ExecuteTime": {
     "end_time": "2018-11-14T19:48:25.112401Z",
     "start_time": "2018-11-14T19:48:25.109407Z"
    }
   },
   "outputs": [],
   "source": [
    "#create visualizer to draw histograms, roc curves and best weak classifier accuracies\n",
    "drawer = Visualizer([10, 20, 50, 100], [1, 10, 20, 50, 100])"
   ]
  },
  {
   "cell_type": "code",
   "execution_count": null,
   "metadata": {
    "ExecuteTime": {
     "end_time": "2018-11-14T19:24:45.765201Z",
     "start_time": "2018-11-14T19:24:45.762330Z"
    }
   },
   "outputs": [],
   "source": [
    "#create boost classifier with a pool of weak classifier\n",
    "boost = Boosting_Classifier(filters, data, labels, training_epochs, num_bins, drawer, num_cores, boosting_type)"
   ]
  },
  {
   "cell_type": "code",
   "execution_count": null,
   "metadata": {
    "ExecuteTime": {
     "end_time": "2018-11-14T19:24:45.773102Z",
     "start_time": "2018-11-14T19:24:45.766342Z"
    },
    "scrolled": true
   },
   "outputs": [],
   "source": [
    "#calculate filter values for all training images\n",
    "start = time.clock()\n",
    "activations = boost.calculate_training_activations(act_cache_dir, act_cache_dir)\n",
    "end = time.clock()\n",
    "print('%f seconds for activation calculation' % (end - start))"
   ]
  },
  {
   "cell_type": "markdown",
   "metadata": {},
   "source": [
    "# Code Testing"
   ]
  },
  {
   "cell_type": "code",
   "execution_count": null,
   "metadata": {
    "ExecuteTime": {
     "end_time": "2018-11-13T08:03:36.729138Z",
     "start_time": "2018-11-13T08:03:36.723430Z"
    }
   },
   "outputs": [],
   "source": [
    "#weight initialization\n",
    "weights = [1/200.0]*200"
   ]
  },
  {
   "cell_type": "markdown",
   "metadata": {},
   "source": [
    "## Single Weak Classifier - Adaboost WC Object"
   ]
  },
  {
   "cell_type": "code",
   "execution_count": null,
   "metadata": {
    "ExecuteTime": {
     "end_time": "2018-11-13T07:44:12.856008Z",
     "start_time": "2018-11-13T07:44:12.852125Z"
    }
   },
   "outputs": [],
   "source": [
    "wc1 = boost.weak_classifiers[0]"
   ]
  },
  {
   "cell_type": "code",
   "execution_count": null,
   "metadata": {
    "ExecuteTime": {
     "end_time": "2018-11-13T07:44:12.860003Z",
     "start_time": "2018-11-13T07:44:12.857135Z"
    }
   },
   "outputs": [],
   "source": [
    "print(wc1.polarity)\n",
    "print(wc1.threshold)"
   ]
  },
  {
   "cell_type": "code",
   "execution_count": null,
   "metadata": {
    "ExecuteTime": {
     "end_time": "2018-11-13T07:44:12.868959Z",
     "start_time": "2018-11-13T07:44:12.861188Z"
    }
   },
   "outputs": [],
   "source": [
    "min_error = wc1.calc_error(weights, labels)"
   ]
  },
  {
   "cell_type": "code",
   "execution_count": null,
   "metadata": {
    "ExecuteTime": {
     "end_time": "2018-11-13T07:44:12.874633Z",
     "start_time": "2018-11-13T07:44:12.870197Z"
    }
   },
   "outputs": [],
   "source": [
    "min_error"
   ]
  },
  {
   "cell_type": "code",
   "execution_count": null,
   "metadata": {
    "ExecuteTime": {
     "end_time": "2018-11-13T07:44:12.878265Z",
     "start_time": "2018-11-13T07:44:12.875724Z"
    },
    "scrolled": true
   },
   "outputs": [],
   "source": [
    "print(wc1.polarity)\n",
    "print(wc1.threshold)"
   ]
  },
  {
   "cell_type": "markdown",
   "metadata": {},
   "source": [
    "Filter visualization"
   ]
  },
  {
   "cell_type": "code",
   "execution_count": null,
   "metadata": {
    "ExecuteTime": {
     "end_time": "2018-11-13T22:49:11.913834Z",
     "start_time": "2018-11-13T22:49:11.908881Z"
    }
   },
   "outputs": [],
   "source": [
    "import matplotlib.patches as patches\n",
    "def visualize_haar_filter(wc):\n",
    "    fig, ax = plt.subplots(figsize=(5, 5))\n",
    "    ax.set_xlim(0, 16)\n",
    "    ax.set_ylim(0, 16)\n",
    "\n",
    "    for i in range(len(wc.plus_rects)):\n",
    "        pos_xy = (wc.plus_rects[i][0], wc.plus_rects[i][1])\n",
    "        pos_width = wc.plus_rects[i][2] -wc.plus_rects[i][0] +1\n",
    "        pos_height = wc.plus_rects[i][3] - wc.plus_rects[i][1] +1\n",
    "        \n",
    "        rect_pos = patches.Rectangle(pos_xy,pos_width,pos_height, edgecolor = 'black', facecolor='black')\n",
    "        ax.add_patch(rect_pos)\n",
    "        \n",
    "    for j in range(len(wc.minus_rects)):\n",
    "        neg_xy = (wc.minus_rects[j][0], wc.minus_rects[j][1])\n",
    "        neg_width = wc.minus_rects[j][2] -wc.minus_rects[j][0] +1\n",
    "        neg_height = wc.minus_rects[j][3] - wc.minus_rects[j][1] +1\n",
    "\n",
    "        rect_neg = patches.Rectangle(neg_xy,neg_width,neg_height,linewidth=1,edgecolor='black',facecolor='none')\n",
    "        ax.add_patch(rect_neg)\n",
    "\n",
    "\n",
    "    plt.show()"
   ]
  },
  {
   "cell_type": "code",
   "execution_count": null,
   "metadata": {
    "ExecuteTime": {
     "end_time": "2018-11-13T22:48:46.739217Z",
     "start_time": "2018-11-13T22:48:46.736857Z"
    }
   },
   "outputs": [],
   "source": [
    "print(boost.weak_classifiers[900].plus_rects)\n",
    "print(boost.weak_classifiers[900].minus_rects)"
   ]
  },
  {
   "cell_type": "code",
   "execution_count": null,
   "metadata": {
    "ExecuteTime": {
     "end_time": "2018-11-13T22:50:03.038583Z",
     "start_time": "2018-11-13T22:50:02.969654Z"
    },
    "scrolled": true
   },
   "outputs": [],
   "source": [
    "visualize_haar_filter(boost.weak_classifiers[900])"
   ]
  },
  {
   "cell_type": "markdown",
   "metadata": {},
   "source": [
    "## Multiple weak classifiers as attributes of Boosting Classifier object"
   ]
  },
  {
   "cell_type": "code",
   "execution_count": null,
   "metadata": {
    "ExecuteTime": {
     "end_time": "2018-11-13T07:44:12.994459Z",
     "start_time": "2018-11-13T07:44:12.991379Z"
    }
   },
   "outputs": [],
   "source": [
    "print(boost.weak_classifiers[0].polarity)\n",
    "print(boost.weak_classifiers[0].threshold)\n",
    "\n",
    "print(boost.weak_classifiers[1].polarity)\n",
    "print(boost.weak_classifiers[1].threshold)"
   ]
  },
  {
   "cell_type": "code",
   "execution_count": null,
   "metadata": {
    "ExecuteTime": {
     "end_time": "2018-11-13T07:44:17.917084Z",
     "start_time": "2018-11-13T07:44:12.995718Z"
    }
   },
   "outputs": [],
   "source": [
    "classifier_errors = boost.weak_classifier_errors(weights)"
   ]
  },
  {
   "cell_type": "code",
   "execution_count": null,
   "metadata": {
    "ExecuteTime": {
     "end_time": "2018-11-13T07:44:17.921395Z",
     "start_time": "2018-11-13T07:44:17.918222Z"
    }
   },
   "outputs": [],
   "source": [
    "print(boost.weak_classifiers[0].polarity)\n",
    "print(boost.weak_classifiers[0].threshold)\n",
    "\n",
    "print(boost.weak_classifiers[1].polarity)\n",
    "print(boost.weak_classifiers[1].threshold)"
   ]
  },
  {
   "cell_type": "code",
   "execution_count": null,
   "metadata": {
    "ExecuteTime": {
     "end_time": "2018-11-13T07:44:17.925184Z",
     "start_time": "2018-11-13T07:44:17.922683Z"
    },
    "scrolled": true
   },
   "outputs": [],
   "source": [
    "print(classifier_errors[0])\n",
    "print(classifier_errors[1])"
   ]
  },
  {
   "cell_type": "code",
   "execution_count": null,
   "metadata": {
    "ExecuteTime": {
     "end_time": "2018-11-13T23:36:01.159154Z",
     "start_time": "2018-11-13T23:33:50.501464Z"
    },
    "scrolled": true
   },
   "outputs": [],
   "source": [
    "chosenWeakClassifiers = boost.train(chosen_wc_cache_dir)"
   ]
  },
  {
   "cell_type": "code",
   "execution_count": null,
   "metadata": {
    "ExecuteTime": {
     "end_time": "2018-11-13T23:37:21.795115Z",
     "start_time": "2018-11-13T23:37:21.775411Z"
    }
   },
   "outputs": [],
   "source": [
    "boost.chosen_wcs"
   ]
  },
  {
   "cell_type": "code",
   "execution_count": null,
   "metadata": {
    "ExecuteTime": {
     "end_time": "2018-11-13T23:42:22.190768Z",
     "start_time": "2018-11-13T23:42:22.184952Z"
    }
   },
   "outputs": [],
   "source": [
    "boost.visualizer.weak_classifier_accuracies"
   ]
  },
  {
   "cell_type": "code",
   "execution_count": null,
   "metadata": {
    "ExecuteTime": {
     "end_time": "2018-11-13T23:41:49.863643Z",
     "start_time": "2018-11-13T23:41:49.860362Z"
    }
   },
   "outputs": [],
   "source": [
    "boost.sc_function(boost.data[0])"
   ]
  },
  {
   "cell_type": "code",
   "execution_count": null,
   "metadata": {
    "ExecuteTime": {
     "end_time": "2018-11-13T07:44:17.994403Z",
     "start_time": "2018-11-13T07:44:04.249Z"
    }
   },
   "outputs": [],
   "source": [
    "boost.set_strong_classifier_scores()"
   ]
  },
  {
   "cell_type": "code",
   "execution_count": null,
   "metadata": {
    "ExecuteTime": {
     "end_time": "2018-11-13T07:46:46.504666Z",
     "start_time": "2018-11-13T07:46:46.403556Z"
    }
   },
   "outputs": [],
   "source": [
    "boost.visualize()"
   ]
  },
  {
   "cell_type": "code",
   "execution_count": null,
   "metadata": {
    "ExecuteTime": {
     "end_time": "2018-11-13T07:44:17.995459Z",
     "start_time": "2018-11-13T07:44:04.253Z"
    }
   },
   "outputs": [],
   "source": [
    "#original_img = cv2.imread('../Testing_Images/Face_1.jpg', cv2.IMREAD_GRAYSCALE)\n",
    "#result_img = boost.face_detection(original_img)\n",
    "#cv2.imwrite('Result_img_%s.png' % boosting_type, result_img)"
   ]
  },
  {
   "cell_type": "markdown",
   "metadata": {},
   "source": [
    "## Toy example"
   ]
  },
  {
   "cell_type": "code",
   "execution_count": 7,
   "metadata": {
    "ExecuteTime": {
     "end_time": "2018-11-14T19:48:29.277729Z",
     "start_time": "2018-11-14T19:48:29.270130Z"
    }
   },
   "outputs": [],
   "source": [
    "fltr_indices = [0, 100, 300, 500, 800]\n",
    "toy_filters = [filters[i] for i in fltr_indices]#five filters\n",
    "toy_data = np.vstack((np.array(data[0:5, :, :]), np.array(data[190:195, :, :]))) #10 images\n",
    "l1 = list(labels[0:5])\n",
    "l2 = list(labels[190:195])\n",
    "toy_labels =  np.array(l1+ l2)  #10 labels"
   ]
  },
  {
   "cell_type": "code",
   "execution_count": 8,
   "metadata": {
    "ExecuteTime": {
     "end_time": "2018-11-14T19:48:29.689360Z",
     "start_time": "2018-11-14T19:48:29.685167Z"
    }
   },
   "outputs": [],
   "source": [
    "toy_boost = Boosting_Classifier(toy_filters, toy_data, toy_labels, 4, num_bins, drawer, 1, \"Ada\")"
   ]
  },
  {
   "cell_type": "code",
   "execution_count": 9,
   "metadata": {
    "ExecuteTime": {
     "end_time": "2018-11-14T19:48:31.085333Z",
     "start_time": "2018-11-14T19:48:31.081657Z"
    }
   },
   "outputs": [
    {
     "data": {
      "text/plain": [
       "[0.1, 0.1, 0.1, 0.1, 0.1, 0.1, 0.1, 0.1, 0.1, 0.1]"
      ]
     },
     "execution_count": 9,
     "metadata": {},
     "output_type": "execute_result"
    }
   ],
   "source": [
    "initial_toy_weights = [.1]*10\n",
    "initial_toy_weights"
   ]
  },
  {
   "cell_type": "code",
   "execution_count": null,
   "metadata": {
    "ExecuteTime": {
     "end_time": "2018-11-14T19:41:11.072791Z",
     "start_time": "2018-11-14T19:41:11.065617Z"
    }
   },
   "outputs": [],
   "source": [
    "toy_boost.weak_classifiers[0]"
   ]
  },
  {
   "cell_type": "code",
   "execution_count": null,
   "metadata": {
    "ExecuteTime": {
     "end_time": "2018-11-14T19:41:11.554771Z",
     "start_time": "2018-11-14T19:41:11.548599Z"
    }
   },
   "outputs": [],
   "source": [
    "print(toy_boost.weak_classifiers[0].activations)"
   ]
  },
  {
   "cell_type": "markdown",
   "metadata": {},
   "source": [
    "Setting up activations"
   ]
  },
  {
   "cell_type": "code",
   "execution_count": 10,
   "metadata": {
    "ExecuteTime": {
     "end_time": "2018-11-14T19:48:33.333787Z",
     "start_time": "2018-11-14T19:48:33.323733Z"
    }
   },
   "outputs": [
    {
     "name": "stdout",
     "output_type": "stream",
     "text": [
      "Calcuate activations for 5 weak classifiers, using 10 imags.\n",
      "[Find cached activations, toy_act_dir.npy loading...]\n"
     ]
    }
   ],
   "source": [
    "activations = toy_boost.calculate_training_activations(\"toy_act_dir.npy\", \"toy_act_dir.npy\")"
   ]
  },
  {
   "cell_type": "code",
   "execution_count": null,
   "metadata": {
    "ExecuteTime": {
     "end_time": "2018-11-14T19:41:13.669765Z",
     "start_time": "2018-11-14T19:41:13.664275Z"
    }
   },
   "outputs": [],
   "source": [
    "print(activations.shape)\n",
    "print(activations)"
   ]
  },
  {
   "cell_type": "code",
   "execution_count": null,
   "metadata": {
    "ExecuteTime": {
     "end_time": "2018-11-14T19:41:14.283541Z",
     "start_time": "2018-11-14T19:41:14.274328Z"
    }
   },
   "outputs": [],
   "source": [
    "toy_boost.weak_classifiers[0].activations"
   ]
  },
  {
   "cell_type": "code",
   "execution_count": null,
   "metadata": {
    "ExecuteTime": {
     "end_time": "2018-11-14T19:41:30.997435Z",
     "start_time": "2018-11-14T19:41:30.977850Z"
    },
    "scrolled": true
   },
   "outputs": [],
   "source": [
    "print(\"Classifier 1:\")\n",
    "print(\"min error: \", toy_boost.weak_classifiers[0].calc_error(initial_toy_weights, toy_labels))\n",
    "print(\"th: \", toy_boost.weak_classifiers[0].threshold)\n",
    "print(\"pol: \", toy_boost.weak_classifiers[0].polarity)\n",
    "\n",
    "print(\"Classifier 2:\")\n",
    "print(\"min error: \", toy_boost.weak_classifiers[1].calc_error(initial_toy_weights, toy_labels))\n",
    "print(\"th: \", toy_boost.weak_classifiers[1].threshold)\n",
    "print(\"pol: \", toy_boost.weak_classifiers[1].polarity)\n",
    "\n",
    "print(\"Classifier 3:\")\n",
    "print(\"min error: \", toy_boost.weak_classifiers[2].calc_error(initial_toy_weights, toy_labels))\n",
    "print(\"th: \", toy_boost.weak_classifiers[2].threshold)\n",
    "print(\"pol: \", toy_boost.weak_classifiers[2].polarity)\n",
    "\n",
    "print(\"Classifier 4:\")\n",
    "print(\"min error: \", toy_boost.weak_classifiers[3].calc_error(initial_toy_weights, toy_labels))\n",
    "print(\"th: \", toy_boost.weak_classifiers[3].threshold)\n",
    "print(\"pol: \", toy_boost.weak_classifiers[3].polarity)\n",
    "\n",
    "print(\"Classifier 5:\")\n",
    "print(\"min error: \", toy_boost.weak_classifiers[4].calc_error(initial_toy_weights, toy_labels))\n",
    "print(\"th: \", toy_boost.weak_classifiers[4].threshold)\n",
    "print(\"pol: \", toy_boost.weak_classifiers[4].polarity)"
   ]
  },
  {
   "cell_type": "code",
   "execution_count": null,
   "metadata": {
    "ExecuteTime": {
     "end_time": "2018-11-14T19:41:38.070664Z",
     "start_time": "2018-11-14T19:41:38.067938Z"
    }
   },
   "outputs": [],
   "source": [
    "print(toy_boost.labels == 1) #correct labels\n",
    "for classifier in toy_boost.weak_classifiers:\n",
    "    print(classifier.activations*classifier.polarity > classifier.threshold*classifier.polarity)"
   ]
  },
  {
   "cell_type": "code",
   "execution_count": null,
   "metadata": {
    "ExecuteTime": {
     "end_time": "2018-11-14T19:41:34.414171Z",
     "start_time": "2018-11-14T19:41:34.406414Z"
    }
   },
   "outputs": [],
   "source": [
    "initial_toy_weights"
   ]
  },
  {
   "cell_type": "markdown",
   "metadata": {},
   "source": [
    "calculate all weak classifier errors using the weighted data"
   ]
  },
  {
   "cell_type": "code",
   "execution_count": null,
   "metadata": {
    "ExecuteTime": {
     "end_time": "2018-11-14T19:41:35.700788Z",
     "start_time": "2018-11-14T19:41:35.693525Z"
    }
   },
   "outputs": [],
   "source": [
    "min_error = [classifier.calc_error(initial_toy_weights, toy_boost.labels)for classifer in toy_boost.weak_classifiers]\n",
    "print(\"min error: \", min_error)    "
   ]
  },
  {
   "cell_type": "markdown",
   "metadata": {},
   "source": [
    "select the best weak classifier"
   ]
  },
  {
   "cell_type": "code",
   "execution_count": null,
   "metadata": {
    "ExecuteTime": {
     "end_time": "2018-11-14T19:40:37.801512Z",
     "start_time": "2018-11-14T19:40:37.798455Z"
    }
   },
   "outputs": [],
   "source": [
    "import copy\n",
    "bestWCIndex = min_error.index(min(min_error))\n",
    "bestWClassifier = copy.deepcopy(toy_boost.weak_classifiers[bestWCIndex])\n",
    "print(bestWClassifier)\n",
    "print(bestWClassifier.polarity)\n",
    "print(bestWClassifier.threshold)"
   ]
  },
  {
   "cell_type": "code",
   "execution_count": null,
   "metadata": {
    "ExecuteTime": {
     "end_time": "2018-11-14T19:40:38.067662Z",
     "start_time": "2018-11-14T19:40:38.063800Z"
    }
   },
   "outputs": [],
   "source": [
    "selectedWC = []"
   ]
  },
  {
   "cell_type": "markdown",
   "metadata": {},
   "source": [
    "calculate alpha value"
   ]
  },
  {
   "cell_type": "code",
   "execution_count": null,
   "metadata": {
    "ExecuteTime": {
     "end_time": "2018-11-14T19:40:38.793836Z",
     "start_time": "2018-11-14T19:40:38.789016Z"
    }
   },
   "outputs": [],
   "source": [
    "alph = toy_boost.calculate_alpha(min(min_error))\n",
    "selectedWC.append([alph, bestWClassifier])\n",
    "print(\"alpha: \", alph)"
   ]
  },
  {
   "cell_type": "code",
   "execution_count": null,
   "metadata": {
    "ExecuteTime": {
     "end_time": "2018-11-14T19:40:39.171224Z",
     "start_time": "2018-11-14T19:40:39.165335Z"
    }
   },
   "outputs": [],
   "source": [
    "#check, the error is .3, plug into the formula for alpha\n",
    ".5*(np.log((1-.3)/.3))"
   ]
  },
  {
   "cell_type": "code",
   "execution_count": null,
   "metadata": {
    "ExecuteTime": {
     "end_time": "2018-11-14T19:40:39.634381Z",
     "start_time": "2018-11-14T19:40:39.628596Z"
    }
   },
   "outputs": [],
   "source": [
    "#for bestWC, which data points did it incorrectly classify?\n",
    "print(toy_boost.labels == 1) #correct labels\n",
    "print(bestWClassifier.activations*bestWClassifier.polarity > bestWClassifier.threshold*bestWClassifier.polarity)"
   ]
  },
  {
   "cell_type": "code",
   "execution_count": null,
   "metadata": {
    "ExecuteTime": {
     "end_time": "2018-11-14T19:40:40.005196Z",
     "start_time": "2018-11-14T19:40:39.999169Z"
    }
   },
   "outputs": [],
   "source": [
    "initial_toy_weights"
   ]
  },
  {
   "cell_type": "code",
   "execution_count": null,
   "metadata": {
    "ExecuteTime": {
     "end_time": "2018-11-14T19:40:40.399968Z",
     "start_time": "2018-11-14T19:40:40.396988Z"
    }
   },
   "outputs": [],
   "source": [
    "weights = toy_boost.update_weights(bestWClassifier, initial_toy_weights, alph)"
   ]
  },
  {
   "cell_type": "code",
   "execution_count": null,
   "metadata": {
    "ExecuteTime": {
     "end_time": "2018-11-14T19:40:40.866336Z",
     "start_time": "2018-11-14T19:40:40.861044Z"
    }
   },
   "outputs": [],
   "source": [
    "weights"
   ]
  },
  {
   "cell_type": "code",
   "execution_count": null,
   "metadata": {
    "ExecuteTime": {
     "end_time": "2018-11-14T19:40:41.343829Z",
     "start_time": "2018-11-14T19:40:41.329662Z"
    },
    "scrolled": true
   },
   "outputs": [],
   "source": [
    "min_error_2 = [classifier.calc_error(weights, toy_boost.labels)for classifer in toy_boost.weak_classifiers]\n",
    "print(\"min error: \", min_error_2 )\n",
    "    \n",
    "bestWCIndex = min_error_2.index(min(min_error_2))\n",
    "bestWClassifier = copy.deepcopy(toy_boost.weak_classifiers[bestWCIndex])\n",
    "print(bestWClassifier)\n",
    "print(bestWClassifier.polarity)\n",
    "print(bestWClassifier.threshold)"
   ]
  },
  {
   "cell_type": "code",
   "execution_count": 11,
   "metadata": {
    "ExecuteTime": {
     "end_time": "2018-11-14T19:48:38.666437Z",
     "start_time": "2018-11-14T19:48:38.601415Z"
    }
   },
   "outputs": [
    {
     "ename": "TypeError",
     "evalue": "'Visualizer' object does not support item assignment",
     "output_type": "error",
     "traceback": [
      "\u001b[0;31m---------------------------------------------------------------------------\u001b[0m",
      "\u001b[0;31mTypeError\u001b[0m                                 Traceback (most recent call last)",
      "\u001b[0;32m<ipython-input-11-1090779726d4>\u001b[0m in \u001b[0;36m<module>\u001b[0;34m()\u001b[0m\n\u001b[0;32m----> 1\u001b[0;31m \u001b[0mtoy_boost\u001b[0m\u001b[0;34m.\u001b[0m\u001b[0mtrain\u001b[0m\u001b[0;34m(\u001b[0m\u001b[0;34m)\u001b[0m\u001b[0;34m\u001b[0m\u001b[0m\n\u001b[0m",
      "\u001b[0;32m~/Documents/Stat231/Project2/proj2_code/boosting_classifier.py\u001b[0m in \u001b[0;36mtrain\u001b[0;34m(self, save_dir)\u001b[0m\n\u001b[1;32m     86\u001b[0m                         \u001b[0mself\u001b[0m\u001b[0;34m.\u001b[0m\u001b[0mchosen_wcs\u001b[0m\u001b[0;34m.\u001b[0m\u001b[0mappend\u001b[0m\u001b[0;34m(\u001b[0m\u001b[0;34m[\u001b[0m\u001b[0malph\u001b[0m\u001b[0;34m,\u001b[0m \u001b[0mbestWeakClassifier\u001b[0m\u001b[0;34m]\u001b[0m\u001b[0;34m)\u001b[0m\u001b[0;34m\u001b[0m\u001b[0m\n\u001b[1;32m     87\u001b[0m                         \u001b[0mweights\u001b[0m \u001b[0;34m=\u001b[0m \u001b[0mself\u001b[0m\u001b[0;34m.\u001b[0m\u001b[0mupdate_weights\u001b[0m\u001b[0;34m(\u001b[0m\u001b[0mbestWeakClassifier\u001b[0m\u001b[0;34m,\u001b[0m \u001b[0mweights\u001b[0m\u001b[0;34m,\u001b[0m \u001b[0malph\u001b[0m\u001b[0;34m)\u001b[0m\u001b[0;34m\u001b[0m\u001b[0m\n\u001b[0;32m---> 88\u001b[0;31m                         \u001b[0mself\u001b[0m\u001b[0;34m.\u001b[0m\u001b[0mvisualizer\u001b[0m\u001b[0;34m[\u001b[0m\u001b[0mt\u001b[0m\u001b[0;34m]\u001b[0m \u001b[0;34m=\u001b[0m \u001b[0mself\u001b[0m\u001b[0;34m.\u001b[0m\u001b[0mset_strong_classifier_scores\u001b[0m\u001b[0;34m(\u001b[0m\u001b[0;34m)\u001b[0m\u001b[0;34m\u001b[0m\u001b[0m\n\u001b[0m\u001b[1;32m     89\u001b[0m \u001b[0;34m\u001b[0m\u001b[0m\n\u001b[1;32m     90\u001b[0m                 \u001b[0mself\u001b[0m\u001b[0;34m.\u001b[0m\u001b[0mvisualizer\u001b[0m\u001b[0;34m.\u001b[0m\u001b[0mweak_classifier_accuracies\u001b[0m \u001b[0;34m=\u001b[0m \u001b[0mwc_accuracies\u001b[0m\u001b[0;34m\u001b[0m\u001b[0m\n",
      "\u001b[0;31mTypeError\u001b[0m: 'Visualizer' object does not support item assignment"
     ]
    }
   ],
   "source": [
    "toy_boost.train()"
   ]
  },
  {
   "cell_type": "code",
   "execution_count": null,
   "metadata": {
    "ExecuteTime": {
     "end_time": "2018-11-14T19:42:05.883475Z",
     "start_time": "2018-11-14T19:42:05.878872Z"
    },
    "scrolled": true
   },
   "outputs": [],
   "source": [
    "[toy_boost.sc_function(img) for img in toy_boost.data]"
   ]
  },
  {
   "cell_type": "code",
   "execution_count": null,
   "metadata": {
    "ExecuteTime": {
     "end_time": "2018-11-14T19:42:02.006536Z",
     "start_time": "2018-11-14T19:42:02.004078Z"
    },
    "scrolled": true
   },
   "outputs": [],
   "source": [
    "toy_boost.set_strong_classifier_scores"
   ]
  },
  {
   "cell_type": "code",
   "execution_count": null,
   "metadata": {
    "ExecuteTime": {
     "end_time": "2018-11-14T19:42:03.697656Z",
     "start_time": "2018-11-14T19:42:03.688041Z"
    }
   },
   "outputs": [],
   "source": [
    "toy_boost.visualizer.strong_classifier_scores"
   ]
  },
  {
   "cell_type": "code",
   "execution_count": null,
   "metadata": {},
   "outputs": [],
   "source": []
  }
 ],
 "metadata": {
  "kernelspec": {
   "display_name": "Python 3",
   "language": "python",
   "name": "python3"
  },
  "language_info": {
   "codemirror_mode": {
    "name": "ipython",
    "version": 3
   },
   "file_extension": ".py",
   "mimetype": "text/x-python",
   "name": "python",
   "nbconvert_exporter": "python",
   "pygments_lexer": "ipython3",
   "version": "3.6.6"
  },
  "toc": {
   "base_numbering": 1,
   "nav_menu": {},
   "number_sections": true,
   "sideBar": true,
   "skip_h1_title": false,
   "title_cell": "Table of Contents",
   "title_sidebar": "Contents",
   "toc_cell": false,
   "toc_position": {},
   "toc_section_display": true,
   "toc_window_display": false
  }
 },
 "nbformat": 4,
 "nbformat_minor": 2
}
