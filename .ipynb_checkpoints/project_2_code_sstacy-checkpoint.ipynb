{
 "cells": [
  {
   "cell_type": "code",
   "execution_count": 1,
   "metadata": {
    "ExecuteTime": {
     "end_time": "2018-11-13T22:44:16.402348Z",
     "start_time": "2018-11-13T22:44:15.779724Z"
    }
   },
   "outputs": [],
   "source": [
    "import numpy as np\n",
    "import time\n",
    "import cv2\n",
    "from boosting_classifier import Boosting_Classifier\n",
    "from visualizer import Visualizer\n",
    "from im_process import normalize\n",
    "from utils import *"
   ]
  },
  {
   "cell_type": "code",
   "execution_count": 2,
   "metadata": {
    "ExecuteTime": {
     "end_time": "2018-11-13T22:44:16.405923Z",
     "start_time": "2018-11-13T22:44:16.403615Z"
    }
   },
   "outputs": [],
   "source": [
    "flag_subset = True\n",
    "boosting_type = 'Ada' #'Real' or 'Ada'\n",
    "training_epochs = 100 if not flag_subset else 20\n",
    "act_cache_dir = 'wc_activations.npy' if not flag_subset else 'wc_activations_subset.npy'\n",
    "chosen_wc_cache_dir = 'chosen_wcs.pkl' if not flag_subset else 'chosen_wcs_subset.pkl'"
   ]
  },
  {
   "cell_type": "code",
   "execution_count": 3,
   "metadata": {
    "ExecuteTime": {
     "end_time": "2018-11-13T22:44:24.882422Z",
     "start_time": "2018-11-13T22:44:16.880168Z"
    }
   },
   "outputs": [
    {
     "name": "stdout",
     "output_type": "stream",
     "text": [
      "Load in 200 images, 100 faces, 100 non-faces\n"
     ]
    }
   ],
   "source": [
    "#data configurations\n",
    "pos_data_dir = '../newface16'\n",
    "neg_data_dir = '../nonface16'\n",
    "image_w = 16\n",
    "image_h = 16\n",
    "data, labels = load_data(pos_data_dir, neg_data_dir, image_w, image_h, flag_subset)\n",
    "data = integrate_images(normalize(data))"
   ]
  },
  {
   "cell_type": "code",
   "execution_count": 4,
   "metadata": {
    "ExecuteTime": {
     "end_time": "2018-11-13T22:44:24.886633Z",
     "start_time": "2018-11-13T22:44:24.884311Z"
    }
   },
   "outputs": [],
   "source": [
    "#number of bins for boosting\n",
    "num_bins = 25\n",
    "\n",
    "#number of cpus for parallel computing\n",
    "num_cores = 8 if not flag_subset else 1 #always use 1 when debugging"
   ]
  },
  {
   "cell_type": "code",
   "execution_count": 5,
   "metadata": {
    "ExecuteTime": {
     "end_time": "2018-11-13T22:44:24.927799Z",
     "start_time": "2018-11-13T22:44:24.888434Z"
    }
   },
   "outputs": [],
   "source": [
    "#create Haar filters\n",
    "filters = generate_Haar_filters(4, 4, 16, 16, image_w, image_h, flag_subset)"
   ]
  },
  {
   "cell_type": "code",
   "execution_count": 6,
   "metadata": {
    "ExecuteTime": {
     "end_time": "2018-11-13T22:44:24.931266Z",
     "start_time": "2018-11-13T22:44:24.929162Z"
    }
   },
   "outputs": [],
   "source": [
    "#create visualizer to draw histograms, roc curves and best weak classifier accuracies\n",
    "drawer = Visualizer([10, 20, 50, 100], [1, 10, 20, 50, 100])"
   ]
  },
  {
   "cell_type": "code",
   "execution_count": 7,
   "metadata": {
    "ExecuteTime": {
     "end_time": "2018-11-13T22:44:24.938181Z",
     "start_time": "2018-11-13T22:44:24.932781Z"
    }
   },
   "outputs": [],
   "source": [
    "#create boost classifier with a pool of weak classifier\n",
    "boost = Boosting_Classifier(filters, data, labels, training_epochs, num_bins, drawer, num_cores, boosting_type)"
   ]
  },
  {
   "cell_type": "code",
   "execution_count": 8,
   "metadata": {
    "ExecuteTime": {
     "end_time": "2018-11-13T22:44:25.860591Z",
     "start_time": "2018-11-13T22:44:24.939951Z"
    },
    "scrolled": true
   },
   "outputs": [
    {
     "name": "stdout",
     "output_type": "stream",
     "text": [
      "Calcuate activations for 1000 weak classifiers, using 200 imags.\n",
      "Weak Classifier No. 100 has finished applying\n",
      "Weak Classifier No. 200 has finished applying\n",
      "Weak Classifier No. 300 has finished applying\n",
      "Weak Classifier No. 400 has finished applying\n",
      "Weak Classifier No. 500 has finished applying\n",
      "Weak Classifier No. 600 has finished applying\n",
      "Weak Classifier No. 700 has finished applying\n",
      "Weak Classifier No. 800 has finished applying\n",
      "Weak Classifier No. 900 has finished applying\n",
      "Weak Classifier No. 1000 has finished applying\n",
      "Writing results to disk...\n",
      "[Saved calculated activations to wc_activations_subset.npy]\n",
      "0.920766 seconds for activation calculation\n"
     ]
    }
   ],
   "source": [
    "#calculate filter values for all training images\n",
    "start = time.clock()\n",
    "activations = boost.calculate_training_activations(act_cache_dir, act_cache_dir)\n",
    "end = time.clock()\n",
    "print('%f seconds for activation calculation' % (end - start))"
   ]
  },
  {
   "cell_type": "markdown",
   "metadata": {},
   "source": [
    "# Code Testing"
   ]
  },
  {
   "cell_type": "code",
   "execution_count": 61,
   "metadata": {
    "ExecuteTime": {
     "end_time": "2018-11-13T08:03:36.729138Z",
     "start_time": "2018-11-13T08:03:36.723430Z"
    }
   },
   "outputs": [],
   "source": [
    "#weight initialization\n",
    "weights = [1/200.0]*200"
   ]
  },
  {
   "cell_type": "markdown",
   "metadata": {},
   "source": [
    "## Single Weak Classifier - Adaboost WC Object"
   ]
  },
  {
   "cell_type": "code",
   "execution_count": 10,
   "metadata": {
    "ExecuteTime": {
     "end_time": "2018-11-13T07:44:12.856008Z",
     "start_time": "2018-11-13T07:44:12.852125Z"
    }
   },
   "outputs": [],
   "source": [
    "wc1 = boost.weak_classifiers[0]"
   ]
  },
  {
   "cell_type": "code",
   "execution_count": 11,
   "metadata": {
    "ExecuteTime": {
     "end_time": "2018-11-13T07:44:12.860003Z",
     "start_time": "2018-11-13T07:44:12.857135Z"
    }
   },
   "outputs": [
    {
     "name": "stdout",
     "output_type": "stream",
     "text": [
      "None\n",
      "None\n"
     ]
    }
   ],
   "source": [
    "print(wc1.polarity)\n",
    "print(wc1.threshold)"
   ]
  },
  {
   "cell_type": "code",
   "execution_count": 12,
   "metadata": {
    "ExecuteTime": {
     "end_time": "2018-11-13T07:44:12.868959Z",
     "start_time": "2018-11-13T07:44:12.861188Z"
    }
   },
   "outputs": [],
   "source": [
    "min_error = wc1.calc_error(weights, labels)"
   ]
  },
  {
   "cell_type": "code",
   "execution_count": 13,
   "metadata": {
    "ExecuteTime": {
     "end_time": "2018-11-13T07:44:12.874633Z",
     "start_time": "2018-11-13T07:44:12.870197Z"
    }
   },
   "outputs": [
    {
     "data": {
      "text/plain": [
       "0.43999999999999995"
      ]
     },
     "execution_count": 13,
     "metadata": {},
     "output_type": "execute_result"
    }
   ],
   "source": [
    "min_error"
   ]
  },
  {
   "cell_type": "code",
   "execution_count": 14,
   "metadata": {
    "ExecuteTime": {
     "end_time": "2018-11-13T07:44:12.878265Z",
     "start_time": "2018-11-13T07:44:12.875724Z"
    },
    "scrolled": true
   },
   "outputs": [
    {
     "name": "stdout",
     "output_type": "stream",
     "text": [
      "-1\n",
      "-0.1414965986394563\n"
     ]
    }
   ],
   "source": [
    "print(wc1.polarity)\n",
    "print(wc1.threshold)"
   ]
  },
  {
   "cell_type": "markdown",
   "metadata": {},
   "source": [
    "Filter visualization"
   ]
  },
  {
   "cell_type": "code",
   "execution_count": 26,
   "metadata": {
    "ExecuteTime": {
     "end_time": "2018-11-13T22:49:11.913834Z",
     "start_time": "2018-11-13T22:49:11.908881Z"
    }
   },
   "outputs": [],
   "source": [
    "import matplotlib.patches as patches\n",
    "def visualize_haar_filter(wc):\n",
    "    fig, ax = plt.subplots(figsize=(5, 5))\n",
    "    ax.set_xlim(0, 16)\n",
    "    ax.set_ylim(0, 16)\n",
    "\n",
    "    for i in range(len(wc.plus_rects)):\n",
    "        pos_xy = (wc.plus_rects[i][0], wc.plus_rects[i][1])\n",
    "        pos_width = wc.plus_rects[i][2] -wc.plus_rects[i][0] +1\n",
    "        pos_height = wc.plus_rects[i][3] - wc.plus_rects[i][1] +1\n",
    "        \n",
    "        rect_pos = patches.Rectangle(pos_xy,pos_width,pos_height, edgecolor = 'black', facecolor='black')\n",
    "        ax.add_patch(rect_pos)\n",
    "        \n",
    "    for j in range(len(wc.minus_rects)):\n",
    "        neg_xy = (wc.minus_rects[j][0], wc.minus_rects[j][1])\n",
    "        neg_width = wc.minus_rects[j][2] -wc.minus_rects[j][0] +1\n",
    "        neg_height = wc.minus_rects[j][3] - wc.minus_rects[j][1] +1\n",
    "\n",
    "        rect_neg = patches.Rectangle(neg_xy,neg_width,neg_height,linewidth=1,edgecolor='black',facecolor='none')\n",
    "        ax.add_patch(rect_neg)\n",
    "\n",
    "\n",
    "    plt.show()"
   ]
  },
  {
   "cell_type": "code",
   "execution_count": 24,
   "metadata": {
    "ExecuteTime": {
     "end_time": "2018-11-13T22:48:46.739217Z",
     "start_time": "2018-11-13T22:48:46.736857Z"
    }
   },
   "outputs": [
    {
     "name": "stdout",
     "output_type": "stream",
     "text": [
      "[(0, 6, 1.0, 8.0), (2.0, 9.0, 3, 11)]\n",
      "[(2.0, 6, 3, 8.0), (0, 9.0, 1.0, 11)]\n"
     ]
    }
   ],
   "source": [
    "print(boost.weak_classifiers[900].plus_rects)\n",
    "print(boost.weak_classifiers[900].minus_rects)"
   ]
  },
  {
   "cell_type": "code",
   "execution_count": 31,
   "metadata": {
    "ExecuteTime": {
     "end_time": "2018-11-13T22:50:03.038583Z",
     "start_time": "2018-11-13T22:50:02.969654Z"
    },
    "scrolled": true
   },
   "outputs": [
    {
     "data": {
      "image/png": "[encoded data removed]",
      "text/plain": [
       "<Figure size 360x360 with 1 Axes>"
      ]
     },
     "metadata": {
      "needs_background": "light"
     },
     "output_type": "display_data"
    }
   ],
   "source": [
    "visualize_haar_filter(boost.weak_classifiers[900])"
   ]
  },
  {
   "cell_type": "markdown",
   "metadata": {},
   "source": [
    "## Multiple weak classifiers as attributes of Boosting Classifier object"
   ]
  },
  {
   "cell_type": "code",
   "execution_count": 19,
   "metadata": {
    "ExecuteTime": {
     "end_time": "2018-11-13T07:44:12.994459Z",
     "start_time": "2018-11-13T07:44:12.991379Z"
    }
   },
   "outputs": [
    {
     "name": "stdout",
     "output_type": "stream",
     "text": [
      "-1\n",
      "-0.1414965986394563\n",
      "None\n",
      "None\n"
     ]
    }
   ],
   "source": [
    "print(boost.weak_classifiers[0].polarity)\n",
    "print(boost.weak_classifiers[0].threshold)\n",
    "\n",
    "print(boost.weak_classifiers[1].polarity)\n",
    "print(boost.weak_classifiers[1].threshold)"
   ]
  },
  {
   "cell_type": "code",
   "execution_count": 20,
   "metadata": {
    "ExecuteTime": {
     "end_time": "2018-11-13T07:44:17.917084Z",
     "start_time": "2018-11-13T07:44:12.995718Z"
    }
   },
   "outputs": [],
   "source": [
    "classifier_errors = boost.weak_classifier_errors(weights)"
   ]
  },
  {
   "cell_type": "code",
   "execution_count": 21,
   "metadata": {
    "ExecuteTime": {
     "end_time": "2018-11-13T07:44:17.921395Z",
     "start_time": "2018-11-13T07:44:17.918222Z"
    }
   },
   "outputs": [
    {
     "name": "stdout",
     "output_type": "stream",
     "text": [
      "-1\n",
      "-0.1414965986394563\n",
      "1\n",
      "0.1607843137254905\n"
     ]
    }
   ],
   "source": [
    "print(boost.weak_classifiers[0].polarity)\n",
    "print(boost.weak_classifiers[0].threshold)\n",
    "\n",
    "print(boost.weak_classifiers[1].polarity)\n",
    "print(boost.weak_classifiers[1].threshold)"
   ]
  },
  {
   "cell_type": "code",
   "execution_count": 22,
   "metadata": {
    "ExecuteTime": {
     "end_time": "2018-11-13T07:44:17.925184Z",
     "start_time": "2018-11-13T07:44:17.922683Z"
    },
    "scrolled": true
   },
   "outputs": [
    {
     "name": "stdout",
     "output_type": "stream",
     "text": [
      "0.43999999999999995\n",
      "0.44\n"
     ]
    }
   ],
   "source": [
    "print(classifier_errors[0])\n",
    "print(classifier_errors[1])"
   ]
  },
  {
   "cell_type": "code",
   "execution_count": 24,
   "metadata": {
    "ExecuteTime": {
     "end_time": "2018-11-13T07:46:46.402396Z",
     "start_time": "2018-11-13T07:44:28.803791Z"
    },
    "scrolled": true
   },
   "outputs": [
    {
     "name": "stdout",
     "output_type": "stream",
     "text": [
      "<weak_classifier.Ada_Weak_Classifier object at 0x7f8185c0d630>\n",
      "threshold:  0.45042016806722884\n",
      "polarity:  1\n",
      "min error:  0.20499999999999996\n",
      "alpha:  0.677666067757962\n",
      "udated weights:  [0.005, 0.005, 0.005, 0.005, 0.005, 0.005, 0.005, 0.005, 0.005, 0.005]\n",
      "<weak_classifier.Ada_Weak_Classifier object at 0x7f8185c0d208>\n",
      "threshold:  -0.5109243697478965\n",
      "polarity:  -1\n",
      "min error:  0.25213518775930444\n",
      "alpha:  0.5436284131555157\n",
      "udated weights:  [0.00861122276838017, 0.00861122276838017, 0.00861122276838017, 0.00861122276838017, 0.00861122276838017, 0.00861122276838017, 0.00861122276838017, 0.00861122276838017, 0.00861122276838017, 0.005]\n",
      "<weak_classifier.Ada_Weak_Classifier object at 0x7f8185c0d470>\n",
      "threshold:  -0.5109243697478965\n",
      "polarity:  -1\n",
      "min error:  0.16370912837756046\n",
      "alpha:  0.8154426197332725\n",
      "udated weights:  [0.019462877735033506, 0.019462877735033506, 0.019462877735033506, 0.019462877735033506, 0.019462877735033506, 0.019462877735033506, 0.019462877735033506, 0.019462877735033506, 0.019462877735033506, 0.005]\n",
      "<weak_classifier.Ada_Weak_Classifier object at 0x7f8185c0d668>\n",
      "threshold:  -0.5109243697478965\n",
      "polarity:  -1\n",
      "min error:  0.07970750079521394\n",
      "alpha:  1.2231639295999048\n",
      "udated weights:  [0.066133331266014, 0.066133331266014, 0.066133331266014, 0.066133331266014, 0.066133331266014, 0.066133331266014, 0.066133331266014, 0.066133331266014, 0.066133331266014, 0.005]\n",
      "<weak_classifier.Ada_Weak_Classifier object at 0x7f8185c0d4e0>\n",
      "threshold:  -0.5109243697478965\n",
      "polarity:  -1\n",
      "min error:  0.02485585921315836\n",
      "alpha:  1.8347458943998507\n",
      "udated weights:  [0.4142289206032043, 0.4142289206032043, 0.4142289206032043, 0.4142289206032043, 0.4142289206032043, 0.4142289206032043, 0.4142289206032043, 0.4142289206032043, 0.4142289206032043, 0.005]\n",
      "<weak_classifier.Ada_Weak_Classifier object at 0x7f8185c0d550>\n",
      "threshold:  -0.5109243697478965\n",
      "polarity:  -1\n",
      "min error:  0.004052996013771737\n",
      "alpha:  2.752118841599728\n",
      "udated weights:  [6.49337438687453, 6.49337438687453, 6.49337438687453, 6.49337438687453, 6.49337438687453, 6.49337438687453, 6.49337438687453, 6.49337438687453, 6.49337438687453, 0.005]\n",
      "<weak_classifier.Ada_Weak_Classifier object at 0x7f8185d0ff98>\n",
      "threshold:  -0.5109243697478965\n",
      "polarity:  -1\n",
      "min error:  0.00025953575147297236\n",
      "alpha:  4.1281782624011845\n",
      "udated weights:  [403.00968517145725, 403.00968517145725, 403.00968517145725, 403.00968517145725, 403.00968517145725, 403.00968517145725, 403.00968517145725, 403.00968517145725, 403.00968517145725, 0.005]\n",
      "<weak_classifier.Ada_Weak_Classifier object at 0x7f8185d0f240>\n",
      "threshold:  -0.5109243697478965\n",
      "polarity:  -1\n",
      "min error:  4.182761138449287e-06\n",
      "alpha:  6.192267393646725\n",
      "udated weights:  [197052.99623995164, 197052.99623995164, 197052.99623995164, 197052.99623995164, 197052.99623995164, 197052.99623995164, 197052.99623995164, 197052.99623995164, 197052.99623995164, 0.005]\n",
      "<weak_classifier.Ada_Weak_Classifier object at 0x7f8185d0fa90>\n",
      "threshold:  -0.5109243697478965\n",
      "polarity:  -1\n",
      "min error:  8.55455328796495e-09\n",
      "alpha:  9.288401069448357\n",
      "udated weights:  [2130513904.8223562, 2130513904.8223562, 2130513904.8223562, 2130513904.8223562, 2130513904.8223562, 2130513904.8223562, 2130513904.8223562, 2130513904.8223562, 2130513904.8223562, 0.005]\n",
      "<weak_classifier.Ada_Weak_Classifier object at 0x7f8185d00278>\n",
      "threshold:  -0.5109243697478965\n",
      "polarity:  -1\n",
      "min error:  7.915890165577366e-13\n",
      "alpha:  13.932367028133983\n",
      "udated weights:  [2394608353239494.0, 2394608353239494.0, 2394608353239494.0, 2394608353239494.0, 2394608353239494.0, 2394608353239494.0, 2394608353239494.0, 2394608353239494.0, 2394608353239494.0, 0.005]\n",
      "<weak_classifier.Ada_Weak_Classifier object at 0x7f8185d0fb00>\n",
      "threshold:  -0.5109243697478965\n",
      "polarity:  -1\n",
      "min error:  0.0\n",
      "alpha:  0\n",
      "udated weights:  [2394608353239494.0, 2394608353239494.0, 2394608353239494.0, 2394608353239494.0, 2394608353239494.0, 2394608353239494.0, 2394608353239494.0, 2394608353239494.0, 2394608353239494.0, 0.005]\n",
      "<weak_classifier.Ada_Weak_Classifier object at 0x7f8185c2b518>\n",
      "threshold:  -0.5109243697478965\n",
      "polarity:  -1\n",
      "min error:  0.0\n",
      "alpha:  0\n",
      "udated weights:  [2394608353239494.0, 2394608353239494.0, 2394608353239494.0, 2394608353239494.0, 2394608353239494.0, 2394608353239494.0, 2394608353239494.0, 2394608353239494.0, 2394608353239494.0, 0.005]\n",
      "<weak_classifier.Ada_Weak_Classifier object at 0x7f8185c2b390>\n",
      "threshold:  -0.5109243697478965\n",
      "polarity:  -1\n",
      "min error:  0.0\n",
      "alpha:  0\n",
      "udated weights:  [2394608353239494.0, 2394608353239494.0, 2394608353239494.0, 2394608353239494.0, 2394608353239494.0, 2394608353239494.0, 2394608353239494.0, 2394608353239494.0, 2394608353239494.0, 0.005]\n",
      "<weak_classifier.Ada_Weak_Classifier object at 0x7f8185c2b240>\n",
      "threshold:  -0.5109243697478965\n",
      "polarity:  -1\n",
      "min error:  0.0\n",
      "alpha:  0\n",
      "udated weights:  [2394608353239494.0, 2394608353239494.0, 2394608353239494.0, 2394608353239494.0, 2394608353239494.0, 2394608353239494.0, 2394608353239494.0, 2394608353239494.0, 2394608353239494.0, 0.005]\n",
      "<weak_classifier.Ada_Weak_Classifier object at 0x7f8185c2b400>\n",
      "threshold:  -0.5109243697478965\n",
      "polarity:  -1\n",
      "min error:  0.0\n",
      "alpha:  0\n",
      "udated weights:  [2394608353239494.0, 2394608353239494.0, 2394608353239494.0, 2394608353239494.0, 2394608353239494.0, 2394608353239494.0, 2394608353239494.0, 2394608353239494.0, 2394608353239494.0, 0.005]\n",
      "<weak_classifier.Ada_Weak_Classifier object at 0x7f8185c2b3c8>\n",
      "threshold:  -0.5109243697478965\n",
      "polarity:  -1\n",
      "min error:  0.0\n",
      "alpha:  0\n",
      "udated weights:  [2394608353239494.0, 2394608353239494.0, 2394608353239494.0, 2394608353239494.0, 2394608353239494.0, 2394608353239494.0, 2394608353239494.0, 2394608353239494.0, 2394608353239494.0, 0.005]\n",
      "<weak_classifier.Ada_Weak_Classifier object at 0x7f8185c2b2b0>\n",
      "threshold:  -0.5109243697478965\n",
      "polarity:  -1\n",
      "min error:  0.0\n",
      "alpha:  0\n",
      "udated weights:  [2394608353239494.0, 2394608353239494.0, 2394608353239494.0, 2394608353239494.0, 2394608353239494.0, 2394608353239494.0, 2394608353239494.0, 2394608353239494.0, 2394608353239494.0, 0.005]\n",
      "<weak_classifier.Ada_Weak_Classifier object at 0x7f8185c2b080>\n",
      "threshold:  -0.5109243697478965\n",
      "polarity:  -1\n",
      "min error:  0.0\n",
      "alpha:  0\n",
      "udated weights:  [2394608353239494.0, 2394608353239494.0, 2394608353239494.0, 2394608353239494.0, 2394608353239494.0, 2394608353239494.0, 2394608353239494.0, 2394608353239494.0, 2394608353239494.0, 0.005]\n",
      "<weak_classifier.Ada_Weak_Classifier object at 0x7f8185c2b550>\n",
      "threshold:  -0.5109243697478965\n",
      "polarity:  -1\n",
      "min error:  0.0\n",
      "alpha:  0\n",
      "udated weights:  [2394608353239494.0, 2394608353239494.0, 2394608353239494.0, 2394608353239494.0, 2394608353239494.0, 2394608353239494.0, 2394608353239494.0, 2394608353239494.0, 2394608353239494.0, 0.005]\n",
      "<weak_classifier.Ada_Weak_Classifier object at 0x7f8185c2b470>\n",
      "threshold:  -0.5109243697478965\n",
      "polarity:  -1\n",
      "min error:  0.0\n",
      "alpha:  0\n",
      "udated weights:  [2394608353239494.0, 2394608353239494.0, 2394608353239494.0, 2394608353239494.0, 2394608353239494.0, 2394608353239494.0, 2394608353239494.0, 2394608353239494.0, 2394608353239494.0, 0.005]\n"
     ]
    }
   ],
   "source": [
    "chosenWeakClassifiers = boost.train(chosen_wc_cache_dir)"
   ]
  },
  {
   "cell_type": "code",
   "execution_count": null,
   "metadata": {
    "ExecuteTime": {
     "end_time": "2018-11-13T07:44:17.992585Z",
     "start_time": "2018-11-13T07:44:04.243Z"
    }
   },
   "outputs": [],
   "source": [
    "boost.chosen_wcs"
   ]
  },
  {
   "cell_type": "code",
   "execution_count": null,
   "metadata": {
    "ExecuteTime": {
     "end_time": "2018-11-13T07:44:17.993228Z",
     "start_time": "2018-11-13T07:44:04.246Z"
    }
   },
   "outputs": [],
   "source": [
    "[np.array([alpha * wc.predict_image(data[0]) for alpha, wc in boost.chosen_wcs])]"
   ]
  },
  {
   "cell_type": "code",
   "execution_count": null,
   "metadata": {
    "ExecuteTime": {
     "end_time": "2018-11-13T07:44:17.993804Z",
     "start_time": "2018-11-13T07:44:04.248Z"
    }
   },
   "outputs": [],
   "source": [
    "boost.sc_function(boost.data[0])"
   ]
  },
  {
   "cell_type": "code",
   "execution_count": null,
   "metadata": {
    "ExecuteTime": {
     "end_time": "2018-11-13T07:44:17.994403Z",
     "start_time": "2018-11-13T07:44:04.249Z"
    }
   },
   "outputs": [],
   "source": [
    "boost.set_strong_classifier_scores()"
   ]
  },
  {
   "cell_type": "code",
   "execution_count": 25,
   "metadata": {
    "ExecuteTime": {
     "end_time": "2018-11-13T07:46:46.504666Z",
     "start_time": "2018-11-13T07:46:46.403556Z"
    },
    "collapsed": true
   },
   "outputs": [
    {
     "name": "stderr",
     "output_type": "stream",
     "text": [
      "No handles with labels found to put in legend.\n"
     ]
    },
    {
     "ename": "TypeError",
     "evalue": "list indices must be integers or slices, not float",
     "output_type": "error",
     "traceback": [
      "\u001b[0;31m---------------------------------------------------------------------------\u001b[0m",
      "\u001b[0;31mTypeError\u001b[0m                                 Traceback (most recent call last)",
      "\u001b[0;32m<ipython-input-25-4575d72b8465>\u001b[0m in \u001b[0;36m<module>\u001b[0;34m()\u001b[0m\n\u001b[0;32m----> 1\u001b[0;31m \u001b[0mboost\u001b[0m\u001b[0;34m.\u001b[0m\u001b[0mvisualize\u001b[0m\u001b[0;34m(\u001b[0m\u001b[0;34m)\u001b[0m\u001b[0;34m\u001b[0m\u001b[0m\n\u001b[0m",
      "\u001b[0;32m~/Documents/Stat231/Project2/proj2_code/boosting_classifier.py\u001b[0m in \u001b[0;36mvisualize\u001b[0;34m(self)\u001b[0m\n\u001b[1;32m    173\u001b[0m                 \u001b[0mself\u001b[0m\u001b[0;34m.\u001b[0m\u001b[0mvisualizer\u001b[0m\u001b[0;34m.\u001b[0m\u001b[0mdraw_histograms\u001b[0m\u001b[0;34m(\u001b[0m\u001b[0;34m)\u001b[0m\u001b[0;34m\u001b[0m\u001b[0m\n\u001b[1;32m    174\u001b[0m                 \u001b[0mself\u001b[0m\u001b[0;34m.\u001b[0m\u001b[0mvisualizer\u001b[0m\u001b[0;34m.\u001b[0m\u001b[0mdraw_rocs\u001b[0m\u001b[0;34m(\u001b[0m\u001b[0;34m)\u001b[0m\u001b[0;34m\u001b[0m\u001b[0m\n\u001b[0;32m--> 175\u001b[0;31m                 \u001b[0mself\u001b[0m\u001b[0;34m.\u001b[0m\u001b[0mvisualizer\u001b[0m\u001b[0;34m.\u001b[0m\u001b[0mdraw_wc_accuracies\u001b[0m\u001b[0;34m(\u001b[0m\u001b[0;34m)\u001b[0m\u001b[0;34m\u001b[0m\u001b[0m\n\u001b[0m",
      "\u001b[0;32m~/Documents/Stat231/Project2/proj2_code/visualizer.py\u001b[0m in \u001b[0;36mdraw_wc_accuracies\u001b[0;34m(self)\u001b[0m\n\u001b[1;32m     41\u001b[0m                 \u001b[0mplt\u001b[0m\u001b[0;34m.\u001b[0m\u001b[0mfigure\u001b[0m\u001b[0;34m(\u001b[0m\u001b[0;34m)\u001b[0m\u001b[0;34m\u001b[0m\u001b[0m\n\u001b[1;32m     42\u001b[0m                 \u001b[0;32mfor\u001b[0m \u001b[0mt\u001b[0m \u001b[0;32min\u001b[0m \u001b[0mself\u001b[0m\u001b[0;34m.\u001b[0m\u001b[0mweak_classifier_accuracies\u001b[0m\u001b[0;34m:\u001b[0m\u001b[0;34m\u001b[0m\u001b[0m\n\u001b[0;32m---> 43\u001b[0;31m                         \u001b[0maccuracies\u001b[0m \u001b[0;34m=\u001b[0m \u001b[0mself\u001b[0m\u001b[0;34m.\u001b[0m\u001b[0mweak_classifier_accuracies\u001b[0m\u001b[0;34m[\u001b[0m\u001b[0mt\u001b[0m\u001b[0;34m]\u001b[0m\u001b[0;34m\u001b[0m\u001b[0m\n\u001b[0m\u001b[1;32m     44\u001b[0m                         \u001b[0mplt\u001b[0m\u001b[0;34m.\u001b[0m\u001b[0mplot\u001b[0m\u001b[0;34m(\u001b[0m\u001b[0maccuracies\u001b[0m\u001b[0;34m,\u001b[0m \u001b[0mlabel\u001b[0m \u001b[0;34m=\u001b[0m \u001b[0;34m'After %d Selection'\u001b[0m \u001b[0;34m%\u001b[0m \u001b[0mt\u001b[0m\u001b[0;34m)\u001b[0m\u001b[0;34m\u001b[0m\u001b[0m\n\u001b[1;32m     45\u001b[0m                 \u001b[0mplt\u001b[0m\u001b[0;34m.\u001b[0m\u001b[0mylabel\u001b[0m\u001b[0;34m(\u001b[0m\u001b[0;34m'Accuracy'\u001b[0m\u001b[0;34m)\u001b[0m\u001b[0;34m\u001b[0m\u001b[0m\n",
      "\u001b[0;31mTypeError\u001b[0m: list indices must be integers or slices, not float"
     ]
    },
    {
     "data": {
      "image/png": "[encoded data removed]",
      "text/plain": [
       "<Figure size 432x288 with 1 Axes>"
      ]
     },
     "metadata": {
      "needs_background": "light"
     },
     "output_type": "display_data"
    },
    {
     "data": {
      "text/plain": [
       "<Figure size 432x288 with 0 Axes>"
      ]
     },
     "metadata": {},
     "output_type": "display_data"
    }
   ],
   "source": [
    "boost.visualize()"
   ]
  },
  {
   "cell_type": "code",
   "execution_count": null,
   "metadata": {
    "ExecuteTime": {
     "end_time": "2018-11-13T07:44:17.995459Z",
     "start_time": "2018-11-13T07:44:04.253Z"
    }
   },
   "outputs": [],
   "source": [
    "#original_img = cv2.imread('../Testing_Images/Face_1.jpg', cv2.IMREAD_GRAYSCALE)\n",
    "#result_img = boost.face_detection(original_img)\n",
    "#cv2.imwrite('Result_img_%s.png' % boosting_type, result_img)"
   ]
  },
  {
   "cell_type": "markdown",
   "metadata": {},
   "source": [
    "## Toy example"
   ]
  },
  {
   "cell_type": "code",
   "execution_count": 36,
   "metadata": {
    "ExecuteTime": {
     "end_time": "2018-11-13T22:56:24.328909Z",
     "start_time": "2018-11-13T22:56:24.323182Z"
    }
   },
   "outputs": [],
   "source": [
    "fltr_indices = [0, 100, 300, 500, 800]\n",
    "toy_filters = [filters[i] for i in fltr_indices]#five filters\n",
    "toy_data = np.vstack((np.array(data[0:5, :, :]), np.array(data[190:195, :, :]))) #10 images\n",
    "l1 = list(labels[0:5])\n",
    "l2 = list(labels[190:195])\n",
    "toy_labels =  np.array(l1+ l2)  #10 labels"
   ]
  },
  {
   "cell_type": "code",
   "execution_count": 37,
   "metadata": {
    "ExecuteTime": {
     "end_time": "2018-11-13T22:56:26.860445Z",
     "start_time": "2018-11-13T22:56:26.858492Z"
    }
   },
   "outputs": [],
   "source": [
    "toy_boost = Boosting_Classifier(toy_filters, toy_data, toy_labels, 4, num_bins, drawer, 1, \"Ada\")"
   ]
  },
  {
   "cell_type": "code",
   "execution_count": 38,
   "metadata": {
    "ExecuteTime": {
     "end_time": "2018-11-13T22:56:28.239323Z",
     "start_time": "2018-11-13T22:56:28.236461Z"
    }
   },
   "outputs": [
    {
     "data": {
      "text/plain": [
       "[0.1, 0.1, 0.1, 0.1, 0.1, 0.1, 0.1, 0.1, 0.1, 0.1]"
      ]
     },
     "execution_count": 38,
     "metadata": {},
     "output_type": "execute_result"
    }
   ],
   "source": [
    "initial_toy_weights = [.1]*10\n",
    "initial_toy_weights"
   ]
  },
  {
   "cell_type": "code",
   "execution_count": 39,
   "metadata": {
    "ExecuteTime": {
     "end_time": "2018-11-13T22:56:28.818491Z",
     "start_time": "2018-11-13T22:56:28.813212Z"
    }
   },
   "outputs": [
    {
     "data": {
      "text/plain": [
       "<weak_classifier.Ada_Weak_Classifier at 0x7fe4dec494a8>"
      ]
     },
     "execution_count": 39,
     "metadata": {},
     "output_type": "execute_result"
    }
   ],
   "source": [
    "toy_boost.weak_classifiers[0]"
   ]
  },
  {
   "cell_type": "code",
   "execution_count": 40,
   "metadata": {
    "ExecuteTime": {
     "end_time": "2018-11-13T22:56:29.457221Z",
     "start_time": "2018-11-13T22:56:29.454556Z"
    }
   },
   "outputs": [
    {
     "name": "stdout",
     "output_type": "stream",
     "text": [
      "None\n"
     ]
    }
   ],
   "source": [
    "print(toy_boost.weak_classifiers[0].activations)"
   ]
  },
  {
   "cell_type": "markdown",
   "metadata": {},
   "source": [
    "Setting up activations"
   ]
  },
  {
   "cell_type": "code",
   "execution_count": 41,
   "metadata": {
    "ExecuteTime": {
     "end_time": "2018-11-13T22:56:30.700874Z",
     "start_time": "2018-11-13T22:56:30.697387Z"
    }
   },
   "outputs": [
    {
     "name": "stdout",
     "output_type": "stream",
     "text": [
      "Calcuate activations for 5 weak classifiers, using 10 imags.\n",
      "[Find cached activations, toy_act_dir.npy loading...]\n"
     ]
    }
   ],
   "source": [
    "activations = toy_boost.calculate_training_activations(\"toy_act_dir.npy\", \"toy_act_dir.npy\")"
   ]
  },
  {
   "cell_type": "code",
   "execution_count": 42,
   "metadata": {
    "ExecuteTime": {
     "end_time": "2018-11-13T22:56:31.665818Z",
     "start_time": "2018-11-13T22:56:31.657118Z"
    }
   },
   "outputs": [
    {
     "name": "stdout",
     "output_type": "stream",
     "text": [
      "(5, 10)\n",
      "[[ 0.36078431  1.46666667 -0.29803922 -1.01960784 -0.15686275  0.54509804\n",
      "   0.88235294 -0.17254902  0.29019608  0.57647059]\n",
      " [ 1.14509804  2.29411765  0.48235294  0.8745098   0.76862745  0.37647059\n",
      "   0.45490196  0.78823529  0.90588235  0.79215686]\n",
      " [-0.58039216 -0.45882353  0.16078431  1.65882353 -0.43529412  0.1254902\n",
      "  -1.2745098  -0.90196078  0.01568627 -0.45490196]\n",
      " [ 4.74117647  5.01568627  3.96862745  1.61568627  3.56470588  4.36078431\n",
      "   6.12156863  1.30196078  1.27843137  5.78039216]\n",
      " [ 0.02352941  0.68627451 -0.02745098  0.34901961  0.30980392  0.28235294\n",
      "  -0.04313725 -0.0627451   0.01568627  0.44705882]]\n"
     ]
    }
   ],
   "source": [
    "print(activations.shape)\n",
    "print(activations)"
   ]
  },
  {
   "cell_type": "code",
   "execution_count": 20,
   "metadata": {
    "ExecuteTime": {
     "end_time": "2018-11-13T22:44:57.443589Z",
     "start_time": "2018-11-13T22:44:57.440773Z"
    }
   },
   "outputs": [
    {
     "data": {
      "text/plain": [
       "array([ 0.36078431,  1.46666667, -0.29803922, -1.01960784, -0.15686275,\n",
       "        0.54509804,  0.88235294, -0.17254902,  0.29019608,  0.57647059])"
      ]
     },
     "execution_count": 20,
     "metadata": {},
     "output_type": "execute_result"
    }
   ],
   "source": [
    "toy_boost.weak_classifiers[0].activations"
   ]
  },
  {
   "cell_type": "code",
   "execution_count": 43,
   "metadata": {
    "ExecuteTime": {
     "end_time": "2018-11-13T22:56:32.737204Z",
     "start_time": "2018-11-13T22:56:32.726188Z"
    },
    "scrolled": true
   },
   "outputs": [
    {
     "name": "stdout",
     "output_type": "stream",
     "text": [
      "Classifier 1:\n",
      "min error:  0.29999999999999993\n",
      "th:  -0.2585034013605446\n",
      "pol:  -1\n",
      "Classifier 2:\n",
      "min error:  0.3000000000000001\n",
      "th:  0.8069627851140452\n",
      "pol:  1\n",
      "Classifier 3:\n",
      "min error:  0.3000000000000001\n",
      "th:  -0.8554621848739398\n",
      "pol:  1\n",
      "Classifier 4:\n",
      "min error:  0.29999999999999993\n",
      "th:  5.034333733493397\n",
      "pol:  -1\n",
      "Classifier 5:\n",
      "min error:  0.3000000000000001\n",
      "th:  -0.03217286914766036\n",
      "pol:  1\n"
     ]
    }
   ],
   "source": [
    "print(\"Classifier 1:\")\n",
    "print(\"min error: \", toy_boost.weak_classifiers[0].calc_error(initial_weights, toy_labels))\n",
    "print(\"th: \", toy_boost.weak_classifiers[0].threshold)\n",
    "print(\"pol: \", toy_boost.weak_classifiers[0].polarity)\n",
    "\n",
    "print(\"Classifier 2:\")\n",
    "print(\"min error: \", toy_boost.weak_classifiers[1].calc_error(initial_weights, toy_labels))\n",
    "print(\"th: \", toy_boost.weak_classifiers[1].threshold)\n",
    "print(\"pol: \", toy_boost.weak_classifiers[1].polarity)\n",
    "\n",
    "print(\"Classifier 3:\")\n",
    "print(\"min error: \", toy_boost.weak_classifiers[2].calc_error(initial_weights, toy_labels))\n",
    "print(\"th: \", toy_boost.weak_classifiers[2].threshold)\n",
    "print(\"pol: \", toy_boost.weak_classifiers[2].polarity)\n",
    "\n",
    "print(\"Classifier 4:\")\n",
    "print(\"min error: \", toy_boost.weak_classifiers[3].calc_error(initial_weights, toy_labels))\n",
    "print(\"th: \", toy_boost.weak_classifiers[3].threshold)\n",
    "print(\"pol: \", toy_boost.weak_classifiers[3].polarity)\n",
    "\n",
    "print(\"Classifier 5:\")\n",
    "print(\"min error: \", toy_boost.weak_classifiers[4].calc_error(initial_weights, toy_labels))\n",
    "print(\"th: \", toy_boost.weak_classifiers[4].threshold)\n",
    "print(\"pol: \", toy_boost.weak_classifiers[4].polarity)"
   ]
  },
  {
   "cell_type": "code",
   "execution_count": 22,
   "metadata": {
    "ExecuteTime": {
     "end_time": "2018-11-13T22:45:02.289431Z",
     "start_time": "2018-11-13T22:45:02.286292Z"
    }
   },
   "outputs": [
    {
     "name": "stdout",
     "output_type": "stream",
     "text": [
      "[ True  True  True  True  True False False False False False]\n",
      "[False False  True  True False False False False False False]\n",
      "[ True  True False  True False False False False  True False]\n",
      "[ True  True  True  True  True  True False False  True  True]\n",
      "[ True  True  True  True  True  True False  True  True False]\n",
      "[ True  True  True  True  True  True False False  True  True]\n"
     ]
    }
   ],
   "source": [
    "print(toy_boost.labels == 1) #correct labels\n",
    "for classifier in toy_boost.weak_classifiers:\n",
    "    print(classifier.activations*classifier.polarity > classifier.threshold*classifier.polarity)"
   ]
  },
  {
   "cell_type": "code",
   "execution_count": 44,
   "metadata": {
    "ExecuteTime": {
     "end_time": "2018-11-13T22:56:34.135700Z",
     "start_time": "2018-11-13T22:56:34.133003Z"
    }
   },
   "outputs": [
    {
     "data": {
      "text/plain": [
       "[0.1, 0.1, 0.1, 0.1, 0.1, 0.1, 0.1, 0.1, 0.1, 0.1]"
      ]
     },
     "execution_count": 44,
     "metadata": {},
     "output_type": "execute_result"
    }
   ],
   "source": [
    "initial_toy_weights"
   ]
  },
  {
   "cell_type": "markdown",
   "metadata": {},
   "source": [
    "calculate all weak classifier errors using the weighted data"
   ]
  },
  {
   "cell_type": "code",
   "execution_count": 48,
   "metadata": {
    "ExecuteTime": {
     "end_time": "2018-11-13T22:58:22.558018Z",
     "start_time": "2018-11-13T22:58:22.550757Z"
    }
   },
   "outputs": [
    {
     "name": "stdout",
     "output_type": "stream",
     "text": [
      "min error:  [0.3000000000000001, 0.3000000000000001, 0.3000000000000001, 0.3000000000000001, 0.3000000000000001]\n"
     ]
    }
   ],
   "source": [
    "min_error = [classifier.calc_error(initial_toy_weights, toy_boost.labels)for classifer in toy_boost.weak_classifiers]\n",
    "\n",
    "print(\"min error: \", min_error)\n",
    "    "
   ]
  },
  {
   "cell_type": "markdown",
   "metadata": {},
   "source": [
    "select the best weak classifier"
   ]
  },
  {
   "cell_type": "code",
   "execution_count": 53,
   "metadata": {
    "ExecuteTime": {
     "end_time": "2018-11-13T23:00:33.572174Z",
     "start_time": "2018-11-13T23:00:33.565352Z"
    }
   },
   "outputs": [],
   "source": [
    "import copy\n",
    "bestWCIndex = min_error.index(min(min_error))\n",
    "bestWClassifier = copy.deepcopy(toy_boost.weak_classifiers[bestWCIndex])"
   ]
  },
  {
   "cell_type": "code",
   "execution_count": 56,
   "metadata": {
    "ExecuteTime": {
     "end_time": "2018-11-13T23:01:14.655388Z",
     "start_time": "2018-11-13T23:01:14.653174Z"
    }
   },
   "outputs": [
    {
     "name": "stdout",
     "output_type": "stream",
     "text": [
      "<weak_classifier.Ada_Weak_Classifier object at 0x7fe4dec62ac8>\n",
      "-1\n",
      "-0.2585034013605446\n"
     ]
    }
   ],
   "source": [
    "print(bestWClassifier)\n",
    "print(bestWClassifier.polarity)\n",
    "print(bestWClassifier.threshold)"
   ]
  },
  {
   "cell_type": "code",
   "execution_count": 57,
   "metadata": {
    "ExecuteTime": {
     "end_time": "2018-11-13T23:02:06.565495Z",
     "start_time": "2018-11-13T23:02:06.559982Z"
    }
   },
   "outputs": [],
   "source": [
    "selectedWC = []"
   ]
  },
  {
   "cell_type": "markdown",
   "metadata": {},
   "source": [
    "calculate alpha value"
   ]
  },
  {
   "cell_type": "code",
   "execution_count": 58,
   "metadata": {
    "ExecuteTime": {
     "end_time": "2018-11-13T23:02:56.294309Z",
     "start_time": "2018-11-13T23:02:56.291666Z"
    }
   },
   "outputs": [
    {
     "name": "stdout",
     "output_type": "stream",
     "text": [
      "alpha:  0.4236489301936016\n"
     ]
    }
   ],
   "source": [
    "alph = toy_boost.calculate_alpha(min(min_error))\n",
    "selectedWC.append([alph, bestWClassifier])\n",
    "print(\"alpha: \", alph)"
   ]
  },
  {
   "cell_type": "code",
   "execution_count": 59,
   "metadata": {
    "ExecuteTime": {
     "end_time": "2018-11-13T23:03:34.908808Z",
     "start_time": "2018-11-13T23:03:34.903550Z"
    }
   },
   "outputs": [
    {
     "data": {
      "text/plain": [
       "0.42364893019360184"
      ]
     },
     "execution_count": 59,
     "metadata": {},
     "output_type": "execute_result"
    }
   ],
   "source": [
    "#check, the error is .3, plug into the formula for alpha\n",
    ".5*(np.log((1-.3)/.3))"
   ]
  },
  {
   "cell_type": "code",
   "execution_count": 61,
   "metadata": {
    "ExecuteTime": {
     "end_time": "2018-11-13T23:10:36.075073Z",
     "start_time": "2018-11-13T23:10:36.072291Z"
    }
   },
   "outputs": [
    {
     "name": "stdout",
     "output_type": "stream",
     "text": [
      "[ True  True  True  True  True False False False False False]\n",
      "[False False  True  True False False False False False False]\n"
     ]
    }
   ],
   "source": [
    "#for bestWC, which data points did it incorrectly classify?\n",
    "print(toy_boost.labels == 1) #correct labels\n",
    "print(bestWClassifier.activations*bestWClassifier.polarity > bestWClassifier.threshold*bestWClassifier.polarity)"
   ]
  },
  {
   "cell_type": "code",
   "execution_count": 62,
   "metadata": {
    "ExecuteTime": {
     "end_time": "2018-11-13T23:11:13.593531Z",
     "start_time": "2018-11-13T23:11:13.588132Z"
    }
   },
   "outputs": [
    {
     "data": {
      "text/plain": [
       "[0.1, 0.1, 0.1, 0.1, 0.1, 0.1, 0.1, 0.1, 0.1, 0.1]"
      ]
     },
     "execution_count": 62,
     "metadata": {},
     "output_type": "execute_result"
    }
   ],
   "source": [
    "initial_toy_weights"
   ]
  },
  {
   "cell_type": "code",
   "execution_count": null,
   "metadata": {},
   "outputs": [],
   "source": []
  },
  {
   "cell_type": "code",
   "execution_count": null,
   "metadata": {},
   "outputs": [],
   "source": []
  },
  {
   "cell_type": "code",
   "execution_count": null,
   "metadata": {},
   "outputs": [],
   "source": []
  }
 ],
 "metadata": {
  "kernelspec": {
   "display_name": "Python 3",
   "language": "python",
   "name": "python3"
  },
  "language_info": {
   "codemirror_mode": {
    "name": "ipython",
    "version": 3
   },
   "file_extension": ".py",
   "mimetype": "text/x-python",
   "name": "python",
   "nbconvert_exporter": "python",
   "pygments_lexer": "ipython3",
   "version": "3.6.6"
  },
  "toc": {
   "base_numbering": 1,
   "nav_menu": {},
   "number_sections": true,
   "sideBar": true,
   "skip_h1_title": false,
   "title_cell": "Table of Contents",
   "title_sidebar": "Contents",
   "toc_cell": false,
   "toc_position": {},
   "toc_section_display": true,
   "toc_window_display": false
  }
 },
 "nbformat": 4,
 "nbformat_minor": 2
}
