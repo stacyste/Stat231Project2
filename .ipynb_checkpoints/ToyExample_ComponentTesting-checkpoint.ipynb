{
 "cells": [
  {
   "cell_type": "code",
   "execution_count": 1,
   "metadata": {
    "ExecuteTime": {
     "end_time": "2018-11-17T23:06:36.344593Z",
     "start_time": "2018-11-17T23:06:36.339873Z"
    }
   },
   "outputs": [],
   "source": [
    "%load_ext line_profiler"
   ]
  },
  {
   "cell_type": "code",
   "execution_count": 2,
   "metadata": {
    "ExecuteTime": {
     "end_time": "2018-11-17T23:06:36.878521Z",
     "start_time": "2018-11-17T23:06:36.500434Z"
    }
   },
   "outputs": [],
   "source": [
    "import numpy as np\n",
    "import time\n",
    "import cv2\n",
    "from boosting_classifier import Boosting_Classifier\n",
    "from visualizer import Visualizer\n",
    "from im_process import normalize\n",
    "from utils import *"
   ]
  },
  {
   "cell_type": "code",
   "execution_count": 3,
   "metadata": {
    "ExecuteTime": {
     "end_time": "2018-11-17T23:06:36.882147Z",
     "start_time": "2018-11-17T23:06:36.879835Z"
    }
   },
   "outputs": [],
   "source": [
    "flag_subset = True\n",
    "boosting_type = 'Ada' #'Real' or 'Ada'\n",
    "training_epochs = 100 if not flag_subset else 20\n",
    "act_cache_dir = 'wc_activations.npy' if not flag_subset else 'wc_activations_subset.npy'\n",
    "chosen_wc_cache_dir = 'chosen_wcs.pkl' if not flag_subset else 'chosen_wcs_subset.pkl'"
   ]
  },
  {
   "cell_type": "code",
   "execution_count": 4,
   "metadata": {
    "ExecuteTime": {
     "end_time": "2018-11-17T23:06:37.735687Z",
     "start_time": "2018-11-17T23:06:36.883909Z"
    }
   },
   "outputs": [
    {
     "name": "stdout",
     "output_type": "stream",
     "text": [
      "Load in 200 images, 100 faces, 100 non-faces\n"
     ]
    }
   ],
   "source": [
    "#data configurations\n",
    "pos_data_dir = '../newface16'\n",
    "neg_data_dir = '../nonface16'\n",
    "image_w = 16\n",
    "image_h = 16\n",
    "data, labels = load_data(pos_data_dir, neg_data_dir, image_w, image_h, flag_subset)\n",
    "data = integrate_images(normalize(data))"
   ]
  },
  {
   "cell_type": "code",
   "execution_count": 5,
   "metadata": {
    "ExecuteTime": {
     "end_time": "2018-11-17T23:06:37.739277Z",
     "start_time": "2018-11-17T23:06:37.737250Z"
    }
   },
   "outputs": [],
   "source": [
    "#number of bins for boosting\n",
    "num_bins = 25\n",
    "\n",
    "#number of cpus for parallel computing\n",
    "num_cores = 8 if not flag_subset else 1 #always use 1 when debugging"
   ]
  },
  {
   "cell_type": "code",
   "execution_count": 6,
   "metadata": {
    "ExecuteTime": {
     "end_time": "2018-11-17T23:06:37.776781Z",
     "start_time": "2018-11-17T23:06:37.740551Z"
    }
   },
   "outputs": [],
   "source": [
    "#create Haar filters\n",
    "filters = generate_Haar_filters(4, 4, 16, 16, image_w, image_h, flag_subset)"
   ]
  },
  {
   "cell_type": "code",
   "execution_count": 7,
   "metadata": {
    "ExecuteTime": {
     "end_time": "2018-11-17T23:06:37.779897Z",
     "start_time": "2018-11-17T23:06:37.777954Z"
    }
   },
   "outputs": [],
   "source": [
    "#create visualizer to draw histograms, roc curves and best weak classifier accuracies\n",
    "drawer = Visualizer([1, 2, 4], [1, 2, 4])"
   ]
  },
  {
   "cell_type": "markdown",
   "metadata": {},
   "source": [
    "# Toy example\n",
    "\n",
    "## Initializations"
   ]
  },
  {
   "cell_type": "code",
   "execution_count": 8,
   "metadata": {
    "ExecuteTime": {
     "end_time": "2018-11-17T23:06:37.887873Z",
     "start_time": "2018-11-17T23:06:37.882094Z"
    }
   },
   "outputs": [],
   "source": [
    "fltr_indices = [0, 100, 300, 500, 800]\n",
    "toy_filters = [filters[i] for i in fltr_indices]#five filters\n",
    "toy_data = np.vstack((np.array(data[0:5, :, :]), np.array(data[190:195, :, :]))) #10 images\n",
    "l1 = list(labels[0:5])\n",
    "l2 = list(labels[190:195])\n",
    "toy_labels =  np.array(l1+ l2)  #10 labels"
   ]
  },
  {
   "cell_type": "code",
   "execution_count": 9,
   "metadata": {
    "ExecuteTime": {
     "end_time": "2018-11-17T23:06:38.222900Z",
     "start_time": "2018-11-17T23:06:38.217733Z"
    }
   },
   "outputs": [],
   "source": [
    "toy_boost = Boosting_Classifier(toy_filters, toy_data, toy_labels, 4, num_bins, drawer, 1, \"Ada\")"
   ]
  },
  {
   "cell_type": "code",
   "execution_count": 10,
   "metadata": {
    "ExecuteTime": {
     "end_time": "2018-11-17T23:06:38.581336Z",
     "start_time": "2018-11-17T23:06:38.577589Z"
    }
   },
   "outputs": [
    {
     "data": {
      "text/plain": [
       "[0.1, 0.1, 0.1, 0.1, 0.1, 0.1, 0.1, 0.1, 0.1, 0.1]"
      ]
     },
     "execution_count": 10,
     "metadata": {},
     "output_type": "execute_result"
    }
   ],
   "source": [
    "initial_toy_weights = [.1]*10\n",
    "initial_toy_weights"
   ]
  },
  {
   "cell_type": "markdown",
   "metadata": {},
   "source": [
    "## Full Runs"
   ]
  },
  {
   "cell_type": "code",
   "execution_count": 11,
   "metadata": {
    "ExecuteTime": {
     "end_time": "2018-11-17T23:06:39.549735Z",
     "start_time": "2018-11-17T23:06:39.540598Z"
    }
   },
   "outputs": [
    {
     "name": "stdout",
     "output_type": "stream",
     "text": [
      "Calcuate activations for 5 weak classifiers, using 10 imags.\n",
      "[Find cached activations, toy_act_dir.npy loading...]\n"
     ]
    }
   ],
   "source": [
    "activations = toy_boost.calculate_training_activations(\"toy_act_dir.npy\", \"toy_act_dir.npy\")"
   ]
  },
  {
   "cell_type": "code",
   "execution_count": 12,
   "metadata": {
    "ExecuteTime": {
     "end_time": "2018-11-17T23:06:41.099277Z",
     "start_time": "2018-11-17T23:06:41.089196Z"
    }
   },
   "outputs": [
    {
     "data": {
      "text/plain": [
       "array([[ 0.36078431,  1.46666667, -0.29803922, -1.01960784, -0.15686275,\n",
       "         0.54509804,  0.88235294, -0.17254902,  0.29019608,  0.57647059],\n",
       "       [ 1.14509804,  2.29411765,  0.48235294,  0.8745098 ,  0.76862745,\n",
       "         0.37647059,  0.45490196,  0.78823529,  0.90588235,  0.79215686],\n",
       "       [-0.58039216, -0.45882353,  0.16078431,  1.65882353, -0.43529412,\n",
       "         0.1254902 , -1.2745098 , -0.90196078,  0.01568627, -0.45490196],\n",
       "       [ 4.74117647,  5.01568627,  3.96862745,  1.61568627,  3.56470588,\n",
       "         4.36078431,  6.12156863,  1.30196078,  1.27843137,  5.78039216],\n",
       "       [ 0.02352941,  0.68627451, -0.02745098,  0.34901961,  0.30980392,\n",
       "         0.28235294, -0.04313725, -0.0627451 ,  0.01568627,  0.44705882]])"
      ]
     },
     "execution_count": 12,
     "metadata": {},
     "output_type": "execute_result"
    }
   ],
   "source": [
    "activations"
   ]
  },
  {
   "cell_type": "code",
   "execution_count": 13,
   "metadata": {
    "ExecuteTime": {
     "end_time": "2018-11-17T23:06:41.432205Z",
     "start_time": "2018-11-17T23:06:41.429054Z"
    }
   },
   "outputs": [
    {
     "name": "stdout",
     "output_type": "stream",
     "text": [
      "[Find cached thresholds, toy_thresholds_dir.npy loading...]\n"
     ]
    }
   ],
   "source": [
    "ths = toy_boost.calculate_thresholds(\"toy_thresholds_dir.npy\", \"toy_thresholds_dir.npy\")"
   ]
  },
  {
   "cell_type": "code",
   "execution_count": 14,
   "metadata": {
    "ExecuteTime": {
     "end_time": "2018-11-17T23:06:41.826692Z",
     "start_time": "2018-11-17T23:06:41.820473Z"
    }
   },
   "outputs": [
    {
     "data": {
      "text/plain": [
       "array([[-1.01960784e+00, -9.16013072e-01, -8.12418301e-01,\n",
       "        -7.08823529e-01, -6.05228758e-01, -5.01633987e-01,\n",
       "        -3.98039216e-01, -2.94444444e-01, -1.90849673e-01,\n",
       "        -8.72549020e-02,  1.63398693e-02,  1.19934641e-01,\n",
       "         2.23529412e-01,  3.27124183e-01,  4.30718954e-01,\n",
       "         5.34313725e-01,  6.37908497e-01,  7.41503268e-01,\n",
       "         8.45098039e-01,  9.48692810e-01,  1.05228758e+00,\n",
       "         1.15588235e+00,  1.25947712e+00,  1.36307190e+00,\n",
       "         1.46666667e+00],\n",
       "       [ 3.76470588e-01,  4.56372549e-01,  5.36274510e-01,\n",
       "         6.16176471e-01,  6.96078431e-01,  7.75980392e-01,\n",
       "         8.55882353e-01,  9.35784314e-01,  1.01568627e+00,\n",
       "         1.09558824e+00,  1.17549020e+00,  1.25539216e+00,\n",
       "         1.33529412e+00,  1.41519608e+00,  1.49509804e+00,\n",
       "         1.57500000e+00,  1.65490196e+00,  1.73480392e+00,\n",
       "         1.81470588e+00,  1.89460784e+00,  1.97450980e+00,\n",
       "         2.05441176e+00,  2.13431373e+00,  2.21421569e+00,\n",
       "         2.29411765e+00],\n",
       "       [-1.27450980e+00, -1.15228758e+00, -1.03006536e+00,\n",
       "        -9.07843137e-01, -7.85620915e-01, -6.63398693e-01,\n",
       "        -5.41176471e-01, -4.18954248e-01, -2.96732026e-01,\n",
       "        -1.74509804e-01, -5.22875817e-02,  6.99346405e-02,\n",
       "         1.92156863e-01,  3.14379085e-01,  4.36601307e-01,\n",
       "         5.58823529e-01,  6.81045752e-01,  8.03267974e-01,\n",
       "         9.25490196e-01,  1.04771242e+00,  1.16993464e+00,\n",
       "         1.29215686e+00,  1.41437908e+00,  1.53660131e+00,\n",
       "         1.65882353e+00],\n",
       "       [ 1.27843137e+00,  1.48022876e+00,  1.68202614e+00,\n",
       "         1.88382353e+00,  2.08562092e+00,  2.28741830e+00,\n",
       "         2.48921569e+00,  2.69101307e+00,  2.89281046e+00,\n",
       "         3.09460784e+00,  3.29640523e+00,  3.49820261e+00,\n",
       "         3.70000000e+00,  3.90179739e+00,  4.10359477e+00,\n",
       "         4.30539216e+00,  4.50718954e+00,  4.70898693e+00,\n",
       "         4.91078431e+00,  5.11258170e+00,  5.31437908e+00,\n",
       "         5.51617647e+00,  5.71797386e+00,  5.91977124e+00,\n",
       "         6.12156863e+00],\n",
       "       [-6.27450980e-02, -3.15359477e-02, -3.26797386e-04,\n",
       "         3.08823529e-02,  6.20915033e-02,  9.33006536e-02,\n",
       "         1.24509804e-01,  1.55718954e-01,  1.86928105e-01,\n",
       "         2.18137255e-01,  2.49346405e-01,  2.80555556e-01,\n",
       "         3.11764706e-01,  3.42973856e-01,  3.74183007e-01,\n",
       "         4.05392157e-01,  4.36601307e-01,  4.67810458e-01,\n",
       "         4.99019608e-01,  5.30228758e-01,  5.61437908e-01,\n",
       "         5.92647059e-01,  6.23856209e-01,  6.55065359e-01,\n",
       "         6.86274510e-01]])"
      ]
     },
     "execution_count": 14,
     "metadata": {},
     "output_type": "execute_result"
    }
   ],
   "source": [
    "ths"
   ]
  },
  {
   "cell_type": "code",
   "execution_count": 15,
   "metadata": {
    "ExecuteTime": {
     "end_time": "2018-11-17T23:06:42.066830Z",
     "start_time": "2018-11-17T23:06:42.037910Z"
    }
   },
   "outputs": [
    {
     "name": "stderr",
     "output_type": "stream",
     "text": [
      "100%|██████████| 4/4 [00:00<00:00, 210.80it/s]"
     ]
    },
    {
     "name": "stdout",
     "output_type": "stream",
     "text": [
      "polarized error list:  [0.5 0.4 0.4 0.4 0.4 0.4 0.4 0.3 0.3 0.3 0.3 0.3 0.3 0.4 0.3 0.3 0.5 0.5\n",
      " 0.5 0.4 0.4 0.4 0.4 0.4 0.4]\n",
      "min Index:  7\n",
      "polarized error list:  [0.4 0.3 0.4 0.4 0.4 0.5 0.3 0.3 0.3 0.3 0.4 0.4 0.4 0.4 0.4 0.4 0.4 0.4\n",
      " 0.4 0.4 0.4 0.4 0.4 0.4 0.4]\n",
      "min Index:  1\n",
      "polarized error list:  [0.4 0.4 0.4 0.4 0.3 0.3 0.4 0.5 0.5 0.5 0.5 0.4 0.4 0.4 0.4 0.4 0.4 0.4\n",
      " 0.4 0.4 0.4 0.4 0.4 0.4 0.4]\n",
      "min Index:  4\n",
      "polarized error list:  [0.4 0.3 0.4 0.4 0.4 0.4 0.4 0.4 0.4 0.4 0.4 0.4 0.5 0.5 0.4 0.4 0.5 0.5\n",
      " 0.4 0.3 0.3 0.3 0.3 0.4 0.5]\n",
      "min Index:  1\n",
      "polarized error list:  [0.4 0.3 0.4 0.4 0.4 0.4 0.4 0.4 0.4 0.4 0.4 0.4 0.4 0.4 0.5 0.5 0.5 0.4\n",
      " 0.4 0.4 0.4 0.4 0.4 0.4 0.4]\n",
      "min Index:  1\n",
      "Weak classifier error List:  [(0.30000000000000004, 1, -0.29444444444444495), (0.29999999999999993, -1, 0.45637254901960667), (0.29999999999999993, -1, -0.7856209150326703), (0.29999999999999993, -1, 1.4802287581699343), (0.29999999999999993, -1, -0.03153594771241959)]\n",
      "min error:  0.29999999999999993  Polarity:  -1  Thresholds:  0.45637254901960667\n",
      "alpha:  0.42364893019360195\n",
      "polarized error list:  [0.35714286 0.28571429 0.28571429 0.28571429 0.28571429 0.28571429\n",
      " 0.28571429 0.21428571 0.21428571 0.30952381 0.30952381 0.30952381\n",
      " 0.30952381 0.47619048 0.4047619  0.4047619  0.35714286 0.35714286\n",
      " 0.35714286 0.28571429 0.28571429 0.28571429 0.28571429 0.28571429\n",
      " 0.28571429]\n",
      "min Index:  7\n",
      "polarized error list:  [0.42857143 0.5        0.42857143 0.42857143 0.42857143 0.35714286\n",
      " 0.30952381 0.21428571 0.21428571 0.21428571 0.28571429 0.28571429\n",
      " 0.28571429 0.28571429 0.28571429 0.28571429 0.28571429 0.28571429\n",
      " 0.28571429 0.28571429 0.28571429 0.28571429 0.28571429 0.28571429\n",
      " 0.28571429]\n",
      "min Index:  7\n",
      "polarized error list:  [0.42857143 0.42857143 0.42857143 0.42857143 0.4047619  0.4047619\n",
      " 0.47619048 0.45238095 0.45238095 0.45238095 0.45238095 0.28571429\n",
      " 0.28571429 0.28571429 0.28571429 0.28571429 0.28571429 0.28571429\n",
      " 0.28571429 0.28571429 0.28571429 0.28571429 0.28571429 0.28571429\n",
      " 0.28571429]\n",
      "min Index:  11\n",
      "polarized error list:  [0.47619048 0.30952381 0.38095238 0.38095238 0.38095238 0.38095238\n",
      " 0.38095238 0.38095238 0.38095238 0.38095238 0.38095238 0.38095238\n",
      " 0.45238095 0.45238095 0.47619048 0.47619048 0.45238095 0.45238095\n",
      " 0.47619048 0.4047619  0.4047619  0.4047619  0.4047619  0.42857143\n",
      " 0.35714286]\n",
      "min Index:  1\n",
      "polarized error list:  [0.47619048 0.4047619  0.47619048 0.38095238 0.38095238 0.38095238\n",
      " 0.38095238 0.38095238 0.38095238 0.38095238 0.38095238 0.38095238\n",
      " 0.38095238 0.38095238 0.45238095 0.45238095 0.45238095 0.28571429\n",
      " 0.28571429 0.28571429 0.28571429 0.28571429 0.28571429 0.28571429\n",
      " 0.28571429]\n",
      "min Index:  17\n",
      "Weak classifier error List:  [(0.21428571428571427, 1, -0.29444444444444495), (0.2142857142857142, -1, 0.93578431372549), (0.2857142857142856, -1, 0.06993464052288156), (0.3095238095238094, -1, 1.4802287581699343), (0.2857142857142856, -1, 0.46781045751634276)]\n",
      "min error:  0.2142857142857142  Polarity:  -1  Thresholds:  0.93578431372549\n",
      "alpha:  0.6496414920651307\n",
      "polarized error list:  [0.40909091 0.42424242 0.42424242 0.42424242 0.42424242 0.42424242\n",
      " 0.42424242 0.25757576 0.25757576 0.1969697  0.1969697  0.1969697\n",
      " 0.1969697  0.3030303  0.25757576 0.25757576 0.40909091 0.40909091\n",
      " 0.40909091 0.45454545 0.45454545 0.45454545 0.45454545 0.45454545\n",
      " 0.45454545]\n",
      "min Index:  9\n",
      "polarized error list:  [0.36363636 0.31818182 0.48484848 0.48484848 0.48484848 0.34848485\n",
      " 0.43939394 0.5        0.5        0.5        0.45454545 0.45454545\n",
      " 0.45454545 0.45454545 0.45454545 0.45454545 0.45454545 0.45454545\n",
      " 0.45454545 0.45454545 0.45454545 0.45454545 0.45454545 0.45454545\n",
      " 0.45454545]\n",
      "min Index:  1\n",
      "polarized error list:  [0.36363636 0.36363636 0.36363636 0.36363636 0.25757576 0.25757576\n",
      " 0.3030303  0.40909091 0.40909091 0.40909091 0.40909091 0.3030303\n",
      " 0.42424242 0.42424242 0.42424242 0.42424242 0.42424242 0.42424242\n",
      " 0.42424242 0.42424242 0.42424242 0.42424242 0.42424242 0.42424242\n",
      " 0.42424242]\n",
      "min Index:  4\n",
      "polarized error list:  [0.3030303  0.1969697  0.36363636 0.36363636 0.36363636 0.36363636\n",
      " 0.36363636 0.36363636 0.36363636 0.36363636 0.36363636 0.36363636\n",
      " 0.46969697 0.46969697 0.3030303  0.3030303  0.34848485 0.34848485\n",
      " 0.3030303  0.25757576 0.25757576 0.25757576 0.25757576 0.36363636\n",
      " 0.40909091]\n",
      "min Index:  1\n",
      "polarized error list:  [0.3030303  0.25757576 0.42424242 0.36363636 0.36363636 0.36363636\n",
      " 0.36363636 0.36363636 0.36363636 0.36363636 0.36363636 0.36363636\n",
      " 0.48484848 0.48484848 0.34848485 0.34848485 0.34848485 0.45454545\n",
      " 0.45454545 0.45454545 0.45454545 0.45454545 0.45454545 0.45454545\n",
      " 0.45454545]\n",
      "min Index:  1\n",
      "Weak classifier error List:  [(0.19696969696969693, 1, -0.08725490196078489), (0.3181818181818181, -1, 0.45637254901960667), (0.25757575757575746, -1, -0.7856209150326703), (0.1969696969696969, -1, 1.4802287581699343), (0.25757575757575746, -1, -0.03153594771241959)]\n",
      "min error:  0.1969696969696969  Polarity:  -1  Thresholds:  1.4802287581699343\n",
      "alpha:  0.7026712780452927\n",
      "polarized error list:  [0.36792453 0.26415094 0.26415094 0.26415094 0.26415094 0.26415094\n",
      " 0.26415094 0.16037736 0.16037736 0.12264151 0.12264151 0.12264151\n",
      " 0.12264151 0.18867925 0.16037736 0.16037736 0.45500726 0.45500726\n",
      " 0.45500726 0.33962264 0.33962264 0.33962264 0.33962264 0.33962264\n",
      " 0.33962264]\n",
      "min Index:  9\n",
      "polarized error list:  [0.48330914 0.40130624 0.49492017 0.49492017 0.49492017 0.39114659\n",
      " 0.27358491 0.31132075 0.31132075 0.31132075 0.33962264 0.33962264\n",
      " 0.33962264 0.33962264 0.33962264 0.33962264 0.33962264 0.33962264\n",
      " 0.33962264 0.33962264 0.33962264 0.33962264 0.33962264 0.33962264\n",
      " 0.33962264]\n",
      "min Index:  6\n",
      "polarized error list:  [0.48330914 0.48330914 0.48330914 0.48330914 0.45065312 0.45065312\n",
      " 0.47895501 0.34179971 0.34179971 0.34179971 0.34179971 0.27576197\n",
      " 0.26415094 0.26415094 0.26415094 0.26415094 0.26415094 0.26415094\n",
      " 0.26415094 0.26415094 0.26415094 0.26415094 0.26415094 0.26415094\n",
      " 0.26415094]\n",
      "min Index:  12\n",
      "polarized error list:  [0.43396226 0.5        0.39622642 0.39622642 0.39622642 0.39622642\n",
      " 0.39622642 0.39622642 0.39622642 0.39622642 0.39622642 0.39622642\n",
      " 0.29245283 0.29245283 0.18867925 0.18867925 0.30406386 0.30406386\n",
      " 0.27576197 0.24746009 0.24746009 0.24746009 0.24746009 0.48330914\n",
      " 0.36792453]\n",
      "min Index:  14\n",
      "polarized error list:  [0.43396226 0.45065312 0.44557329 0.48330914 0.48330914 0.48330914\n",
      " 0.48330914 0.48330914 0.48330914 0.48330914 0.48330914 0.48330914\n",
      " 0.49492017 0.49492017 0.39114659 0.39114659 0.39114659 0.33962264\n",
      " 0.33962264 0.33962264 0.33962264 0.33962264 0.33962264 0.33962264\n",
      " 0.33962264]\n",
      "min Index:  17\n",
      "Weak classifier error List:  [(0.12264150943396221, 1, -0.08725490196078489), (0.2735849056603774, -1, 0.8558823529411761), (0.26415094339622636, -1, 0.19215686274510335), (0.1886792452830188, 1, 4.10359477124183), (0.339622641509434, -1, 0.46781045751634276)]\n",
      "min error:  0.12264150943396221  Polarity:  1  Thresholds:  -0.08725490196078489\n",
      "alpha:  0.98382506784586\n"
     ]
    },
    {
     "name": "stderr",
     "output_type": "stream",
     "text": [
      "\n"
     ]
    }
   ],
   "source": [
    "toy_training=toy_boost.train('toy_cache_wc.pkl')"
   ]
  },
  {
   "cell_type": "code",
   "execution_count": 16,
   "metadata": {
    "ExecuteTime": {
     "end_time": "2018-11-17T23:06:58.298023Z",
     "start_time": "2018-11-17T23:06:58.295230Z"
    },
    "scrolled": true
   },
   "outputs": [
    {
     "data": {
      "text/plain": [
       "[[0.42364893019360195,\n",
       "  <weak_classifier.Ada_Weak_Classifier at 0x7f6614e6d128>],\n",
       " [0.6496414920651307, <weak_classifier.Ada_Weak_Classifier at 0x7f6614e6d6d8>],\n",
       " [0.7026712780452927, <weak_classifier.Ada_Weak_Classifier at 0x7f6614e6d7b8>],\n",
       " [0.98382506784586, <weak_classifier.Ada_Weak_Classifier at 0x7f6614e6da58>]]"
      ]
     },
     "execution_count": 16,
     "metadata": {},
     "output_type": "execute_result"
    }
   ],
   "source": [
    "toy_training"
   ]
  },
  {
   "cell_type": "code",
   "execution_count": 17,
   "metadata": {
    "ExecuteTime": {
     "end_time": "2018-11-17T23:07:03.833606Z",
     "start_time": "2018-11-17T23:07:03.830264Z"
    }
   },
   "outputs": [
    {
     "data": {
      "text/plain": [
       "[-0.7921366324581651,\n",
       " -0.7921366324581651,\n",
       " -1.460503784019624,\n",
       " -1.460503784019624,\n",
       " -1.460503784019624,\n",
       " 1.3544442120592999,\n",
       " 1.3544442120592999,\n",
       " -0.05516122792903855,\n",
       " 1.9124889077626814,\n",
       " 0.507146351672096]"
      ]
     },
     "execution_count": 17,
     "metadata": {},
     "output_type": "execute_result"
    }
   ],
   "source": [
    "[toy_boost.sc_function(img) for img in toy_boost.data]"
   ]
  },
  {
   "cell_type": "code",
   "execution_count": 18,
   "metadata": {
    "ExecuteTime": {
     "end_time": "2018-11-17T23:07:10.918428Z",
     "start_time": "2018-11-17T23:07:10.208122Z"
    },
    "collapsed": true
   },
   "outputs": [
    {
     "ename": "KeyError",
     "evalue": "4",
     "output_type": "error",
     "traceback": [
      "\u001b[0;31m---------------------------------------------------------------------------\u001b[0m",
      "\u001b[0;31mKeyError\u001b[0m                                  Traceback (most recent call last)",
      "\u001b[0;32m<ipython-input-18-97b50a7d3232>\u001b[0m in \u001b[0;36m<module>\u001b[0;34m()\u001b[0m\n\u001b[0;32m----> 1\u001b[0;31m \u001b[0mtoy_boost\u001b[0m\u001b[0;34m.\u001b[0m\u001b[0mvisualize\u001b[0m\u001b[0;34m(\u001b[0m\u001b[0;34m)\u001b[0m\u001b[0;34m\u001b[0m\u001b[0m\n\u001b[0m",
      "\u001b[0;32m~/Documents/Stat231/Project2/proj2_code/boosting_classifier.py\u001b[0m in \u001b[0;36mvisualize\u001b[0;34m(self)\u001b[0m\n\u001b[1;32m    203\u001b[0m         \u001b[0;32mdef\u001b[0m \u001b[0mvisualize\u001b[0m\u001b[0;34m(\u001b[0m\u001b[0mself\u001b[0m\u001b[0;34m)\u001b[0m\u001b[0;34m:\u001b[0m\u001b[0;34m\u001b[0m\u001b[0m\n\u001b[1;32m    204\u001b[0m                 \u001b[0mself\u001b[0m\u001b[0;34m.\u001b[0m\u001b[0mvisualizer\u001b[0m\u001b[0;34m.\u001b[0m\u001b[0mlabels\u001b[0m \u001b[0;34m=\u001b[0m \u001b[0mself\u001b[0m\u001b[0;34m.\u001b[0m\u001b[0mlabels\u001b[0m\u001b[0;34m\u001b[0m\u001b[0m\n\u001b[0;32m--> 205\u001b[0;31m                 \u001b[0mself\u001b[0m\u001b[0;34m.\u001b[0m\u001b[0mvisualizer\u001b[0m\u001b[0;34m.\u001b[0m\u001b[0mdraw_histograms\u001b[0m\u001b[0;34m(\u001b[0m\u001b[0;34m)\u001b[0m\u001b[0;34m\u001b[0m\u001b[0m\n\u001b[0m\u001b[1;32m    206\u001b[0m                 \u001b[0mself\u001b[0m\u001b[0;34m.\u001b[0m\u001b[0mvisualizer\u001b[0m\u001b[0;34m.\u001b[0m\u001b[0mdraw_rocs\u001b[0m\u001b[0;34m(\u001b[0m\u001b[0;34m)\u001b[0m\u001b[0;34m\u001b[0m\u001b[0m\n\u001b[1;32m    207\u001b[0m                 \u001b[0mself\u001b[0m\u001b[0;34m.\u001b[0m\u001b[0mvisualizer\u001b[0m\u001b[0;34m.\u001b[0m\u001b[0mdraw_wc_accuracies\u001b[0m\u001b[0;34m(\u001b[0m\u001b[0;34m)\u001b[0m\u001b[0;34m\u001b[0m\u001b[0m\n",
      "\u001b[0;32m~/Documents/Stat231/Project2/proj2_code/visualizer.py\u001b[0m in \u001b[0;36mdraw_histograms\u001b[0;34m(self)\u001b[0m\n\u001b[1;32m     13\u001b[0m         \u001b[0;32mdef\u001b[0m \u001b[0mdraw_histograms\u001b[0m\u001b[0;34m(\u001b[0m\u001b[0mself\u001b[0m\u001b[0;34m)\u001b[0m\u001b[0;34m:\u001b[0m\u001b[0;34m\u001b[0m\u001b[0m\n\u001b[1;32m     14\u001b[0m                 \u001b[0;32mfor\u001b[0m \u001b[0mt\u001b[0m \u001b[0;32min\u001b[0m \u001b[0mself\u001b[0m\u001b[0;34m.\u001b[0m\u001b[0mhistogram_intervals\u001b[0m\u001b[0;34m:\u001b[0m\u001b[0;34m\u001b[0m\u001b[0m\n\u001b[0;32m---> 15\u001b[0;31m                         \u001b[0mscores\u001b[0m \u001b[0;34m=\u001b[0m \u001b[0mself\u001b[0m\u001b[0;34m.\u001b[0m\u001b[0mstrong_classifier_scores\u001b[0m\u001b[0;34m[\u001b[0m\u001b[0mt\u001b[0m\u001b[0;34m]\u001b[0m\u001b[0;34m\u001b[0m\u001b[0m\n\u001b[0m\u001b[1;32m     16\u001b[0m                         \u001b[0mpos_scores\u001b[0m \u001b[0;34m=\u001b[0m \u001b[0;34m[\u001b[0m\u001b[0mscores\u001b[0m\u001b[0;34m[\u001b[0m\u001b[0midx\u001b[0m\u001b[0;34m]\u001b[0m \u001b[0;32mfor\u001b[0m \u001b[0midx\u001b[0m\u001b[0;34m,\u001b[0m \u001b[0mlabel\u001b[0m \u001b[0;32min\u001b[0m \u001b[0menumerate\u001b[0m\u001b[0;34m(\u001b[0m\u001b[0mself\u001b[0m\u001b[0;34m.\u001b[0m\u001b[0mlabels\u001b[0m\u001b[0;34m)\u001b[0m \u001b[0;32mif\u001b[0m \u001b[0mlabel\u001b[0m \u001b[0;34m==\u001b[0m \u001b[0;36m1\u001b[0m\u001b[0;34m]\u001b[0m\u001b[0;34m\u001b[0m\u001b[0m\n\u001b[1;32m     17\u001b[0m                         \u001b[0mneg_scores\u001b[0m \u001b[0;34m=\u001b[0m \u001b[0;34m[\u001b[0m\u001b[0mscores\u001b[0m\u001b[0;34m[\u001b[0m\u001b[0midx\u001b[0m\u001b[0;34m]\u001b[0m \u001b[0;32mfor\u001b[0m \u001b[0midx\u001b[0m\u001b[0;34m,\u001b[0m \u001b[0mlabel\u001b[0m \u001b[0;32min\u001b[0m \u001b[0menumerate\u001b[0m\u001b[0;34m(\u001b[0m\u001b[0mself\u001b[0m\u001b[0;34m.\u001b[0m\u001b[0mlabels\u001b[0m\u001b[0;34m)\u001b[0m \u001b[0;32mif\u001b[0m \u001b[0mlabel\u001b[0m \u001b[0;34m==\u001b[0m \u001b[0;34m-\u001b[0m\u001b[0;36m1\u001b[0m\u001b[0;34m]\u001b[0m\u001b[0;34m\u001b[0m\u001b[0m\n",
      "\u001b[0;31mKeyError\u001b[0m: 4"
     ]
    },
    {
     "data": {
      "image/png": "[encoded data removed]",
      "text/plain": [
       "<Figure size 432x288 with 1 Axes>"
      ]
     },
     "metadata": {
      "needs_background": "light"
     },
     "output_type": "display_data"
    },
    {
     "data": {
      "image/png": "[encoded data removed]",
      "text/plain": [
       "<Figure size 432x288 with 1 Axes>"
      ]
     },
     "metadata": {
      "needs_background": "light"
     },
     "output_type": "display_data"
    }
   ],
   "source": [
    "toy_boost.visualize()"
   ]
  },
  {
   "cell_type": "code",
   "execution_count": null,
   "metadata": {},
   "outputs": [],
   "source": []
  },
  {
   "cell_type": "markdown",
   "metadata": {},
   "source": [
    "## Component Testing\n",
    "### Testing Activation Training"
   ]
  },
  {
   "cell_type": "code",
   "execution_count": null,
   "metadata": {
    "ExecuteTime": {
     "end_time": "2018-11-17T21:46:34.014443Z",
     "start_time": "2018-11-17T21:46:34.011631Z"
    },
    "scrolled": true
   },
   "outputs": [],
   "source": [
    "toy_boost.weak_classifiers[0]"
   ]
  },
  {
   "cell_type": "code",
   "execution_count": null,
   "metadata": {
    "ExecuteTime": {
     "end_time": "2018-11-17T21:46:36.187712Z",
     "start_time": "2018-11-17T21:46:36.184910Z"
    }
   },
   "outputs": [],
   "source": [
    "print(toy_boost.weak_classifiers[0].activations)"
   ]
  },
  {
   "cell_type": "markdown",
   "metadata": {},
   "source": [
    "Setting up activations"
   ]
  },
  {
   "cell_type": "code",
   "execution_count": null,
   "metadata": {
    "ExecuteTime": {
     "end_time": "2018-11-17T21:46:37.938675Z",
     "start_time": "2018-11-17T21:46:37.935823Z"
    }
   },
   "outputs": [],
   "source": [
    "activations = toy_boost.calculate_training_activations(\"toy_act_dir.npy\", \"toy_act_dir.npy\")"
   ]
  },
  {
   "cell_type": "code",
   "execution_count": null,
   "metadata": {
    "ExecuteTime": {
     "end_time": "2018-11-17T21:46:38.819737Z",
     "start_time": "2018-11-17T21:46:38.817337Z"
    }
   },
   "outputs": [],
   "source": [
    "print(activations.shape)\n",
    "print(activations)"
   ]
  },
  {
   "cell_type": "markdown",
   "metadata": {},
   "source": [
    "### Testing Weak Classifier Class Functions"
   ]
  },
  {
   "cell_type": "code",
   "execution_count": null,
   "metadata": {
    "ExecuteTime": {
     "end_time": "2018-11-17T21:57:49.950369Z",
     "start_time": "2018-11-17T21:57:49.945196Z"
    }
   },
   "outputs": [],
   "source": [
    "exampleWeakClassifier = toy_boost.weak_classifiers[0]\n",
    "print(\"Range of activations: \", min(exampleWeakClassifier.activations), \" to \", \n",
    "      max(exampleWeakClassifier.activations))"
   ]
  },
  {
   "cell_type": "markdown",
   "metadata": {},
   "source": [
    "#### Weak Classifier Helper Functions"
   ]
  },
  {
   "cell_type": "code",
   "execution_count": null,
   "metadata": {
    "ExecuteTime": {
     "end_time": "2018-11-17T21:46:45.243105Z",
     "start_time": "2018-11-17T21:46:45.239589Z"
    }
   },
   "outputs": [],
   "source": [
    "exampleWeakClassifier.activations"
   ]
  },
  {
   "cell_type": "code",
   "execution_count": null,
   "metadata": {
    "ExecuteTime": {
     "end_time": "2018-11-17T21:46:46.982844Z",
     "start_time": "2018-11-17T21:46:46.980393Z"
    }
   },
   "outputs": [],
   "source": [
    "#the predicted labels from the weak classifier\n",
    "predictions = exampleWeakClassifier.make_classification_predictions(0, 4)\n",
    "print(predictions)"
   ]
  },
  {
   "cell_type": "code",
   "execution_count": null,
   "metadata": {
    "ExecuteTime": {
     "end_time": "2018-11-17T03:04:11.241541Z",
     "start_time": "2018-11-17T03:04:11.235708Z"
    }
   },
   "outputs": [],
   "source": [
    "toy_labels"
   ]
  },
  {
   "cell_type": "code",
   "execution_count": null,
   "metadata": {
    "ExecuteTime": {
     "end_time": "2018-11-17T03:04:11.793552Z",
     "start_time": "2018-11-17T03:04:11.788713Z"
    }
   },
   "outputs": [],
   "source": [
    "#indicates which predictions were incorrect\n",
    "exampleWeakClassifier.classification_indicator_function(toy_labels, predictions)"
   ]
  },
  {
   "cell_type": "code",
   "execution_count": null,
   "metadata": {
    "ExecuteTime": {
     "end_time": "2018-11-17T03:04:47.465625Z",
     "start_time": "2018-11-17T03:04:47.462649Z"
    }
   },
   "outputs": [],
   "source": [
    "#calculate weighted total error (here we have 7 wrong 3 right)\n",
    "exampleWeakClassifier.weighted_error_calc(initial_toy_weights, toy_labels, predictions, 1)"
   ]
  },
  {
   "cell_type": "markdown",
   "metadata": {},
   "source": [
    "#### Main Error Calculation"
   ]
  },
  {
   "cell_type": "code",
   "execution_count": null,
   "metadata": {
    "ExecuteTime": {
     "end_time": "2018-11-17T21:49:24.662344Z",
     "start_time": "2018-11-17T21:49:24.621329Z"
    },
    "scrolled": false
   },
   "outputs": [],
   "source": [
    "print(\"Classifier 1:\")\n",
    "print(\"min error: \", toy_boost.weak_classifiers[0].calc_error(initial_toy_weights, toy_labels))\n",
    "print(\"th: \", toy_boost.weak_classifiers[0].threshold)\n",
    "print(\"pol: \", toy_boost.weak_classifiers[0].polarity)\n",
    "\n",
    "print(\"Classifier 2:\")\n",
    "print(\"min error: \", toy_boost.weak_classifiers[1].calc_error(initial_toy_weights, toy_labels))\n",
    "print(\"th: \", toy_boost.weak_classifiers[1].threshold)\n",
    "print(\"pol: \", toy_boost.weak_classifiers[1].polarity)\n",
    "\n",
    "print(\"Classifier 3:\")\n",
    "print(\"min error: \", toy_boost.weak_classifiers[2].calc_error(initial_toy_weights, toy_labels))\n",
    "print(\"th: \", toy_boost.weak_classifiers[2].threshold)\n",
    "print(\"pol: \", toy_boost.weak_classifiers[2].polarity)\n",
    "\n",
    "print(\"Classifier 4:\")\n",
    "print(\"min error: \", toy_boost.weak_classifiers[3].calc_error(initial_toy_weights, toy_labels))\n",
    "print(\"th: \", toy_boost.weak_classifiers[3].threshold)\n",
    "print(\"pol: \", toy_boost.weak_classifiers[3].polarity)\n",
    "\n",
    "print(\"Classifier 5:\")\n",
    "print(\"min error: \", toy_boost.weak_classifiers[4].calc_error(initial_toy_weights, toy_labels))\n",
    "print(\"th: \", toy_boost.weak_classifiers[4].threshold)\n",
    "print(\"pol: \", toy_boost.weak_classifiers[4].polarity)"
   ]
  },
  {
   "cell_type": "code",
   "execution_count": null,
   "metadata": {
    "ExecuteTime": {
     "end_time": "2018-11-17T21:55:51.899693Z",
     "start_time": "2018-11-17T21:55:51.893995Z"
    }
   },
   "outputs": [],
   "source": [
    "toy_boost.weak_classifiers[3].activations"
   ]
  },
  {
   "cell_type": "code",
   "execution_count": null,
   "metadata": {
    "ExecuteTime": {
     "end_time": "2018-11-17T21:55:54.751838Z",
     "start_time": "2018-11-17T21:55:54.748990Z"
    },
    "scrolled": true
   },
   "outputs": [],
   "source": [
    "toy_boost.weak_classifiers[3].activations > 5.03"
   ]
  },
  {
   "cell_type": "markdown",
   "metadata": {},
   "source": [
    "#### Function Profiler for Optimization"
   ]
  },
  {
   "cell_type": "code",
   "execution_count": null,
   "metadata": {
    "ExecuteTime": {
     "end_time": "2018-11-17T22:00:41.372642Z",
     "start_time": "2018-11-17T22:00:41.367200Z"
    }
   },
   "outputs": [],
   "source": [
    "exampleWeakClassifier.interpolatedThresholds"
   ]
  },
  {
   "cell_type": "code",
   "execution_count": null,
   "metadata": {
    "ExecuteTime": {
     "end_time": "2018-11-17T22:01:33.875860Z",
     "start_time": "2018-11-17T22:01:33.862136Z"
    }
   },
   "outputs": [],
   "source": [
    "labels"
   ]
  },
  {
   "cell_type": "code",
   "execution_count": null,
   "metadata": {
    "ExecuteTime": {
     "end_time": "2018-11-17T22:01:45.748035Z",
     "start_time": "2018-11-17T22:01:45.737792Z"
    }
   },
   "outputs": [],
   "source": [
    "%lprun -f exampleWeakClassifier.calc_error exampleWeakClassifier.calc_error(initial_toy_weights, toy_labels)"
   ]
  },
  {
   "cell_type": "markdown",
   "metadata": {},
   "source": [
    "### Testing Boosting Classifier Class Functions"
   ]
  },
  {
   "cell_type": "code",
   "execution_count": null,
   "metadata": {
    "ExecuteTime": {
     "end_time": "2018-11-16T18:30:12.145691Z",
     "start_time": "2018-11-16T18:30:12.142764Z"
    }
   },
   "outputs": [],
   "source": [
    "#Predictions from the weak classifiers\n",
    "print(toy_boost.labels == 1) #correct labels\n",
    "for classifier in toy_boost.weak_classifiers:\n",
    "    print(classifier.activations*classifier.polarity > classifier.threshold*classifier.polarity)"
   ]
  },
  {
   "cell_type": "markdown",
   "metadata": {},
   "source": [
    "#### Testing Inside components of Train function"
   ]
  },
  {
   "cell_type": "code",
   "execution_count": null,
   "metadata": {
    "ExecuteTime": {
     "end_time": "2018-11-16T18:30:16.358292Z",
     "start_time": "2018-11-16T18:30:16.353642Z"
    }
   },
   "outputs": [],
   "source": [
    "min_error = [classifier.calc_error(initial_toy_weights, toy_boost.labels)for classifer in toy_boost.weak_classifiers]\n",
    "print(\"min error: \", min_error)    "
   ]
  },
  {
   "cell_type": "markdown",
   "metadata": {},
   "source": [
    "select the best weak classifier"
   ]
  },
  {
   "cell_type": "code",
   "execution_count": null,
   "metadata": {
    "ExecuteTime": {
     "end_time": "2018-11-16T18:30:19.630474Z",
     "start_time": "2018-11-16T18:30:19.624636Z"
    }
   },
   "outputs": [],
   "source": [
    "import copy\n",
    "bestWCIndex = min_error.index(min(min_error))\n",
    "bestWClassifier = copy.deepcopy(toy_boost.weak_classifiers[bestWCIndex])\n",
    "print(bestWClassifier)\n",
    "print(bestWClassifier.polarity)\n",
    "print(bestWClassifier.threshold)"
   ]
  },
  {
   "cell_type": "markdown",
   "metadata": {},
   "source": [
    "#### Test Calculate Alpha"
   ]
  },
  {
   "cell_type": "code",
   "execution_count": null,
   "metadata": {
    "ExecuteTime": {
     "end_time": "2018-11-14T19:40:38.793836Z",
     "start_time": "2018-11-14T19:40:38.789016Z"
    }
   },
   "outputs": [],
   "source": [
    "alph = toy_boost.calculate_alpha(min(min_error))\n",
    "selectedWC.append([alph, bestWClassifier])\n",
    "print(\"alpha: \", alph)"
   ]
  },
  {
   "cell_type": "code",
   "execution_count": null,
   "metadata": {
    "ExecuteTime": {
     "end_time": "2018-11-14T19:40:39.171224Z",
     "start_time": "2018-11-14T19:40:39.165335Z"
    }
   },
   "outputs": [],
   "source": [
    "#check, the error is .3, plug into the formula for alpha\n",
    ".5*(np.log((1-.3)/.3))"
   ]
  },
  {
   "cell_type": "code",
   "execution_count": null,
   "metadata": {
    "ExecuteTime": {
     "end_time": "2018-11-14T19:40:39.634381Z",
     "start_time": "2018-11-14T19:40:39.628596Z"
    }
   },
   "outputs": [],
   "source": [
    "#for bestWC, which data points did it incorrectly classify?\n",
    "print(toy_boost.labels == 1) #correct labels\n",
    "print(bestWClassifier.activations*bestWClassifier.polarity > bestWClassifier.threshold*bestWClassifier.polarity)"
   ]
  },
  {
   "cell_type": "markdown",
   "metadata": {},
   "source": [
    "#### Test WEight Updating"
   ]
  },
  {
   "cell_type": "code",
   "execution_count": null,
   "metadata": {
    "ExecuteTime": {
     "end_time": "2018-11-14T19:40:40.005196Z",
     "start_time": "2018-11-14T19:40:39.999169Z"
    }
   },
   "outputs": [],
   "source": [
    "initial_toy_weights"
   ]
  },
  {
   "cell_type": "code",
   "execution_count": null,
   "metadata": {
    "ExecuteTime": {
     "end_time": "2018-11-14T19:40:40.399968Z",
     "start_time": "2018-11-14T19:40:40.396988Z"
    }
   },
   "outputs": [],
   "source": [
    "weights = toy_boost.update_weights(bestWClassifier, initial_toy_weights, alph)"
   ]
  },
  {
   "cell_type": "code",
   "execution_count": null,
   "metadata": {
    "ExecuteTime": {
     "end_time": "2018-11-14T19:40:40.866336Z",
     "start_time": "2018-11-14T19:40:40.861044Z"
    }
   },
   "outputs": [],
   "source": [
    "weights"
   ]
  },
  {
   "cell_type": "code",
   "execution_count": null,
   "metadata": {
    "ExecuteTime": {
     "end_time": "2018-11-14T19:40:41.343829Z",
     "start_time": "2018-11-14T19:40:41.329662Z"
    },
    "scrolled": true
   },
   "outputs": [],
   "source": [
    "min_error_2 = [classifier.calc_error(weights, toy_boost.labels)for classifer in toy_boost.weak_classifiers]\n",
    "print(\"min error: \", min_error_2 )\n",
    "    \n",
    "bestWCIndex = min_error_2.index(min(min_error_2))\n",
    "bestWClassifier = copy.deepcopy(toy_boost.weak_classifiers[bestWCIndex])\n",
    "print(bestWClassifier)\n",
    "print(bestWClassifier.polarity)\n",
    "print(bestWClassifier.threshold)"
   ]
  },
  {
   "cell_type": "code",
   "execution_count": null,
   "metadata": {},
   "outputs": [],
   "source": [
    "#### Test Train Function with Optimization"
   ]
  },
  {
   "cell_type": "code",
   "execution_count": null,
   "metadata": {
    "ExecuteTime": {
     "end_time": "2018-11-16T23:47:29.695873Z",
     "start_time": "2018-11-16T23:47:29.658576Z"
    }
   },
   "outputs": [],
   "source": [
    "%lprun -f toy_boost.train toy_boost.train()"
   ]
  },
  {
   "cell_type": "code",
   "execution_count": null,
   "metadata": {
    "ExecuteTime": {
     "end_time": "2018-11-16T20:09:05.608381Z",
     "start_time": "2018-11-16T20:09:05.591019Z"
    }
   },
   "outputs": [],
   "source": [
    "toy_boost.train()"
   ]
  },
  {
   "cell_type": "code",
   "execution_count": null,
   "metadata": {
    "ExecuteTime": {
     "end_time": "2018-11-14T19:42:05.883475Z",
     "start_time": "2018-11-14T19:42:05.878872Z"
    },
    "scrolled": true
   },
   "outputs": [],
   "source": [
    "[toy_boost.sc_function(img) for img in toy_boost.data]"
   ]
  },
  {
   "cell_type": "code",
   "execution_count": null,
   "metadata": {
    "ExecuteTime": {
     "end_time": "2018-11-14T19:42:02.006536Z",
     "start_time": "2018-11-14T19:42:02.004078Z"
    },
    "scrolled": true
   },
   "outputs": [],
   "source": [
    "toy_boost.set_strong_classifier_scores"
   ]
  },
  {
   "cell_type": "code",
   "execution_count": null,
   "metadata": {
    "ExecuteTime": {
     "end_time": "2018-11-14T19:42:03.697656Z",
     "start_time": "2018-11-14T19:42:03.688041Z"
    }
   },
   "outputs": [],
   "source": [
    "toy_boost.visualizer.strong_classifier_scores"
   ]
  },
  {
   "cell_type": "markdown",
   "metadata": {},
   "source": [
    "Perform hard mining after all the training epochs are over, using the final strong classifier to get the wrong patches, and then restart the training process with the added wrong patches?"
   ]
  }
 ],
 "metadata": {
  "kernelspec": {
   "display_name": "Python 3",
   "language": "python",
   "name": "python3"
  },
  "language_info": {
   "codemirror_mode": {
    "name": "ipython",
    "version": 3
   },
   "file_extension": ".py",
   "mimetype": "text/x-python",
   "name": "python",
   "nbconvert_exporter": "python",
   "pygments_lexer": "ipython3",
   "version": "3.6.6"
  },
  "toc": {
   "base_numbering": 1,
   "nav_menu": {},
   "number_sections": true,
   "sideBar": true,
   "skip_h1_title": false,
   "title_cell": "Table of Contents",
   "title_sidebar": "Contents",
   "toc_cell": false,
   "toc_position": {},
   "toc_section_display": true,
   "toc_window_display": false
  }
 },
 "nbformat": 4,
 "nbformat_minor": 2
}
