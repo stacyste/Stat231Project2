{
 "cells": [
  {
   "cell_type": "code",
   "execution_count": 1,
   "metadata": {
    "ExecuteTime": {
     "end_time": "2018-11-14T21:18:00.923930Z",
     "start_time": "2018-11-14T21:18:00.558279Z"
    }
   },
   "outputs": [],
   "source": [
    "import numpy as np\n",
    "import time\n",
    "import cv2\n",
    "from boosting_classifier import Boosting_Classifier\n",
    "from visualizer import Visualizer\n",
    "from im_process import normalize\n",
    "from utils import *"
   ]
  },
  {
   "cell_type": "code",
   "execution_count": 2,
   "metadata": {
    "ExecuteTime": {
     "end_time": "2018-11-14T21:18:00.927370Z",
     "start_time": "2018-11-14T21:18:00.925170Z"
    }
   },
   "outputs": [],
   "source": [
    "flag_subset = True\n",
    "boosting_type = 'Ada' #'Real' or 'Ada'\n",
    "training_epochs = 100 if not flag_subset else 20\n",
    "act_cache_dir = 'wc_activations.npy' if not flag_subset else 'wc_activations_subset.npy'\n",
    "chosen_wc_cache_dir = 'chosen_wcs.pkl' if not flag_subset else 'chosen_wcs_subset.pkl'"
   ]
  },
  {
   "cell_type": "code",
   "execution_count": 3,
   "metadata": {
    "ExecuteTime": {
     "end_time": "2018-11-14T21:18:01.778142Z",
     "start_time": "2018-11-14T21:18:00.928380Z"
    }
   },
   "outputs": [
    {
     "name": "stdout",
     "output_type": "stream",
     "text": [
      "Load in 200 images, 100 faces, 100 non-faces\n"
     ]
    }
   ],
   "source": [
    "#data configurations\n",
    "pos_data_dir = '../newface16'\n",
    "neg_data_dir = '../nonface16'\n",
    "image_w = 16\n",
    "image_h = 16\n",
    "data, labels = load_data(pos_data_dir, neg_data_dir, image_w, image_h, flag_subset)\n",
    "data = integrate_images(normalize(data))"
   ]
  },
  {
   "cell_type": "code",
   "execution_count": 4,
   "metadata": {
    "ExecuteTime": {
     "end_time": "2018-11-14T21:18:01.781558Z",
     "start_time": "2018-11-14T21:18:01.779593Z"
    }
   },
   "outputs": [],
   "source": [
    "#number of bins for boosting\n",
    "num_bins = 25\n",
    "\n",
    "#number of cpus for parallel computing\n",
    "num_cores = 8 if not flag_subset else 1 #always use 1 when debugging"
   ]
  },
  {
   "cell_type": "code",
   "execution_count": 5,
   "metadata": {
    "ExecuteTime": {
     "end_time": "2018-11-14T21:18:01.815351Z",
     "start_time": "2018-11-14T21:18:01.782799Z"
    }
   },
   "outputs": [],
   "source": [
    "#create Haar filters\n",
    "filters = generate_Haar_filters(4, 4, 16, 16, image_w, image_h, flag_subset)"
   ]
  },
  {
   "cell_type": "code",
   "execution_count": 6,
   "metadata": {
    "ExecuteTime": {
     "end_time": "2018-11-14T21:18:01.819947Z",
     "start_time": "2018-11-14T21:18:01.816387Z"
    }
   },
   "outputs": [],
   "source": [
    "#create visualizer to draw histograms, roc curves and best weak classifier accuracies\n",
    "drawer = Visualizer([1, 2, 4], [1, 2, 4])"
   ]
  },
  {
   "cell_type": "markdown",
   "metadata": {},
   "source": [
    "## Toy example"
   ]
  },
  {
   "cell_type": "code",
   "execution_count": 7,
   "metadata": {
    "ExecuteTime": {
     "end_time": "2018-11-14T21:18:01.824222Z",
     "start_time": "2018-11-14T21:18:01.821539Z"
    }
   },
   "outputs": [],
   "source": [
    "fltr_indices = [0, 100, 300, 500, 800]\n",
    "toy_filters = [filters[i] for i in fltr_indices]#five filters\n",
    "toy_data = np.vstack((np.array(data[0:5, :, :]), np.array(data[190:195, :, :]))) #10 images\n",
    "l1 = list(labels[0:5])\n",
    "l2 = list(labels[190:195])\n",
    "toy_labels =  np.array(l1+ l2)  #10 labels"
   ]
  },
  {
   "cell_type": "code",
   "execution_count": 8,
   "metadata": {
    "ExecuteTime": {
     "end_time": "2018-11-14T21:18:01.828879Z",
     "start_time": "2018-11-14T21:18:01.825608Z"
    }
   },
   "outputs": [],
   "source": [
    "toy_boost = Boosting_Classifier(toy_filters, toy_data, toy_labels, 4, num_bins, drawer, 1, \"Ada\")"
   ]
  },
  {
   "cell_type": "code",
   "execution_count": 9,
   "metadata": {
    "ExecuteTime": {
     "end_time": "2018-11-14T21:18:01.835325Z",
     "start_time": "2018-11-14T21:18:01.830073Z"
    }
   },
   "outputs": [
    {
     "name": "stdout",
     "output_type": "stream",
     "text": [
      "Calcuate activations for 5 weak classifiers, using 10 imags.\n",
      "[Find cached activations, toy_act_dir.npy loading...]\n",
      "[[ 0.36078431  1.46666667 -0.29803922 -1.01960784 -0.15686275  0.54509804\n",
      "   0.88235294 -0.17254902  0.29019608  0.57647059]\n",
      " [ 1.14509804  2.29411765  0.48235294  0.8745098   0.76862745  0.37647059\n",
      "   0.45490196  0.78823529  0.90588235  0.79215686]\n",
      " [-0.58039216 -0.45882353  0.16078431  1.65882353 -0.43529412  0.1254902\n",
      "  -1.2745098  -0.90196078  0.01568627 -0.45490196]\n",
      " [ 4.74117647  5.01568627  3.96862745  1.61568627  3.56470588  4.36078431\n",
      "   6.12156863  1.30196078  1.27843137  5.78039216]\n",
      " [ 0.02352941  0.68627451 -0.02745098  0.34901961  0.30980392  0.28235294\n",
      "  -0.04313725 -0.0627451   0.01568627  0.44705882]]\n"
     ]
    }
   ],
   "source": [
    "activations = toy_boost.calculate_training_activations(\"toy_act_dir.npy\", \"toy_act_dir.npy\")\n",
    "print(activations)"
   ]
  },
  {
   "cell_type": "code",
   "execution_count": 10,
   "metadata": {
    "ExecuteTime": {
     "end_time": "2018-11-14T21:18:01.858956Z",
     "start_time": "2018-11-14T21:18:01.836483Z"
    }
   },
   "outputs": [
    {
     "name": "stdout",
     "output_type": "stream",
     "text": [
      "<weak_classifier.Ada_Weak_Classifier object at 0x7f989fda0e48>\n",
      "threshold:  -0.2585034013605446\n",
      "polarity:  -1\n",
      "min error:  0.29999999999999993\n",
      "alpha:  0.42364893019360195\n",
      "Updated weak classifier attribute:  1\n",
      "strong classifier scores:  [-0.42364893019360195, -0.42364893019360195, 0.42364893019360195, 0.42364893019360195, -0.42364893019360195, -0.42364893019360195, -0.42364893019360195, -0.42364893019360195, -0.42364893019360195, -0.42364893019360195]\n",
      "...\n",
      "<weak_classifier.Ada_Weak_Classifier object at 0x7f989fda0358>\n",
      "threshold:  -0.8554621848739398\n",
      "polarity:  1\n",
      "min error:  0.25900974696901713\n",
      "alpha:  0.525560888664397\n",
      "Updated weak classifier attribute:  2\n",
      "strong classifier scores:  [0.10191195847079504, 0.10191195847079504, 0.9492098188579989, 0.9492098188579989, 0.10191195847079504, 0.10191195847079504, -0.9492098188579989, -0.9492098188579989, 0.10191195847079504, 0.10191195847079504]\n",
      "...\n",
      "<weak_classifier.Ada_Weak_Classifier object at 0x7f989fda08d0>\n",
      "threshold:  0.9243697478991595\n",
      "polarity:  1\n",
      "min error:  0.2582981279197006\n",
      "alpha:  0.5274164602006028\n",
      "Updated weak classifier attribute:  3\n",
      "strong classifier scores:  [0.6293284186713979, 0.6293284186713979, 0.4217933586573961, 0.4217933586573961, -0.4255045017298078, -0.4255045017298078, -1.4766262790586018, -1.4766262790586018, -0.4255045017298078, -0.4255045017298078]\n",
      "...\n",
      "<weak_classifier.Ada_Weak_Classifier object at 0x7f989fa980b8>\n",
      "threshold:  -0.10628251300520264\n",
      "polarity:  -1\n",
      "min error:  0.2517595979981222\n",
      "alpha:  0.5446248317004164\n",
      "Updated weak classifier attribute:  4\n",
      "strong classifier scores:  [0.08470358697098146, 0.08470358697098146, 0.9664181903578125, 0.9664181903578125, 0.11912032997060862, -0.9701293334302242, -2.0212511107590183, -0.9320014473581854, -0.9701293334302242, -0.9701293334302242]\n",
      "...\n"
     ]
    },
    {
     "data": {
      "text/plain": [
       "[[0.42364893019360195,\n",
       "  <weak_classifier.Ada_Weak_Classifier at 0x7f989fda0e48>],\n",
       " [0.525560888664397, <weak_classifier.Ada_Weak_Classifier at 0x7f989fda0358>],\n",
       " [0.5274164602006028, <weak_classifier.Ada_Weak_Classifier at 0x7f989fda08d0>],\n",
       " [0.5446248317004164, <weak_classifier.Ada_Weak_Classifier at 0x7f989fa980b8>]]"
      ]
     },
     "execution_count": 10,
     "metadata": {},
     "output_type": "execute_result"
    }
   ],
   "source": [
    "toy_boost.train()"
   ]
  },
  {
   "cell_type": "code",
   "execution_count": 11,
   "metadata": {
    "ExecuteTime": {
     "end_time": "2018-11-14T21:18:01.863400Z",
     "start_time": "2018-11-14T21:18:01.859998Z"
    },
    "scrolled": true
   },
   "outputs": [
    {
     "data": {
      "text/plain": [
       "[0.08470358697098146,\n",
       " 0.08470358697098146,\n",
       " 0.9664181903578125,\n",
       " 0.9664181903578125,\n",
       " 0.11912032997060862,\n",
       " -0.9701293334302242,\n",
       " -2.0212511107590183,\n",
       " -0.9320014473581854,\n",
       " -0.9701293334302242,\n",
       " -0.9701293334302242]"
      ]
     },
     "execution_count": 11,
     "metadata": {},
     "output_type": "execute_result"
    }
   ],
   "source": [
    "[toy_boost.sc_function(img) for img in toy_boost.data]"
   ]
  },
  {
   "cell_type": "code",
   "execution_count": 12,
   "metadata": {
    "ExecuteTime": {
     "end_time": "2018-11-14T21:18:01.868955Z",
     "start_time": "2018-11-14T21:18:01.864600Z"
    }
   },
   "outputs": [
    {
     "data": {
      "text/plain": [
       "{0: [-0.42364893019360195,\n",
       "  -0.42364893019360195,\n",
       "  0.42364893019360195,\n",
       "  0.42364893019360195,\n",
       "  -0.42364893019360195,\n",
       "  -0.42364893019360195,\n",
       "  -0.42364893019360195,\n",
       "  -0.42364893019360195,\n",
       "  -0.42364893019360195,\n",
       "  -0.42364893019360195],\n",
       " 1: [0.10191195847079504,\n",
       "  0.10191195847079504,\n",
       "  0.9492098188579989,\n",
       "  0.9492098188579989,\n",
       "  0.10191195847079504,\n",
       "  0.10191195847079504,\n",
       "  -0.9492098188579989,\n",
       "  -0.9492098188579989,\n",
       "  0.10191195847079504,\n",
       "  0.10191195847079504],\n",
       " 2: [0.6293284186713979,\n",
       "  0.6293284186713979,\n",
       "  0.4217933586573961,\n",
       "  0.4217933586573961,\n",
       "  -0.4255045017298078,\n",
       "  -0.4255045017298078,\n",
       "  -1.4766262790586018,\n",
       "  -1.4766262790586018,\n",
       "  -0.4255045017298078,\n",
       "  -0.4255045017298078],\n",
       " 3: [0.08470358697098146,\n",
       "  0.08470358697098146,\n",
       "  0.9664181903578125,\n",
       "  0.9664181903578125,\n",
       "  0.11912032997060862,\n",
       "  -0.9701293334302242,\n",
       "  -2.0212511107590183,\n",
       "  -0.9320014473581854,\n",
       "  -0.9701293334302242,\n",
       "  -0.9701293334302242]}"
      ]
     },
     "execution_count": 12,
     "metadata": {},
     "output_type": "execute_result"
    }
   ],
   "source": [
    "toy_boost.visualizer.strong_classifier_scores"
   ]
  },
  {
   "cell_type": "code",
   "execution_count": 13,
   "metadata": {
    "ExecuteTime": {
     "end_time": "2018-11-14T21:18:03.114151Z",
     "start_time": "2018-11-14T21:18:01.870047Z"
    }
   },
   "outputs": [
    {
     "data": {
      "image/png": "[encoded data removed]",
      "text/plain": [
       "<Figure size 432x288 with 1 Axes>"
      ]
     },
     "metadata": {
      "needs_background": "light"
     },
     "output_type": "display_data"
    },
    {
     "data": {
      "image/png": "[encoded data removed]",
      "text/plain": [
       "<Figure size 432x288 with 1 Axes>"
      ]
     },
     "metadata": {
      "needs_background": "light"
     },
     "output_type": "display_data"
    },
    {
     "data": {
      "image/png": "[encoded data removed]",
      "text/plain": [
       "<Figure size 432x288 with 1 Axes>"
      ]
     },
     "metadata": {
      "needs_background": "light"
     },
     "output_type": "display_data"
    },
    {
     "data": {
      "image/png": "[encoded data removed]",
      "text/plain": [
       "<Figure size 432x288 with 1 Axes>"
      ]
     },
     "metadata": {
      "needs_background": "light"
     },
     "output_type": "display_data"
    },
    {
     "data": {
      "image/png": "[encoded data removed]",
      "text/plain": [
       "<Figure size 432x288 with 1 Axes>"
      ]
     },
     "metadata": {
      "needs_background": "light"
     },
     "output_type": "display_data"
    }
   ],
   "source": [
    "toy_boost.visualize()"
   ]
  }
 ],
 "metadata": {
  "kernelspec": {
   "display_name": "Python 3",
   "language": "python",
   "name": "python3"
  },
  "language_info": {
   "codemirror_mode": {
    "name": "ipython",
    "version": 3
   },
   "file_extension": ".py",
   "mimetype": "text/x-python",
   "name": "python",
   "nbconvert_exporter": "python",
   "pygments_lexer": "ipython3",
   "version": "3.6.6"
  },
  "toc": {
   "base_numbering": 1,
   "nav_menu": {},
   "number_sections": true,
   "sideBar": true,
   "skip_h1_title": false,
   "title_cell": "Table of Contents",
   "title_sidebar": "Contents",
   "toc_cell": false,
   "toc_position": {},
   "toc_section_display": true,
   "toc_window_display": false
  }
 },
 "nbformat": 4,
 "nbformat_minor": 2
}
