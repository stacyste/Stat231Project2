{
 "cells": [
  {
   "cell_type": "code",
   "execution_count": 1,
   "metadata": {
    "ExecuteTime": {
     "end_time": "2018-11-17T21:16:09.784824Z",
     "start_time": "2018-11-17T21:16:09.404632Z"
    }
   },
   "outputs": [],
   "source": [
    "import numpy as np\n",
    "import time\n",
    "import cv2\n",
    "from boosting_classifier import Boosting_Classifier\n",
    "from visualizer import Visualizer\n",
    "from im_process import normalize\n",
    "from utils import *"
   ]
  },
  {
   "cell_type": "code",
   "execution_count": 2,
   "metadata": {
    "ExecuteTime": {
     "end_time": "2018-11-17T21:16:11.404690Z",
     "start_time": "2018-11-17T21:16:11.402373Z"
    }
   },
   "outputs": [],
   "source": [
    "flag_subset = True\n",
    "boosting_type = 'Ada' #'Real' or 'Ada'\n",
    "training_epochs = 100 if not flag_subset else 20\n",
    "act_cache_dir = 'wc_activations.npy' if not flag_subset else 'wc_activations_subset.npy'\n",
    "chosen_wc_cache_dir = 'chosen_wcs.pkl' if not flag_subset else 'chosen_wcs_subset.pkl'"
   ]
  },
  {
   "cell_type": "code",
   "execution_count": 3,
   "metadata": {
    "ExecuteTime": {
     "end_time": "2018-11-17T21:16:12.750363Z",
     "start_time": "2018-11-17T21:16:11.867727Z"
    }
   },
   "outputs": [
    {
     "name": "stdout",
     "output_type": "stream",
     "text": [
      "Load in 200 images, 100 faces, 100 non-faces\n"
     ]
    }
   ],
   "source": [
    "#data configurations\n",
    "pos_data_dir = '../newface16'\n",
    "neg_data_dir = '../nonface16'\n",
    "image_w = 16\n",
    "image_h = 16\n",
    "data, labels = load_data(pos_data_dir, neg_data_dir, image_w, image_h, flag_subset)\n",
    "data = integrate_images(normalize(data))"
   ]
  },
  {
   "cell_type": "code",
   "execution_count": 4,
   "metadata": {
    "ExecuteTime": {
     "end_time": "2018-11-17T21:16:12.753742Z",
     "start_time": "2018-11-17T21:16:12.751857Z"
    }
   },
   "outputs": [],
   "source": [
    "#number of bins for boosting\n",
    "num_bins = 25\n",
    "\n",
    "#number of cpus for parallel computing\n",
    "num_cores = 8 if not flag_subset else 1 #always use 1 when debugging"
   ]
  },
  {
   "cell_type": "code",
   "execution_count": 5,
   "metadata": {
    "ExecuteTime": {
     "end_time": "2018-11-17T21:16:13.360732Z",
     "start_time": "2018-11-17T21:16:13.325736Z"
    }
   },
   "outputs": [],
   "source": [
    "#create Haar filters\n",
    "filters = generate_Haar_filters(4, 4, 16, 16, image_w, image_h, flag_subset)"
   ]
  },
  {
   "cell_type": "code",
   "execution_count": 6,
   "metadata": {
    "ExecuteTime": {
     "end_time": "2018-11-17T21:16:13.867132Z",
     "start_time": "2018-11-17T21:16:13.864997Z"
    }
   },
   "outputs": [],
   "source": [
    "#create visualizer to draw histograms, roc curves and best weak classifier accuracies\n",
    "drawer = Visualizer([1, 2, 4], [1, 2, 4])"
   ]
  },
  {
   "cell_type": "markdown",
   "metadata": {},
   "source": [
    "## Toy example"
   ]
  },
  {
   "cell_type": "code",
   "execution_count": 7,
   "metadata": {
    "ExecuteTime": {
     "end_time": "2018-11-17T21:16:17.385290Z",
     "start_time": "2018-11-17T21:16:17.379147Z"
    }
   },
   "outputs": [],
   "source": [
    "fltr_indices = [0, 100, 300, 500, 800]\n",
    "toy_filters = [filters[i] for i in fltr_indices]#five filters\n",
    "toy_data = np.vstack((np.array(data[0:5, :, :]), np.array(data[190:195, :, :]))) #10 images\n",
    "l1 = list(labels[0:5])\n",
    "l2 = list(labels[190:195])\n",
    "toy_labels =  np.array(l1+ l2)  #10 labels"
   ]
  },
  {
   "cell_type": "code",
   "execution_count": 8,
   "metadata": {
    "ExecuteTime": {
     "end_time": "2018-11-17T21:16:18.093477Z",
     "start_time": "2018-11-17T21:16:18.091142Z"
    }
   },
   "outputs": [],
   "source": [
    "toy_boost = Boosting_Classifier(toy_filters, toy_data, toy_labels, 4, num_bins, drawer, 1, \"Ada\")"
   ]
  },
  {
   "cell_type": "code",
   "execution_count": 9,
   "metadata": {
    "ExecuteTime": {
     "end_time": "2018-11-17T21:16:18.536592Z",
     "start_time": "2018-11-17T21:16:18.525297Z"
    },
    "scrolled": true
   },
   "outputs": [
    {
     "name": "stdout",
     "output_type": "stream",
     "text": [
      "Calcuate activations for 5 weak classifiers, using 10 imags.\n",
      "[Find cached activations, toy_act_dir.npy loading...]\n",
      "[[ 0.36078431  1.46666667 -0.29803922 -1.01960784 -0.15686275  0.54509804\n",
      "   0.88235294 -0.17254902  0.29019608  0.57647059]\n",
      " [ 1.14509804  2.29411765  0.48235294  0.8745098   0.76862745  0.37647059\n",
      "   0.45490196  0.78823529  0.90588235  0.79215686]\n",
      " [-0.58039216 -0.45882353  0.16078431  1.65882353 -0.43529412  0.1254902\n",
      "  -1.2745098  -0.90196078  0.01568627 -0.45490196]\n",
      " [ 4.74117647  5.01568627  3.96862745  1.61568627  3.56470588  4.36078431\n",
      "   6.12156863  1.30196078  1.27843137  5.78039216]\n",
      " [ 0.02352941  0.68627451 -0.02745098  0.34901961  0.30980392  0.28235294\n",
      "  -0.04313725 -0.0627451   0.01568627  0.44705882]]\n"
     ]
    }
   ],
   "source": [
    "activations = toy_boost.calculate_training_activations(\"toy_act_dir.npy\", \"toy_act_dir.npy\")\n",
    "print(activations)"
   ]
  },
  {
   "cell_type": "code",
   "execution_count": 10,
   "metadata": {
    "ExecuteTime": {
     "end_time": "2018-11-17T21:16:19.718027Z",
     "start_time": "2018-11-17T21:16:19.711892Z"
    }
   },
   "outputs": [
    {
     "data": {
      "text/plain": [
       "(10,)"
      ]
     },
     "execution_count": 10,
     "metadata": {},
     "output_type": "execute_result"
    }
   ],
   "source": [
    "activations[0].shape"
   ]
  },
  {
   "cell_type": "code",
   "execution_count": 11,
   "metadata": {
    "ExecuteTime": {
     "end_time": "2018-11-17T21:16:21.967654Z",
     "start_time": "2018-11-17T21:16:21.964475Z"
    }
   },
   "outputs": [
    {
     "name": "stdout",
     "output_type": "stream",
     "text": [
      "[Find cached thresholds, toy_thresholds_dir.npy loading...]\n"
     ]
    }
   ],
   "source": [
    "ths = toy_boost.calculate_thresholds(\"toy_thresholds_dir.npy\", \"toy_thresholds_dir.npy\")"
   ]
  },
  {
   "cell_type": "code",
   "execution_count": 12,
   "metadata": {
    "ExecuteTime": {
     "end_time": "2018-11-17T21:16:30.470317Z",
     "start_time": "2018-11-17T21:16:30.465090Z"
    }
   },
   "outputs": [
    {
     "data": {
      "text/plain": [
       "array([[-1., -1., -1.,  0., -1., -1., -1., -1., -1., -1.],\n",
       "       [-1., -1., -1.,  1., -1., -1., -1., -1., -1., -1.],\n",
       "       [-1., -1., -1.,  1., -1., -1., -1., -1., -1., -1.],\n",
       "       [-1., -1., -1.,  1., -1., -1., -1., -1., -1., -1.],\n",
       "       [-1., -1., -1.,  1., -1., -1., -1., -1., -1., -1.],\n",
       "       [-1., -1., -1.,  1., -1., -1., -1., -1., -1., -1.],\n",
       "       [-1., -1., -1.,  1., -1., -1., -1., -1., -1., -1.],\n",
       "       [-1., -1.,  1.,  1., -1., -1., -1., -1., -1., -1.],\n",
       "       [-1., -1.,  1.,  1., -1., -1., -1., -1., -1., -1.],\n",
       "       [-1., -1.,  1.,  1.,  1., -1., -1.,  1., -1., -1.],\n",
       "       [-1., -1.,  1.,  1.,  1., -1., -1.,  1., -1., -1.],\n",
       "       [-1., -1.,  1.,  1.,  1., -1., -1.,  1., -1., -1.],\n",
       "       [-1., -1.,  1.,  1.,  1., -1., -1.,  1., -1., -1.],\n",
       "       [-1., -1.,  1.,  1.,  1., -1., -1.,  1.,  1., -1.],\n",
       "       [ 1., -1.,  1.,  1.,  1., -1., -1.,  1.,  1., -1.],\n",
       "       [ 1., -1.,  1.,  1.,  1., -1., -1.,  1.,  1., -1.],\n",
       "       [ 1., -1.,  1.,  1.,  1.,  1., -1.,  1.,  1.,  1.],\n",
       "       [ 1., -1.,  1.,  1.,  1.,  1., -1.,  1.,  1.,  1.],\n",
       "       [ 1., -1.,  1.,  1.,  1.,  1., -1.,  1.,  1.,  1.],\n",
       "       [ 1., -1.,  1.,  1.,  1.,  1.,  1.,  1.,  1.,  1.],\n",
       "       [ 1., -1.,  1.,  1.,  1.,  1.,  1.,  1.,  1.,  1.],\n",
       "       [ 1., -1.,  1.,  1.,  1.,  1.,  1.,  1.,  1.,  1.],\n",
       "       [ 1., -1.,  1.,  1.,  1.,  1.,  1.,  1.,  1.,  1.],\n",
       "       [ 1., -1.,  1.,  1.,  1.,  1.,  1.,  1.,  1.,  1.],\n",
       "       [ 1.,  0.,  1.,  1.,  1.,  1.,  1.,  1.,  1.,  1.]])"
      ]
     },
     "execution_count": 12,
     "metadata": {},
     "output_type": "execute_result"
    }
   ],
   "source": [
    "np.sign(np.subtract.outer(ths[0], activations[0]))"
   ]
  },
  {
   "cell_type": "code",
   "execution_count": null,
   "metadata": {
    "ExecuteTime": {
     "end_time": "2018-11-17T03:14:09.098612Z",
     "start_time": "2018-11-17T03:14:09.072060Z"
    },
    "scrolled": true
   },
   "outputs": [],
   "source": [
    "toy_boost.train('toy_cache_wc.pkl')"
   ]
  },
  {
   "cell_type": "code",
   "execution_count": null,
   "metadata": {
    "ExecuteTime": {
     "end_time": "2018-11-17T03:14:11.568995Z",
     "start_time": "2018-11-17T03:14:11.566126Z"
    }
   },
   "outputs": [],
   "source": [
    "toy_boost.chosen_wcs"
   ]
  },
  {
   "cell_type": "code",
   "execution_count": null,
   "metadata": {
    "ExecuteTime": {
     "end_time": "2018-11-15T22:16:00.158010Z",
     "start_time": "2018-11-15T22:16:00.156007Z"
    }
   },
   "outputs": [],
   "source": [
    "toy_boost.load_trained_wcs('toy_cache_wc.pkl')"
   ]
  },
  {
   "cell_type": "code",
   "execution_count": null,
   "metadata": {
    "ExecuteTime": {
     "end_time": "2018-11-15T22:16:00.162775Z",
     "start_time": "2018-11-15T22:16:00.159716Z"
    }
   },
   "outputs": [],
   "source": [
    "toy_boost.chosen_wcs"
   ]
  },
  {
   "cell_type": "code",
   "execution_count": null,
   "metadata": {
    "ExecuteTime": {
     "end_time": "2018-11-17T03:14:16.152098Z",
     "start_time": "2018-11-17T03:14:16.148355Z"
    },
    "scrolled": true
   },
   "outputs": [],
   "source": [
    "[toy_boost.sc_function(img) for img in toy_boost.data]"
   ]
  },
  {
   "cell_type": "code",
   "execution_count": null,
   "metadata": {
    "ExecuteTime": {
     "end_time": "2018-11-17T03:14:19.110051Z",
     "start_time": "2018-11-17T03:14:19.106816Z"
    }
   },
   "outputs": [],
   "source": [
    "toy_boost.visualizer.strong_classifier_scores"
   ]
  },
  {
   "cell_type": "code",
   "execution_count": null,
   "metadata": {
    "ExecuteTime": {
     "end_time": "2018-11-17T03:14:24.084969Z",
     "start_time": "2018-11-17T03:14:23.334790Z"
    }
   },
   "outputs": [],
   "source": [
    "toy_boost.visualize()"
   ]
  },
  {
   "cell_type": "code",
   "execution_count": null,
   "metadata": {},
   "outputs": [],
   "source": []
  }
 ],
 "metadata": {
  "kernelspec": {
   "display_name": "Python 3",
   "language": "python",
   "name": "python3"
  },
  "language_info": {
   "codemirror_mode": {
    "name": "ipython",
    "version": 3
   },
   "file_extension": ".py",
   "mimetype": "text/x-python",
   "name": "python",
   "nbconvert_exporter": "python",
   "pygments_lexer": "ipython3",
   "version": "3.6.6"
  },
  "toc": {
   "base_numbering": 1,
   "nav_menu": {},
   "number_sections": true,
   "sideBar": true,
   "skip_h1_title": false,
   "title_cell": "Table of Contents",
   "title_sidebar": "Contents",
   "toc_cell": false,
   "toc_position": {},
   "toc_section_display": true,
   "toc_window_display": false
  }
 },
 "nbformat": 4,
 "nbformat_minor": 2
}
