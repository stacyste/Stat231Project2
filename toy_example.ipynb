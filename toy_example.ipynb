{
 "cells": [
  {
   "cell_type": "code",
   "execution_count": 1,
   "metadata": {
    "ExecuteTime": {
     "end_time": "2018-11-17T17:47:06.677993Z",
     "start_time": "2018-11-17T17:47:06.311425Z"
    }
   },
   "outputs": [],
   "source": [
    "import numpy as np\n",
    "import time\n",
    "import cv2\n",
    "from boosting_classifier import Boosting_Classifier\n",
    "from visualizer import Visualizer\n",
    "from im_process import normalize\n",
    "from utils import *"
   ]
  },
  {
   "cell_type": "code",
   "execution_count": 2,
   "metadata": {
    "ExecuteTime": {
     "end_time": "2018-11-17T17:47:06.681732Z",
     "start_time": "2018-11-17T17:47:06.679278Z"
    }
   },
   "outputs": [],
   "source": [
    "flag_subset = True\n",
    "boosting_type = 'Ada' #'Real' or 'Ada'\n",
    "training_epochs = 100 if not flag_subset else 20\n",
    "act_cache_dir = 'wc_activations.npy' if not flag_subset else 'wc_activations_subset.npy'\n",
    "chosen_wc_cache_dir = 'chosen_wcs.pkl' if not flag_subset else 'chosen_wcs_subset.pkl'"
   ]
  },
  {
   "cell_type": "code",
   "execution_count": 3,
   "metadata": {
    "ExecuteTime": {
     "end_time": "2018-11-17T17:47:07.538740Z",
     "start_time": "2018-11-17T17:47:06.682952Z"
    }
   },
   "outputs": [
    {
     "name": "stdout",
     "output_type": "stream",
     "text": [
      "Load in 200 images, 100 faces, 100 non-faces\n"
     ]
    }
   ],
   "source": [
    "#data configurations\n",
    "pos_data_dir = '../newface16'\n",
    "neg_data_dir = '../nonface16'\n",
    "image_w = 16\n",
    "image_h = 16\n",
    "data, labels = load_data(pos_data_dir, neg_data_dir, image_w, image_h, flag_subset)\n",
    "data = integrate_images(normalize(data))"
   ]
  },
  {
   "cell_type": "code",
   "execution_count": 4,
   "metadata": {
    "ExecuteTime": {
     "end_time": "2018-11-17T17:47:07.542399Z",
     "start_time": "2018-11-17T17:47:07.540136Z"
    }
   },
   "outputs": [],
   "source": [
    "#number of bins for boosting\n",
    "num_bins = 25\n",
    "\n",
    "#number of cpus for parallel computing\n",
    "num_cores = 8 if not flag_subset else 1 #always use 1 when debugging"
   ]
  },
  {
   "cell_type": "code",
   "execution_count": 5,
   "metadata": {
    "ExecuteTime": {
     "end_time": "2018-11-17T17:47:07.582795Z",
     "start_time": "2018-11-17T17:47:07.544151Z"
    }
   },
   "outputs": [],
   "source": [
    "#create Haar filters\n",
    "filters = generate_Haar_filters(4, 4, 16, 16, image_w, image_h, flag_subset)"
   ]
  },
  {
   "cell_type": "code",
   "execution_count": 6,
   "metadata": {
    "ExecuteTime": {
     "end_time": "2018-11-17T17:47:07.587527Z",
     "start_time": "2018-11-17T17:47:07.584181Z"
    }
   },
   "outputs": [],
   "source": [
    "#create visualizer to draw histograms, roc curves and best weak classifier accuracies\n",
    "drawer = Visualizer([1, 2, 4], [1, 2, 4])"
   ]
  },
  {
   "cell_type": "markdown",
   "metadata": {},
   "source": [
    "## Toy example"
   ]
  },
  {
   "cell_type": "code",
   "execution_count": 7,
   "metadata": {
    "ExecuteTime": {
     "end_time": "2018-11-17T17:47:08.561218Z",
     "start_time": "2018-11-17T17:47:08.557958Z"
    }
   },
   "outputs": [],
   "source": [
    "fltr_indices = [0, 100, 300, 500, 800]\n",
    "toy_filters = [filters[i] for i in fltr_indices]#five filters\n",
    "toy_data = np.vstack((np.array(data[0:5, :, :]), np.array(data[190:195, :, :]))) #10 images\n",
    "l1 = list(labels[0:5])\n",
    "l2 = list(labels[190:195])\n",
    "toy_labels =  np.array(l1+ l2)  #10 labels"
   ]
  },
  {
   "cell_type": "code",
   "execution_count": 8,
   "metadata": {
    "ExecuteTime": {
     "end_time": "2018-11-17T17:47:09.990327Z",
     "start_time": "2018-11-17T17:47:09.988240Z"
    }
   },
   "outputs": [],
   "source": [
    "toy_boost = Boosting_Classifier(toy_filters, toy_data, toy_labels, 4, num_bins, drawer, 1, \"Ada\")"
   ]
  },
  {
   "cell_type": "code",
   "execution_count": 9,
   "metadata": {
    "ExecuteTime": {
     "end_time": "2018-11-17T17:47:10.983212Z",
     "start_time": "2018-11-17T17:47:10.979605Z"
    }
   },
   "outputs": [
    {
     "name": "stdout",
     "output_type": "stream",
     "text": [
      "Calcuate activations for 5 weak classifiers, using 10 imags.\n",
      "[Find cached activations, toy_act_dir.npy loading...]\n",
      "[[ 0.36078431  1.46666667 -0.29803922 -1.01960784 -0.15686275  0.54509804\n",
      "   0.88235294 -0.17254902  0.29019608  0.57647059]\n",
      " [ 1.14509804  2.29411765  0.48235294  0.8745098   0.76862745  0.37647059\n",
      "   0.45490196  0.78823529  0.90588235  0.79215686]\n",
      " [-0.58039216 -0.45882353  0.16078431  1.65882353 -0.43529412  0.1254902\n",
      "  -1.2745098  -0.90196078  0.01568627 -0.45490196]\n",
      " [ 4.74117647  5.01568627  3.96862745  1.61568627  3.56470588  4.36078431\n",
      "   6.12156863  1.30196078  1.27843137  5.78039216]\n",
      " [ 0.02352941  0.68627451 -0.02745098  0.34901961  0.30980392  0.28235294\n",
      "  -0.04313725 -0.0627451   0.01568627  0.44705882]]\n"
     ]
    }
   ],
   "source": [
    "activations = toy_boost.calculate_training_activations(\"toy_act_dir.npy\", \"toy_act_dir.npy\")\n",
    "print(activations)"
   ]
  },
  {
   "cell_type": "code",
   "execution_count": 13,
   "metadata": {
    "ExecuteTime": {
     "end_time": "2018-11-17T18:03:33.801386Z",
     "start_time": "2018-11-17T18:03:33.797018Z"
    }
   },
   "outputs": [
    {
     "name": "stdout",
     "output_type": "stream",
     "text": [
      "[Find cached thresholds, toy_thresholds_dir.npy loading...]\n"
     ]
    },
    {
     "data": {
      "text/plain": [
       "array([[-1.01960784e+00, -9.16013072e-01, -8.12418301e-01,\n",
       "        -7.08823529e-01, -6.05228758e-01, -5.01633987e-01,\n",
       "        -3.98039216e-01, -2.94444444e-01, -1.90849673e-01,\n",
       "        -8.72549020e-02,  1.63398693e-02,  1.19934641e-01,\n",
       "         2.23529412e-01,  3.27124183e-01,  4.30718954e-01,\n",
       "         5.34313725e-01,  6.37908497e-01,  7.41503268e-01,\n",
       "         8.45098039e-01,  9.48692810e-01,  1.05228758e+00,\n",
       "         1.15588235e+00,  1.25947712e+00,  1.36307190e+00,\n",
       "         1.46666667e+00],\n",
       "       [ 3.76470588e-01,  4.56372549e-01,  5.36274510e-01,\n",
       "         6.16176471e-01,  6.96078431e-01,  7.75980392e-01,\n",
       "         8.55882353e-01,  9.35784314e-01,  1.01568627e+00,\n",
       "         1.09558824e+00,  1.17549020e+00,  1.25539216e+00,\n",
       "         1.33529412e+00,  1.41519608e+00,  1.49509804e+00,\n",
       "         1.57500000e+00,  1.65490196e+00,  1.73480392e+00,\n",
       "         1.81470588e+00,  1.89460784e+00,  1.97450980e+00,\n",
       "         2.05441176e+00,  2.13431373e+00,  2.21421569e+00,\n",
       "         2.29411765e+00],\n",
       "       [-1.27450980e+00, -1.15228758e+00, -1.03006536e+00,\n",
       "        -9.07843137e-01, -7.85620915e-01, -6.63398693e-01,\n",
       "        -5.41176471e-01, -4.18954248e-01, -2.96732026e-01,\n",
       "        -1.74509804e-01, -5.22875817e-02,  6.99346405e-02,\n",
       "         1.92156863e-01,  3.14379085e-01,  4.36601307e-01,\n",
       "         5.58823529e-01,  6.81045752e-01,  8.03267974e-01,\n",
       "         9.25490196e-01,  1.04771242e+00,  1.16993464e+00,\n",
       "         1.29215686e+00,  1.41437908e+00,  1.53660131e+00,\n",
       "         1.65882353e+00],\n",
       "       [ 1.27843137e+00,  1.48022876e+00,  1.68202614e+00,\n",
       "         1.88382353e+00,  2.08562092e+00,  2.28741830e+00,\n",
       "         2.48921569e+00,  2.69101307e+00,  2.89281046e+00,\n",
       "         3.09460784e+00,  3.29640523e+00,  3.49820261e+00,\n",
       "         3.70000000e+00,  3.90179739e+00,  4.10359477e+00,\n",
       "         4.30539216e+00,  4.50718954e+00,  4.70898693e+00,\n",
       "         4.91078431e+00,  5.11258170e+00,  5.31437908e+00,\n",
       "         5.51617647e+00,  5.71797386e+00,  5.91977124e+00,\n",
       "         6.12156863e+00],\n",
       "       [-6.27450980e-02, -3.15359477e-02, -3.26797386e-04,\n",
       "         3.08823529e-02,  6.20915033e-02,  9.33006536e-02,\n",
       "         1.24509804e-01,  1.55718954e-01,  1.86928105e-01,\n",
       "         2.18137255e-01,  2.49346405e-01,  2.80555556e-01,\n",
       "         3.11764706e-01,  3.42973856e-01,  3.74183007e-01,\n",
       "         4.05392157e-01,  4.36601307e-01,  4.67810458e-01,\n",
       "         4.99019608e-01,  5.30228758e-01,  5.61437908e-01,\n",
       "         5.92647059e-01,  6.23856209e-01,  6.55065359e-01,\n",
       "         6.86274510e-01]])"
      ]
     },
     "execution_count": 13,
     "metadata": {},
     "output_type": "execute_result"
    }
   ],
   "source": [
    "toy_boost.calculate_thresholds(\"toy_thresholds_dir.npy\", \"toy_thresholds_dir.npy\")"
   ]
  },
  {
   "cell_type": "code",
   "execution_count": null,
   "metadata": {
    "ExecuteTime": {
     "end_time": "2018-11-17T03:14:09.098612Z",
     "start_time": "2018-11-17T03:14:09.072060Z"
    },
    "scrolled": true
   },
   "outputs": [],
   "source": [
    "toy_boost.train('toy_cache_wc.pkl')"
   ]
  },
  {
   "cell_type": "code",
   "execution_count": null,
   "metadata": {
    "ExecuteTime": {
     "end_time": "2018-11-17T03:14:11.568995Z",
     "start_time": "2018-11-17T03:14:11.566126Z"
    }
   },
   "outputs": [],
   "source": [
    "toy_boost.chosen_wcs"
   ]
  },
  {
   "cell_type": "code",
   "execution_count": null,
   "metadata": {
    "ExecuteTime": {
     "end_time": "2018-11-15T22:16:00.158010Z",
     "start_time": "2018-11-15T22:16:00.156007Z"
    }
   },
   "outputs": [],
   "source": [
    "toy_boost.load_trained_wcs('toy_cache_wc.pkl')"
   ]
  },
  {
   "cell_type": "code",
   "execution_count": null,
   "metadata": {
    "ExecuteTime": {
     "end_time": "2018-11-15T22:16:00.162775Z",
     "start_time": "2018-11-15T22:16:00.159716Z"
    }
   },
   "outputs": [],
   "source": [
    "toy_boost.chosen_wcs"
   ]
  },
  {
   "cell_type": "code",
   "execution_count": null,
   "metadata": {
    "ExecuteTime": {
     "end_time": "2018-11-17T03:14:16.152098Z",
     "start_time": "2018-11-17T03:14:16.148355Z"
    },
    "scrolled": true
   },
   "outputs": [],
   "source": [
    "[toy_boost.sc_function(img) for img in toy_boost.data]"
   ]
  },
  {
   "cell_type": "code",
   "execution_count": null,
   "metadata": {
    "ExecuteTime": {
     "end_time": "2018-11-17T03:14:19.110051Z",
     "start_time": "2018-11-17T03:14:19.106816Z"
    }
   },
   "outputs": [],
   "source": [
    "toy_boost.visualizer.strong_classifier_scores"
   ]
  },
  {
   "cell_type": "code",
   "execution_count": null,
   "metadata": {
    "ExecuteTime": {
     "end_time": "2018-11-17T03:14:24.084969Z",
     "start_time": "2018-11-17T03:14:23.334790Z"
    }
   },
   "outputs": [],
   "source": [
    "toy_boost.visualize()"
   ]
  },
  {
   "cell_type": "code",
   "execution_count": null,
   "metadata": {},
   "outputs": [],
   "source": []
  }
 ],
 "metadata": {
  "kernelspec": {
   "display_name": "Python 3",
   "language": "python",
   "name": "python3"
  },
  "language_info": {
   "codemirror_mode": {
    "name": "ipython",
    "version": 3
   },
   "file_extension": ".py",
   "mimetype": "text/x-python",
   "name": "python",
   "nbconvert_exporter": "python",
   "pygments_lexer": "ipython3",
   "version": "3.6.6"
  },
  "toc": {
   "base_numbering": 1,
   "nav_menu": {},
   "number_sections": true,
   "sideBar": true,
   "skip_h1_title": false,
   "title_cell": "Table of Contents",
   "title_sidebar": "Contents",
   "toc_cell": false,
   "toc_position": {},
   "toc_section_display": true,
   "toc_window_display": false
  }
 },
 "nbformat": 4,
 "nbformat_minor": 2
}
